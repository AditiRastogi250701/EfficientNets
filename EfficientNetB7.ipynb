{
  "nbformat": 4,
  "nbformat_minor": 0,
  "metadata": {
    "colab": {
      "name": "EfficientNetB7.ipynb",
      "provenance": [],
      "authorship_tag": "ABX9TyOiwGChtiLrzV/SEyTl0UgV",
      "include_colab_link": true
    },
    "kernelspec": {
      "name": "python3",
      "display_name": "Python 3"
    },
    "language_info": {
      "name": "python"
    }
  },
  "cells": [
    {
      "cell_type": "markdown",
      "metadata": {
        "id": "view-in-github",
        "colab_type": "text"
      },
      "source": [
        "<a href=\"https://colab.research.google.com/github/AditiRastogi250701/EfficientNets/blob/main/EfficientNetB7.ipynb\" target=\"_parent\"><img src=\"https://colab.research.google.com/assets/colab-badge.svg\" alt=\"Open In Colab\"/></a>"
      ]
    },
    {
      "cell_type": "markdown",
      "source": [
        "## EfficientNetB7"
      ],
      "metadata": {
        "id": "IJaYuNwozkqV"
      }
    },
    {
      "cell_type": "code",
      "execution_count": 1,
      "metadata": {
        "id": "r-PYWYcuJZj5"
      },
      "outputs": [],
      "source": [
        "import sys\n",
        "import os\n",
        "import numpy as np\n",
        "import pandas as pd\n",
        "import matplotlib.pyplot as plt\n",
        "import seaborn as sns\n",
        "import cv2\n",
        "import tensorflow as tf\n",
        "import PIL.Image as Image\n",
        "from tensorflow import keras\n",
        "from tensorflow.keras.applications.imagenet_utils import decode_predictions"
      ]
    },
    {
      "cell_type": "code",
      "source": [
        "model=tf.keras.applications.efficientnet.EfficientNetB7(\n",
        "    include_top=True, \n",
        "    weights='imagenet', \n",
        "    input_tensor=None, \n",
        "    input_shape=None, \n",
        "    pooling=None, \n",
        "    classes=1000, \n",
        "    classifier_activation='softmax')"
      ],
      "metadata": {
        "id": "OwjwCUlLMjiF",
        "colab": {
          "base_uri": "https://localhost:8080/"
        },
        "outputId": "caa73a48-031f-4f3e-8208-fccb5e067847"
      },
      "execution_count": 2,
      "outputs": [
        {
          "output_type": "stream",
          "name": "stdout",
          "text": [
            "Downloading data from https://storage.googleapis.com/keras-applications/efficientnetb7.h5\n",
            "268328960/268326632 [==============================] - 2s 0us/step\n",
            "268337152/268326632 [==============================] - 2s 0us/step\n"
          ]
        }
      ]
    },
    {
      "cell_type": "code",
      "source": [
        "img=Image.open(r'/content/B7-SAMPLE.jpg')\n",
        "image=Image.open(r'/content/B7-SAMPLE.jpg')"
      ],
      "metadata": {
        "id": "yr32A-7wMjfS"
      },
      "execution_count": 3,
      "outputs": []
    },
    {
      "cell_type": "code",
      "source": [
        "img=cv2.resize(np.float32(img),(600,600))"
      ],
      "metadata": {
        "id": "A00sqlx5Mjci"
      },
      "execution_count": 4,
      "outputs": []
    },
    {
      "cell_type": "code",
      "source": [
        "img.shape"
      ],
      "metadata": {
        "colab": {
          "base_uri": "https://localhost:8080/"
        },
        "id": "QWjQSJa1MjZ0",
        "outputId": "d2427a30-ab13-45c5-e73c-372d59dace0e"
      },
      "execution_count": 5,
      "outputs": [
        {
          "output_type": "execute_result",
          "data": {
            "text/plain": [
              "(600, 600, 3)"
            ]
          },
          "metadata": {},
          "execution_count": 5
        }
      ]
    },
    {
      "cell_type": "code",
      "source": [
        "img"
      ],
      "metadata": {
        "colab": {
          "base_uri": "https://localhost:8080/"
        },
        "id": "lB6WbGrTMjWs",
        "outputId": "01eba084-a6bd-40b6-ef77-b08d3e51b57f"
      },
      "execution_count": 6,
      "outputs": [
        {
          "output_type": "execute_result",
          "data": {
            "text/plain": [
              "array([[[255.     , 255.     , 255.     ],\n",
              "        [255.     , 255.     , 255.     ],\n",
              "        [255.     , 255.     , 255.     ],\n",
              "        ...,\n",
              "        [255.     , 255.     , 255.     ],\n",
              "        [255.     , 255.     , 255.     ],\n",
              "        [255.     , 255.     , 255.     ]],\n",
              "\n",
              "       [[255.     , 255.     , 255.     ],\n",
              "        [255.     , 255.     , 255.     ],\n",
              "        [255.     , 255.     , 255.     ],\n",
              "        ...,\n",
              "        [255.     , 255.     , 255.     ],\n",
              "        [255.     , 255.     , 255.     ],\n",
              "        [255.     , 255.     , 255.     ]],\n",
              "\n",
              "       [[254.99998, 254.99998, 254.99998],\n",
              "        [254.99998, 254.99998, 254.99998],\n",
              "        [254.99998, 254.99998, 254.99998],\n",
              "        ...,\n",
              "        [254.99998, 254.99998, 254.99998],\n",
              "        [254.99998, 254.99998, 254.99998],\n",
              "        [254.99998, 254.99998, 254.99998]],\n",
              "\n",
              "       ...,\n",
              "\n",
              "       [[255.     , 255.     , 255.     ],\n",
              "        [255.     , 255.     , 255.     ],\n",
              "        [255.     , 255.     , 255.     ],\n",
              "        ...,\n",
              "        [255.     , 255.     , 255.     ],\n",
              "        [255.     , 255.     , 255.     ],\n",
              "        [255.     , 255.     , 255.     ]],\n",
              "\n",
              "       [[255.     , 255.     , 255.     ],\n",
              "        [255.     , 255.     , 255.     ],\n",
              "        [255.     , 255.     , 255.     ],\n",
              "        ...,\n",
              "        [255.     , 255.     , 255.     ],\n",
              "        [255.     , 255.     , 255.     ],\n",
              "        [255.     , 255.     , 255.     ]],\n",
              "\n",
              "       [[255.     , 255.     , 255.     ],\n",
              "        [255.     , 255.     , 255.     ],\n",
              "        [255.     , 255.     , 255.     ],\n",
              "        ...,\n",
              "        [255.     , 255.     , 255.     ],\n",
              "        [255.     , 255.     , 255.     ],\n",
              "        [255.     , 255.     , 255.     ]]], dtype=float32)"
            ]
          },
          "metadata": {},
          "execution_count": 6
        }
      ]
    },
    {
      "cell_type": "code",
      "source": [
        "img=img[np.newaxis,...]"
      ],
      "metadata": {
        "id": "Hh_zY6KsMjUF"
      },
      "execution_count": 7,
      "outputs": []
    },
    {
      "cell_type": "code",
      "source": [
        "img.shape"
      ],
      "metadata": {
        "colab": {
          "base_uri": "https://localhost:8080/"
        },
        "id": "VSYS3nCTMjQ6",
        "outputId": "bfc42fdb-a8f4-4ca9-e5d3-d51f0be61ca4"
      },
      "execution_count": 8,
      "outputs": [
        {
          "output_type": "execute_result",
          "data": {
            "text/plain": [
              "(1, 600, 600, 3)"
            ]
          },
          "metadata": {},
          "execution_count": 8
        }
      ]
    },
    {
      "cell_type": "code",
      "source": [
        "sampleprediction=model.predict(img)"
      ],
      "metadata": {
        "id": "1oJbhxl5MjKv"
      },
      "execution_count": 9,
      "outputs": []
    },
    {
      "cell_type": "code",
      "source": [
        "sampleprediction"
      ],
      "metadata": {
        "colab": {
          "base_uri": "https://localhost:8080/"
        },
        "id": "du1h5NkzNkui",
        "outputId": "69382866-85dc-43b0-ad91-97cc8c1c0830"
      },
      "execution_count": 10,
      "outputs": [
        {
          "output_type": "execute_result",
          "data": {
            "text/plain": [
              "array([[1.39211566e-04, 1.46708378e-04, 3.97415046e-04, 1.25121020e-04,\n",
              "        2.82301160e-04, 1.42113975e-04, 1.22586702e-04, 2.04160286e-04,\n",
              "        2.13166510e-04, 2.54763901e-04, 1.78704475e-04, 1.37240320e-04,\n",
              "        1.85307043e-04, 1.40666758e-04, 2.03315882e-04, 1.17194119e-04,\n",
              "        4.12833237e-04, 1.38283067e-04, 1.81958370e-04, 1.08623717e-04,\n",
              "        1.30541390e-04, 2.39687142e-04, 2.21257229e-04, 2.01367497e-04,\n",
              "        1.73786742e-04, 1.22947880e-04, 1.44771606e-04, 2.07433899e-04,\n",
              "        1.45953833e-04, 1.62472716e-04, 2.75714090e-04, 1.32936198e-04,\n",
              "        1.49602376e-04, 1.50386695e-04, 1.83630662e-04, 2.42107853e-04,\n",
              "        1.72147775e-04, 1.81690804e-04, 1.39056181e-04, 1.55086949e-04,\n",
              "        2.15443433e-04, 1.67281687e-04, 1.74984641e-04, 1.14270879e-04,\n",
              "        9.29405578e-05, 1.06825290e-04, 1.42877849e-04, 1.45498547e-04,\n",
              "        1.27465129e-04, 3.01955763e-04, 1.94096050e-04, 7.15739079e-05,\n",
              "        7.61900301e-05, 5.98924780e-05, 1.91165425e-04, 1.95771398e-04,\n",
              "        1.54987298e-04, 4.44516569e-04, 9.15143100e-05, 1.06794418e-04,\n",
              "        1.93449989e-04, 9.11909156e-05, 3.42217332e-04, 1.00846199e-04,\n",
              "        1.91266445e-04, 1.16434247e-04, 1.83215045e-04, 1.42403631e-04,\n",
              "        8.50948272e-05, 7.48824459e-05, 2.17633438e-04, 1.63923862e-04,\n",
              "        1.95213754e-04, 1.81183306e-04, 1.35318012e-04, 9.92828209e-05,\n",
              "        1.38517353e-04, 1.95410088e-04, 2.07524325e-04, 1.37837254e-04,\n",
              "        1.22911195e-04, 1.79285897e-04, 1.63265795e-04, 1.58649404e-04,\n",
              "        1.92344582e-04, 1.70285188e-04, 1.06141451e-04, 1.05336541e-04,\n",
              "        1.41546698e-04, 2.02711235e-04, 2.23464755e-04, 1.98204361e-04,\n",
              "        3.61553859e-04, 1.65395249e-04, 6.35168908e-05, 1.62181357e-04,\n",
              "        9.85733495e-05, 1.44808611e-04, 2.02456795e-04, 7.20520111e-05,\n",
              "        1.55420988e-04, 1.46628241e-04, 2.14281827e-04, 1.32671630e-04,\n",
              "        8.95648845e-05, 1.55314599e-04, 1.93312779e-04, 2.22287868e-04,\n",
              "        1.80158633e-04, 1.37392082e-04, 2.10372833e-04, 3.10231437e-04,\n",
              "        1.00414240e-04, 1.28647269e-04, 1.46133636e-04, 1.49707994e-04,\n",
              "        9.30290626e-05, 9.54263742e-05, 9.39531092e-05, 1.83148310e-04,\n",
              "        2.04553988e-04, 1.62113778e-04, 1.44347126e-04, 1.70261483e-04,\n",
              "        1.31370150e-04, 1.29117412e-04, 2.01060655e-04, 1.08536835e-04,\n",
              "        1.53356465e-04, 1.75866982e-04, 1.56176073e-04, 2.33681072e-04,\n",
              "        1.51987551e-04, 2.22930699e-04, 1.37437033e-04, 2.68621254e-04,\n",
              "        1.62513927e-04, 2.26800970e-04, 1.61767995e-04, 1.50459135e-04,\n",
              "        1.62318145e-04, 1.87786092e-04, 3.06189497e-04, 2.54076265e-04,\n",
              "        2.02855692e-04, 2.06861005e-04, 1.97269415e-04, 2.06334749e-04,\n",
              "        2.09610036e-04, 9.29200833e-05, 9.90436602e-05, 1.32115325e-04,\n",
              "        1.91921674e-04, 2.17826964e-04, 2.00852723e-04, 1.08736785e-04,\n",
              "        1.63858698e-04, 9.02839674e-05, 1.20175871e-04, 1.35860973e-04,\n",
              "        2.39684159e-04, 1.29815628e-04, 1.11487730e-04, 1.70799642e-04,\n",
              "        1.86948237e-04, 8.55226026e-05, 1.22229583e-04, 8.79426734e-05,\n",
              "        1.75880894e-04, 1.02499180e-04, 1.65284713e-04, 1.01310921e-04,\n",
              "        9.89330147e-05, 1.65046382e-04, 9.95655646e-05, 1.37846058e-04,\n",
              "        1.53050234e-04, 2.35507337e-04, 1.84088844e-04, 9.58175879e-05,\n",
              "        1.06275453e-04, 9.80240002e-05, 9.19774247e-05, 8.00221824e-05,\n",
              "        2.40702822e-04, 1.33772890e-04, 1.12006404e-04, 1.82110613e-04,\n",
              "        1.36690665e-04, 1.46861115e-04, 1.16835683e-04, 1.54297843e-04,\n",
              "        2.67805794e-04, 2.06951387e-04, 5.72447134e-05, 1.25303486e-04,\n",
              "        1.71278371e-04, 1.38679796e-04, 1.16807831e-04, 3.14658624e-04,\n",
              "        2.12661107e-04, 1.29037900e-04, 1.97242320e-04, 1.71066989e-04,\n",
              "        1.88377831e-04, 1.06058476e-04, 8.32430815e-05, 1.35344730e-04,\n",
              "        1.30634304e-04, 9.48932066e-05, 1.06624786e-04, 7.93539439e-05,\n",
              "        9.31320319e-05, 1.29844848e-04, 6.72704991e-05, 1.26117520e-04,\n",
              "        1.33689231e-04, 1.65865640e-04, 1.64901954e-04, 2.23380179e-04,\n",
              "        9.71194531e-05, 1.02766688e-04, 9.82358761e-05, 2.19914684e-04,\n",
              "        1.34570437e-04, 1.55957736e-04, 2.55748571e-04, 1.43242796e-04,\n",
              "        1.45933082e-04, 1.60436262e-04, 1.24016093e-04, 1.55320377e-04,\n",
              "        2.08929283e-04, 1.82095508e-04, 1.23523292e-04, 1.47392610e-04,\n",
              "        8.57692648e-05, 1.09239954e-04, 1.32202040e-04, 1.15607501e-04,\n",
              "        1.06244646e-04, 1.72938264e-04, 1.03624960e-04, 9.67472806e-05,\n",
              "        1.14291375e-04, 1.19866141e-04, 2.44239782e-04, 1.77067923e-04,\n",
              "        1.50835840e-04, 1.23702601e-04, 1.74947112e-04, 2.02242212e-04,\n",
              "        1.47149491e-04, 1.43034224e-04, 1.79637937e-04, 9.48607267e-05,\n",
              "        1.92587424e-04, 1.30330925e-04, 7.04296617e-05, 8.37271509e-05,\n",
              "        7.07815489e-05, 9.09656083e-05, 1.34662492e-04, 9.91904526e-05,\n",
              "        8.35786050e-05, 1.11699090e-04, 1.64482757e-04, 1.50490858e-04,\n",
              "        1.16508782e-04, 1.91905026e-04, 2.95578211e-04, 1.32672387e-04,\n",
              "        1.37919444e-04, 3.59253259e-04, 1.53865534e-04, 2.71280238e-04,\n",
              "        2.68371834e-04, 1.17602111e-04, 1.44296064e-04, 2.09889069e-04,\n",
              "        1.11139962e-04, 1.10469897e-04, 1.09159977e-04, 1.68764367e-04,\n",
              "        1.20348144e-04, 8.02545910e-05, 1.38818476e-04, 9.16344798e-05,\n",
              "        1.81729280e-04, 1.61295684e-04, 1.74896719e-04, 1.59333853e-04,\n",
              "        1.17254938e-04, 1.23034333e-04, 1.55517060e-04, 1.82453936e-04,\n",
              "        1.13628317e-04, 2.22754941e-04, 1.61047137e-04, 1.65591264e-04,\n",
              "        3.38808575e-04, 1.29762528e-04, 1.76895759e-04, 1.15570358e-04,\n",
              "        1.96779176e-04, 2.04852477e-04, 1.40629738e-04, 8.64353715e-05,\n",
              "        1.28002939e-04, 1.15202711e-04, 1.40518998e-04, 1.94316075e-04,\n",
              "        2.04275202e-04, 1.87233542e-04, 1.99311893e-04, 9.88466199e-05,\n",
              "        2.09346530e-04, 1.44751728e-04, 2.23472656e-04, 1.97881207e-04,\n",
              "        1.57964299e-04, 1.28024432e-04, 1.68024519e-04, 1.48738443e-04,\n",
              "        1.35018447e-04, 1.46124017e-04, 2.50914629e-04, 9.56215081e-05,\n",
              "        1.00759680e-04, 1.10992623e-04, 9.66281441e-05, 1.05069470e-04,\n",
              "        1.59008545e-04, 2.11826569e-04, 1.37526193e-04, 1.52906825e-04,\n",
              "        1.72131520e-04, 1.09729648e-04, 7.28080995e-05, 1.91725208e-04,\n",
              "        2.05408243e-04, 2.29060752e-04, 1.95232002e-04, 2.83064903e-04,\n",
              "        8.10304991e-05, 2.23443451e-04, 2.37563232e-04, 1.14547256e-04,\n",
              "        2.13944280e-04, 1.73222492e-04, 1.23713689e-04, 1.13318492e-04,\n",
              "        9.20779203e-05, 7.67905294e-05, 2.41892543e-04, 1.43044861e-04,\n",
              "        8.05426534e-05, 2.11066552e-04, 1.43203186e-04, 8.54954487e-05,\n",
              "        7.73655702e-05, 1.88663515e-04, 1.51666245e-04, 8.27825643e-05,\n",
              "        1.74795350e-04, 1.99265356e-04, 1.13272356e-04, 1.16484785e-04,\n",
              "        1.51133616e-04, 1.90031191e-04, 1.16991330e-04, 2.20526461e-04,\n",
              "        1.60516152e-04, 1.13316542e-04, 9.60376055e-05, 1.27886655e-04,\n",
              "        2.58704298e-04, 1.46713559e-04, 9.77419040e-05, 1.59615971e-04,\n",
              "        1.05495390e-04, 1.68179380e-04, 1.19692624e-04, 1.48535866e-04,\n",
              "        1.76870963e-04, 8.74860270e-05, 1.36195289e-04, 1.58213952e-04,\n",
              "        2.30483987e-04, 3.06624599e-04, 1.09412300e-04, 1.10046036e-04,\n",
              "        1.00807447e-04, 8.66041082e-05, 9.51564725e-05, 2.63163238e-04,\n",
              "        1.70118990e-04, 9.39393067e-05, 1.93258777e-04, 1.31699446e-04,\n",
              "        2.01042814e-04, 1.84912831e-04, 1.55509348e-04, 1.67711856e-04,\n",
              "        2.36749474e-04, 1.28697226e-04, 1.55045258e-04, 1.89230224e-04,\n",
              "        2.26115269e-04, 6.10257157e-05, 1.53815796e-04, 1.26376617e-04,\n",
              "        8.35550964e-05, 2.88820680e-04, 1.68043101e-04, 2.06320386e-04,\n",
              "        9.50902468e-05, 2.51377351e-04, 1.81967742e-04, 1.37479248e-04,\n",
              "        3.10208969e-04, 2.83181842e-04, 2.63555557e-04, 1.58474912e-04,\n",
              "        7.42690318e-05, 6.97792129e-05, 2.32050341e-04, 1.03611812e-04,\n",
              "        9.28801310e-05, 1.13850678e-04, 1.30671935e-04, 3.86487867e-04,\n",
              "        3.29479168e-04, 1.11224042e-04, 1.31841443e-04, 1.54037029e-04,\n",
              "        4.48877312e-04, 1.99603717e-04, 2.02215015e-04, 5.98978717e-04,\n",
              "        6.77595162e-05, 2.08648737e-04, 1.09418150e-04, 2.20235364e-04,\n",
              "        1.61577729e-04, 2.34851963e-04, 1.78985560e-04, 5.64708935e-05,\n",
              "        1.23500431e-04, 1.19989898e-04, 1.58952753e-04, 1.21917474e-04,\n",
              "        1.01735190e-04, 1.73889042e-04, 1.93120781e-04, 1.12793525e-04,\n",
              "        2.44262599e-04, 2.54300016e-04, 1.65393663e-04, 9.97627867e-05,\n",
              "        1.95402812e-04, 1.01993006e-04, 2.22040821e-04, 5.61865090e-05,\n",
              "        4.71951964e-04, 1.74916408e-04, 1.85520461e-04, 9.96636954e-05,\n",
              "        2.05788834e-04, 1.02846294e-04, 9.26032080e-05, 1.68161889e-04,\n",
              "        1.36729781e-04, 1.84763703e-04, 1.63634453e-04, 2.79642409e-04,\n",
              "        1.49640473e-04, 2.11696693e-04, 8.21616122e-05, 1.59405899e-04,\n",
              "        1.17918462e-04, 1.53121029e-04, 1.03248130e-04, 2.18670335e-04,\n",
              "        2.00553361e-04, 5.16694054e-05, 1.44670586e-04, 9.66794905e-05,\n",
              "        8.84485926e-05, 1.10881745e-04, 6.80323792e-05, 1.98980881e-04,\n",
              "        9.12061441e-05, 2.04067241e-04, 1.39341864e-04, 2.53990758e-04,\n",
              "        2.91628006e-04, 1.00530277e-04, 1.76933710e-04, 8.26502728e-05,\n",
              "        1.97271103e-04, 1.42748177e-04, 8.37829066e-05, 1.87989106e-04,\n",
              "        1.11423949e-04, 1.54770023e-04, 1.05578016e-04, 1.51790256e-04,\n",
              "        1.91950967e-04, 2.09480335e-04, 2.43003524e-04, 1.45778409e-04,\n",
              "        2.07002318e-04, 2.92191748e-02, 7.24943675e-05, 9.78585813e-05,\n",
              "        2.71573546e-04, 1.43518744e-04, 1.29175547e-04, 7.66154844e-05,\n",
              "        2.20793503e-04, 6.25603643e-05, 2.05527977e-04, 2.84903304e-04,\n",
              "        1.08371860e-04, 1.27104242e-04, 1.52388413e-04, 1.45643760e-04,\n",
              "        8.52072990e-05, 2.38194363e-04, 1.92181571e-04, 5.76096209e-05,\n",
              "        9.86769955e-05, 2.67293188e-04, 2.07331468e-04, 9.97339594e-05,\n",
              "        1.54402354e-04, 3.04776971e-04, 1.03994818e-04, 1.16845818e-04,\n",
              "        1.53502639e-04, 2.02286174e-04, 1.74298460e-04, 1.19205295e-04,\n",
              "        2.57386477e-04, 1.96161796e-04, 8.22144430e-05, 1.40385455e-04,\n",
              "        1.42734294e-04, 2.04704833e-04, 1.17622854e-04, 1.74345667e-04,\n",
              "        1.56420530e-04, 1.82555596e-04, 1.42941222e-04, 2.35605272e-04,\n",
              "        3.08362243e-04, 1.20421042e-04, 1.75737223e-04, 2.65898387e-04,\n",
              "        1.65876088e-04, 2.54075276e-04, 6.84480983e-05, 1.25724953e-04,\n",
              "        2.13179912e-04, 1.74582776e-04, 2.92183412e-03, 2.38938796e-04,\n",
              "        9.48125162e-05, 9.68394088e-05, 6.91281166e-05, 1.23765014e-04,\n",
              "        1.67167338e-04, 2.08043712e-04, 2.53435195e-04, 1.10712470e-04,\n",
              "        2.63703114e-04, 1.60086725e-04, 1.56497525e-04, 1.13480710e-04,\n",
              "        1.55127040e-04, 1.14588329e-04, 1.88320540e-04, 3.48190923e-04,\n",
              "        3.74721072e-04, 5.00389833e-05, 1.21109188e-04, 1.05849918e-04,\n",
              "        1.56375783e-04, 8.72321689e-05, 1.34990638e-04, 1.32236077e-04,\n",
              "        1.21813464e-04, 1.54506342e-04, 7.36496877e-05, 1.85731464e-04,\n",
              "        1.30872839e-04, 7.02137841e-05, 2.01883784e-04, 9.16033750e-05,\n",
              "        2.78172025e-04, 2.42370763e-04, 1.82583099e-04, 1.80534262e-04,\n",
              "        2.19375273e-04, 1.47873128e-04, 7.89570258e-05, 1.99868082e-04,\n",
              "        1.24302285e-04, 2.45628238e-04, 1.03906590e-04, 9.68234308e-05,\n",
              "        1.54454639e-04, 1.01292091e-04, 1.06229250e-04, 5.66102281e-05,\n",
              "        7.27633887e-05, 9.06912755e-05, 2.75192637e-04, 1.27689244e-04,\n",
              "        1.02829319e-04, 2.67392374e-04, 7.68805839e-05, 2.87093746e-04,\n",
              "        7.24143538e-05, 1.81045820e-04, 1.38026939e-04, 2.47657677e-04,\n",
              "        1.30462984e-04, 1.93086162e-04, 1.94035165e-04, 1.15580609e-04,\n",
              "        1.84297169e-04, 2.59626453e-04, 7.71376290e-05, 2.19122914e-04,\n",
              "        1.48720574e-04, 1.21736928e-04, 1.44282312e-04, 1.30318746e-04,\n",
              "        1.95921370e-04, 1.93021537e-04, 2.01995674e-04, 1.08136061e-04,\n",
              "        9.47933513e-05, 2.26370321e-04, 1.81787007e-04, 2.43348608e-04,\n",
              "        3.02698638e-04, 1.52522756e-04, 1.22107725e-04, 1.33363239e-04,\n",
              "        8.32116420e-05, 6.34921162e-05, 1.46490143e-04, 1.23923281e-04,\n",
              "        1.80235962e-04, 1.40997407e-04, 1.16518335e-04, 3.13344906e-04,\n",
              "        2.92184763e-04, 2.28896970e-04, 1.46826802e-04, 1.00778605e-04,\n",
              "        1.17072923e-04, 1.34071510e-04, 1.04727042e-04, 1.46385675e-04,\n",
              "        1.53734698e-04, 2.26184507e-04, 9.95742157e-05, 8.31611178e-05,\n",
              "        1.18253156e-04, 7.47071244e-05, 3.03681445e-04, 1.67732171e-04,\n",
              "        2.76340463e-04, 1.99251663e-04, 9.82301572e-05, 5.10538011e-05,\n",
              "        2.38913955e-04, 1.57691553e-04, 1.03134567e-04, 4.55626432e-04,\n",
              "        1.15507006e-04, 1.03703256e-04, 9.64692226e-05, 7.32005574e-05,\n",
              "        1.82604694e-04, 9.93057329e-05, 1.64977464e-04, 2.31533093e-04,\n",
              "        1.95542074e-04, 1.74766174e-04, 1.12919770e-04, 7.92182982e-05,\n",
              "        1.66131911e-04, 9.43725681e-05, 1.00604608e-04, 1.08389424e-04,\n",
              "        1.65616380e-04, 1.94985842e-04, 3.26407055e-04, 1.24562284e-04,\n",
              "        8.57984778e-05, 8.79488798e-05, 1.18749507e-04, 6.88091168e-05,\n",
              "        1.51418397e-04, 8.34631937e-05, 5.90718810e-05, 2.37417611e-04,\n",
              "        2.99394713e-04, 3.18088511e-04, 1.33544352e-04, 2.56242958e-04,\n",
              "        1.26703526e-04, 1.25524151e-04, 2.00167371e-04, 1.33147580e-04,\n",
              "        8.10378406e-05, 2.02593932e-04, 1.06721229e-04, 1.90510051e-04,\n",
              "        1.06219624e-04, 1.20343771e-04, 1.56619208e-04, 2.13843319e-04,\n",
              "        1.17420219e-04, 9.41059610e-04, 3.10720468e-04, 1.47747822e-04,\n",
              "        1.81589989e-04, 1.59415926e-04, 1.53726636e-04, 1.08634893e-04,\n",
              "        1.46762963e-04, 1.41478144e-04, 1.86108780e-04, 7.67039382e-05,\n",
              "        1.15516144e-04, 1.20558012e-04, 1.19281147e-04, 9.01469102e-05,\n",
              "        1.33973474e-04, 9.40945174e-05, 1.38415009e-04, 9.27460278e-05,\n",
              "        1.25112070e-04, 1.90054387e-04, 1.88107661e-04, 9.05359921e-05,\n",
              "        1.36947841e-04, 8.15197345e-05, 1.15450617e-04, 1.41486365e-04,\n",
              "        7.31461914e-05, 1.48927487e-04, 3.00058717e-04, 6.12298099e-05,\n",
              "        2.82287336e-04, 2.33207087e-04, 9.30084789e-05, 1.37291630e-04,\n",
              "        2.71545694e-04, 2.27233759e-04, 1.93778658e-04, 9.40136015e-05,\n",
              "        2.33123690e-04, 6.86447966e-05, 1.29688924e-04, 1.27656123e-04,\n",
              "        7.44428020e-04, 9.75323055e-05, 7.66452213e-05, 5.97513317e-05,\n",
              "        1.19702285e-03, 5.13927545e-04, 1.86340723e-04, 1.37287439e-04,\n",
              "        4.09902481e-04, 1.18275711e-04, 2.02798648e-04, 5.98439437e-05,\n",
              "        1.68264407e-04, 9.54475836e-05, 3.06231115e-04, 1.06366613e-04,\n",
              "        1.24851169e-04, 1.31782494e-04, 1.30947505e-04, 3.63501371e-04,\n",
              "        2.04906595e-04, 1.36679315e-04, 2.37166183e-04, 3.06566857e-04,\n",
              "        1.08976805e-04, 7.24255442e-05, 2.22182964e-04, 2.22009898e-04,\n",
              "        6.23631277e-05, 1.37580108e-04, 1.72022061e-04, 1.17161719e-04,\n",
              "        2.11468097e-04, 1.61452190e-04, 1.98070586e-04, 1.21707788e-04,\n",
              "        1.51555636e-04, 2.34124527e-04, 1.17532923e-04, 5.04380805e-05,\n",
              "        2.05264718e-04, 1.78019996e-04, 1.20551340e-04, 1.33639900e-04,\n",
              "        1.12311041e-04, 9.79768010e-05, 2.67636002e-04, 2.71593599e-04,\n",
              "        2.30698832e-04, 1.55178393e-04, 2.08236437e-04, 1.04253602e-04,\n",
              "        2.53760256e-04, 1.90050952e-04, 9.95884475e-05, 1.18776356e-04,\n",
              "        4.05893108e-04, 1.27725041e-04, 4.06679232e-04, 2.67666124e-04,\n",
              "        1.27079882e-04, 1.86310877e-04, 1.34309274e-04, 1.02445432e-04,\n",
              "        2.47814285e-04, 1.19276709e-04, 1.32051588e-04, 1.41427285e-04,\n",
              "        1.87733633e-04, 9.85739098e-05, 1.96372566e-04, 2.10074111e-04,\n",
              "        1.02224869e-04, 1.12264883e-04, 4.89891972e-04, 9.35806602e-05,\n",
              "        8.25973257e-05, 8.23394366e-05, 1.32099332e-04, 1.78373637e-04,\n",
              "        1.61342294e-04, 1.92154272e-04, 1.43473706e-04, 1.36706687e-04,\n",
              "        2.01207979e-04, 1.79287759e-04, 8.85385598e-05, 1.04692786e-04,\n",
              "        1.09403321e-04, 1.09260582e-04, 1.15635405e-04, 1.66796293e-04,\n",
              "        2.35853688e-04, 8.09453850e-05, 2.23671566e-04, 8.77289858e-05,\n",
              "        2.36756925e-04, 1.25153121e-04, 9.90960834e-05, 2.17119727e-04,\n",
              "        1.01449186e-04, 8.91388991e-05, 1.82181480e-04, 8.05289924e-01,\n",
              "        1.51373199e-04, 3.06948350e-04, 1.16018040e-04, 1.18495867e-04,\n",
              "        1.26583240e-04, 1.85532306e-04, 1.74662870e-04, 9.77449745e-05,\n",
              "        1.72509826e-04, 1.42466655e-04, 9.13500335e-05, 2.02865558e-04,\n",
              "        1.53514644e-04, 2.27508484e-04, 4.83097421e-04, 5.92207361e-05,\n",
              "        1.76755450e-04, 1.40998905e-04, 9.93118956e-05, 2.97456863e-04,\n",
              "        1.26097919e-04, 1.19209959e-04, 1.66570084e-04, 1.69746243e-04,\n",
              "        1.31568260e-04, 1.96525245e-04, 1.61060350e-04, 1.06028543e-04,\n",
              "        1.40886797e-04, 1.70382511e-04, 1.32415662e-04, 1.80454561e-04,\n",
              "        2.68655829e-04, 1.60988784e-04, 1.17122836e-04, 1.20614131e-04,\n",
              "        9.54204588e-05, 1.86678328e-04, 3.18605249e-04, 1.32362751e-04,\n",
              "        3.64434381e-04, 1.61546763e-04, 1.29982247e-04, 1.21442157e-04,\n",
              "        2.22281727e-04, 1.01352576e-04, 1.63234028e-04, 9.63160710e-05,\n",
              "        1.33981128e-04, 1.26848245e-04, 1.02271675e-04, 2.69928336e-04,\n",
              "        1.55835965e-04, 1.24817234e-04, 2.34891850e-04, 1.03892322e-04,\n",
              "        2.63702619e-04, 1.19620388e-04, 2.38987544e-04, 1.50486274e-04,\n",
              "        2.03533535e-04, 2.83850473e-04, 1.44031408e-04, 1.73066132e-04,\n",
              "        1.46657607e-04, 8.17351392e-05, 1.03962200e-04, 8.21490830e-05,\n",
              "        2.22820163e-04, 1.54079040e-04, 2.55398831e-04, 1.23179445e-04,\n",
              "        2.44560040e-04, 3.61204235e-04, 1.23403079e-04, 9.62134291e-05,\n",
              "        1.16339572e-04, 1.30009270e-04, 9.52955015e-05, 1.34116766e-04,\n",
              "        1.17803596e-04, 7.64455690e-05, 1.04301333e-04, 3.09197087e-04,\n",
              "        1.10028610e-04, 8.74762627e-05, 1.64573459e-04, 1.40968914e-04,\n",
              "        1.13798684e-04, 1.19045559e-04, 2.30801394e-04, 6.64126273e-05,\n",
              "        2.55363731e-04, 2.29653306e-04, 9.95695518e-05, 1.69933162e-04,\n",
              "        1.07889457e-04, 1.71569045e-04, 1.43672674e-04, 1.50949389e-04,\n",
              "        1.77391586e-04, 1.24759041e-04, 1.73155771e-04, 8.72512246e-05,\n",
              "        1.36523129e-04, 1.68877712e-04, 1.46032500e-04, 1.16035073e-04,\n",
              "        9.94561487e-05, 2.08989281e-04, 1.47071070e-04, 8.75649057e-05,\n",
              "        1.28482861e-04, 1.66058744e-04, 9.34118725e-05, 1.68746337e-04,\n",
              "        2.51894759e-04, 1.35562150e-04, 1.86295598e-04, 1.67708975e-04,\n",
              "        7.79559268e-05, 1.67882114e-04, 1.45229336e-04, 1.90845007e-04]],\n",
              "      dtype=float32)"
            ]
          },
          "metadata": {},
          "execution_count": 10
        }
      ]
    },
    {
      "cell_type": "code",
      "source": [
        "sampleans=np.argmax(sampleprediction)"
      ],
      "metadata": {
        "id": "z0p4JpgNNkr8"
      },
      "execution_count": 11,
      "outputs": []
    },
    {
      "cell_type": "code",
      "source": [
        "sampleans"
      ],
      "metadata": {
        "colab": {
          "base_uri": "https://localhost:8080/"
        },
        "id": "ibWt4MQGNkou",
        "outputId": "2bf89f25-faa5-4b40-dfb0-0a0ecd430fd1"
      },
      "execution_count": 12,
      "outputs": [
        {
          "output_type": "execute_result",
          "data": {
            "text/plain": [
              "875"
            ]
          },
          "metadata": {},
          "execution_count": 12
        }
      ]
    },
    {
      "cell_type": "code",
      "source": [
        "decode_predictions(sampleprediction,top=3)"
      ],
      "metadata": {
        "colab": {
          "base_uri": "https://localhost:8080/"
        },
        "id": "hwEuOyUHNkln",
        "outputId": "58227154-7251-4dc6-ab68-d922b10ac268"
      },
      "execution_count": 13,
      "outputs": [
        {
          "output_type": "stream",
          "name": "stdout",
          "text": [
            "Downloading data from https://storage.googleapis.com/download.tensorflow.org/data/imagenet_class_index.json\n",
            "40960/35363 [==================================] - 0s 0us/step\n",
            "49152/35363 [=========================================] - 0s 0us/step\n"
          ]
        },
        {
          "output_type": "execute_result",
          "data": {
            "text/plain": [
              "[[('n04487394', 'trombone', 0.8052899),\n",
              "  ('n03110669', 'cornet', 0.029219175),\n",
              "  ('n03394916', 'French_horn', 0.0029218341)]]"
            ]
          },
          "metadata": {},
          "execution_count": 13
        }
      ]
    },
    {
      "cell_type": "code",
      "source": [
        "print(\"Accuracy of prediciton\",round(decode_predictions(sampleprediction,top=1)[0][0][2]*100,2),\"%\")"
      ],
      "metadata": {
        "colab": {
          "base_uri": "https://localhost:8080/"
        },
        "id": "qr5ZplUNNkia",
        "outputId": "ffa0067b-d5e3-4725-a667-5cc8a0c47940"
      },
      "execution_count": 14,
      "outputs": [
        {
          "output_type": "stream",
          "name": "stdout",
          "text": [
            "Accuracy of prediciton 80.53 %\n"
          ]
        }
      ]
    },
    {
      "cell_type": "code",
      "source": [
        "#Actual Image\n",
        "plt.axis('off')\n",
        "plt.imshow(image)"
      ],
      "metadata": {
        "colab": {
          "base_uri": "https://localhost:8080/",
          "height": 182
        },
        "id": "TKz8gf5ZNkfa",
        "outputId": "1b411e3b-9b91-4f33-ac66-903ea638eb68"
      },
      "execution_count": 15,
      "outputs": [
        {
          "output_type": "execute_result",
          "data": {
            "text/plain": [
              "<matplotlib.image.AxesImage at 0x7fb50fa54f50>"
            ]
          },
          "metadata": {},
          "execution_count": 15
        },
        {
          "output_type": "display_data",
          "data": {
            "text/plain": [
              "<Figure size 432x288 with 1 Axes>"
            ],
            "image/png": "[encoded data removed]"
          },
          "metadata": {
            "needs_background": "light"
          }
        }
      ]
    },
    {
      "cell_type": "markdown",
      "source": [
        "## Comparison between EfficientNetB0 and EfficientNetB7"
      ],
      "metadata": {
        "id": "w7Cy9TRtOCYq"
      }
    },
    {
      "cell_type": "code",
      "source": [
        "img1=Image.open(r'/content/B0-SAMPLE.jpg')"
      ],
      "metadata": {
        "id": "ss1-LaHAN_ZN"
      },
      "execution_count": 16,
      "outputs": []
    },
    {
      "cell_type": "code",
      "source": [
        "img1=cv2.resize(np.float32(img1),(600,600))"
      ],
      "metadata": {
        "id": "MjMvaI5YOP_4"
      },
      "execution_count": 17,
      "outputs": []
    },
    {
      "cell_type": "code",
      "source": [
        "img1.shape"
      ],
      "metadata": {
        "colab": {
          "base_uri": "https://localhost:8080/"
        },
        "id": "OswToSKROYWg",
        "outputId": "783ed458-0d80-4702-e2fd-49d449424259"
      },
      "execution_count": 18,
      "outputs": [
        {
          "output_type": "execute_result",
          "data": {
            "text/plain": [
              "(600, 600, 3)"
            ]
          },
          "metadata": {},
          "execution_count": 18
        }
      ]
    },
    {
      "cell_type": "code",
      "source": [
        "img1=img1[np.newaxis,...]"
      ],
      "metadata": {
        "id": "jEIxHT-NOYTX"
      },
      "execution_count": 19,
      "outputs": []
    },
    {
      "cell_type": "code",
      "source": [
        "img1.shape"
      ],
      "metadata": {
        "colab": {
          "base_uri": "https://localhost:8080/"
        },
        "id": "hFmjBUvOOYQH",
        "outputId": "0db993e8-20a2-4375-f8bd-a584239af7b2"
      },
      "execution_count": 20,
      "outputs": [
        {
          "output_type": "execute_result",
          "data": {
            "text/plain": [
              "(1, 600, 600, 3)"
            ]
          },
          "metadata": {},
          "execution_count": 20
        }
      ]
    },
    {
      "cell_type": "code",
      "source": [
        "sampleprediction1=model.predict(img1)"
      ],
      "metadata": {
        "id": "QcewkA_aOYNM"
      },
      "execution_count": 21,
      "outputs": []
    },
    {
      "cell_type": "code",
      "source": [
        "sampleans1=np.argmax(sampleprediction1)"
      ],
      "metadata": {
        "id": "uEd19809Oi5a"
      },
      "execution_count": 22,
      "outputs": []
    },
    {
      "cell_type": "code",
      "source": [
        "sampleans1"
      ],
      "metadata": {
        "colab": {
          "base_uri": "https://localhost:8080/"
        },
        "id": "0tDNnEakOi1S",
        "outputId": "91a1215e-4cc3-4847-bc24-0021eff3d58b"
      },
      "execution_count": 23,
      "outputs": [
        {
          "output_type": "execute_result",
          "data": {
            "text/plain": [
              "1"
            ]
          },
          "metadata": {},
          "execution_count": 23
        }
      ]
    },
    {
      "cell_type": "code",
      "source": [
        "decode_predictions(sampleprediction1,top=3)"
      ],
      "metadata": {
        "colab": {
          "base_uri": "https://localhost:8080/"
        },
        "id": "Xzj89J2rOipb",
        "outputId": "3803cb25-04c9-41e4-ff37-25b9abc30e58"
      },
      "execution_count": 24,
      "outputs": [
        {
          "output_type": "execute_result",
          "data": {
            "text/plain": [
              "[[('n01443537', 'goldfish', 0.78955483),\n",
              "  ('n02606052', 'rock_beauty', 0.0025526267),\n",
              "  ('n01440764', 'tench', 0.0023824011)]]"
            ]
          },
          "metadata": {},
          "execution_count": 24
        }
      ]
    },
    {
      "cell_type": "code",
      "source": [
        "print(\"Accuracy of prediction: \",round(decode_predictions(sampleprediction1,top=1)[0][0][2]*100,2),\"%\")"
      ],
      "metadata": {
        "colab": {
          "base_uri": "https://localhost:8080/"
        },
        "id": "3e4LezcOO1us",
        "outputId": "a779fd70-b08f-4e37-dee7-2835dcbdc9db"
      },
      "execution_count": 25,
      "outputs": [
        {
          "output_type": "stream",
          "name": "stdout",
          "text": [
            "Accuracy of prediction:  78.96 %\n"
          ]
        }
      ]
    },
    {
      "cell_type": "markdown",
      "source": [
        "![image.png](data:image/png;base64,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)"
      ],
      "metadata": {
        "id": "-dkm_MDXO3Qu"
      }
    }
  ]
}