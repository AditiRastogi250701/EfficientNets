{
  "nbformat": 4,
  "nbformat_minor": 0,
  "metadata": {
    "colab": {
      "name": "EfficientNetB3.ipynb",
      "provenance": [],
      "collapsed_sections": [],
      "authorship_tag": "ABX9TyNgKTKKJpO9GOTRwEcg+NCf",
      "include_colab_link": true
    },
    "kernelspec": {
      "name": "python3",
      "display_name": "Python 3"
    },
    "language_info": {
      "name": "python"
    }
  },
  "cells": [
    {
      "cell_type": "markdown",
      "metadata": {
        "id": "view-in-github",
        "colab_type": "text"
      },
      "source": [
        "<a href=\"https://colab.research.google.com/github/AditiRastogi250701/EfficientNets/blob/main/EfficientNetB3.ipynb\" target=\"_parent\"><img src=\"https://colab.research.google.com/assets/colab-badge.svg\" alt=\"Open In Colab\"/></a>"
      ]
    },
    {
      "cell_type": "markdown",
      "source": [
        "# EfficientNetB3"
      ],
      "metadata": {
        "id": "WeKUpqDlR7_x"
      }
    },
    {
      "cell_type": "code",
      "execution_count": null,
      "metadata": {
        "id": "r-PYWYcuJZj5"
      },
      "outputs": [],
      "source": [
        "import sys\n",
        "import os\n",
        "import numpy as np\n",
        "import pandas as pd\n",
        "import matplotlib.pyplot as plt\n",
        "import seaborn as sns\n",
        "import cv2\n",
        "import tensorflow as tf\n",
        "import PIL.Image as Image\n",
        "from tensorflow import keras\n",
        "from tensorflow.keras.applications.imagenet_utils import decode_predictions"
      ]
    },
    {
      "cell_type": "code",
      "source": [
        "model=tf.keras.applications.efficientnet.EfficientNetB3(\n",
        "    include_top=True, \n",
        "    weights='imagenet', \n",
        "    input_tensor=None, \n",
        "    input_shape=None, \n",
        "    pooling=None, \n",
        "    classes=1000, \n",
        "    classifier_activation='softmax')"
      ],
      "metadata": {
        "colab": {
          "base_uri": "https://localhost:8080/"
        },
        "id": "OwjwCUlLMjiF",
        "outputId": "c15e3328-825a-4903-fb1e-8f2120e0ea37"
      },
      "execution_count": null,
      "outputs": [
        {
          "output_type": "stream",
          "name": "stdout",
          "text": [
            "Downloading data from https://storage.googleapis.com/keras-applications/efficientnetb3.h5\n",
            "50102272/50095040 [==============================] - 0s 0us/step\n",
            "50110464/50095040 [==============================] - 0s 0us/step\n"
          ]
        }
      ]
    },
    {
      "cell_type": "code",
      "source": [
        "img=Image.open(r'/content/B3-SAMPLE.jpg')\n",
        "image=Image.open(r'/content/B3-SAMPLE.jpg')"
      ],
      "metadata": {
        "id": "yr32A-7wMjfS"
      },
      "execution_count": null,
      "outputs": []
    },
    {
      "cell_type": "code",
      "source": [
        "img=cv2.resize(np.float32(img),(300,300))"
      ],
      "metadata": {
        "id": "A00sqlx5Mjci"
      },
      "execution_count": null,
      "outputs": []
    },
    {
      "cell_type": "code",
      "source": [
        "img.shape"
      ],
      "metadata": {
        "colab": {
          "base_uri": "https://localhost:8080/"
        },
        "id": "QWjQSJa1MjZ0",
        "outputId": "459ca24f-cab2-451a-8d3e-e3048cc54ef3"
      },
      "execution_count": null,
      "outputs": [
        {
          "output_type": "execute_result",
          "data": {
            "text/plain": [
              "(300, 300, 3)"
            ]
          },
          "metadata": {},
          "execution_count": 7
        }
      ]
    },
    {
      "cell_type": "code",
      "source": [
        "img"
      ],
      "metadata": {
        "colab": {
          "base_uri": "https://localhost:8080/"
        },
        "id": "lB6WbGrTMjWs",
        "outputId": "9cfbeca3-d2e5-4b9a-8cd3-80e95ece9400"
      },
      "execution_count": null,
      "outputs": [
        {
          "output_type": "execute_result",
          "data": {
            "text/plain": [
              "array([[[255., 255., 255.],\n",
              "        [255., 255., 255.],\n",
              "        [255., 255., 255.],\n",
              "        ...,\n",
              "        [255., 255., 255.],\n",
              "        [255., 255., 255.],\n",
              "        [255., 255., 255.]],\n",
              "\n",
              "       [[255., 255., 255.],\n",
              "        [255., 255., 255.],\n",
              "        [255., 255., 255.],\n",
              "        ...,\n",
              "        [255., 255., 255.],\n",
              "        [255., 255., 255.],\n",
              "        [255., 255., 255.]],\n",
              "\n",
              "       [[255., 255., 255.],\n",
              "        [255., 255., 255.],\n",
              "        [255., 255., 255.],\n",
              "        ...,\n",
              "        [255., 255., 255.],\n",
              "        [255., 255., 255.],\n",
              "        [255., 255., 255.]],\n",
              "\n",
              "       ...,\n",
              "\n",
              "       [[255., 255., 255.],\n",
              "        [255., 255., 255.],\n",
              "        [255., 255., 255.],\n",
              "        ...,\n",
              "        [255., 255., 255.],\n",
              "        [255., 255., 255.],\n",
              "        [255., 255., 255.]],\n",
              "\n",
              "       [[255., 255., 255.],\n",
              "        [255., 255., 255.],\n",
              "        [255., 255., 255.],\n",
              "        ...,\n",
              "        [255., 255., 255.],\n",
              "        [255., 255., 255.],\n",
              "        [255., 255., 255.]],\n",
              "\n",
              "       [[255., 255., 255.],\n",
              "        [255., 255., 255.],\n",
              "        [255., 255., 255.],\n",
              "        ...,\n",
              "        [255., 255., 255.],\n",
              "        [255., 255., 255.],\n",
              "        [255., 255., 255.]]], dtype=float32)"
            ]
          },
          "metadata": {},
          "execution_count": 8
        }
      ]
    },
    {
      "cell_type": "code",
      "source": [
        "img=img[np.newaxis,...]"
      ],
      "metadata": {
        "id": "Hh_zY6KsMjUF"
      },
      "execution_count": null,
      "outputs": []
    },
    {
      "cell_type": "code",
      "source": [
        "img.shape"
      ],
      "metadata": {
        "colab": {
          "base_uri": "https://localhost:8080/"
        },
        "id": "VSYS3nCTMjQ6",
        "outputId": "e34072bb-ec28-452c-8391-8c3f0685a88d"
      },
      "execution_count": null,
      "outputs": [
        {
          "output_type": "execute_result",
          "data": {
            "text/plain": [
              "(1, 300, 300, 3)"
            ]
          },
          "metadata": {},
          "execution_count": 10
        }
      ]
    },
    {
      "cell_type": "code",
      "source": [
        "sampleprediction=model.predict(img)"
      ],
      "metadata": {
        "id": "1oJbhxl5MjKv"
      },
      "execution_count": null,
      "outputs": []
    },
    {
      "cell_type": "code",
      "source": [
        "sampleprediction"
      ],
      "metadata": {
        "colab": {
          "base_uri": "https://localhost:8080/"
        },
        "id": "du1h5NkzNkui",
        "outputId": "f9ce84c9-ea4c-4690-be9f-aad46f6f91c6"
      },
      "execution_count": null,
      "outputs": [
        {
          "output_type": "execute_result",
          "data": {
            "text/plain": [
              "array([[2.83863774e-05, 2.98107516e-05, 2.86249815e-05, 3.03276283e-05,\n",
              "        3.01269938e-05, 2.79954766e-05, 8.12322614e-05, 2.90276057e-05,\n",
              "        2.19800440e-05, 1.48589870e-05, 1.17010322e-05, 1.71294741e-05,\n",
              "        1.92231073e-05, 1.96385681e-05, 3.09586321e-05, 4.34370595e-05,\n",
              "        3.13443888e-05, 2.24355445e-05, 1.79110557e-05, 1.58496823e-05,\n",
              "        1.34434749e-05, 8.78557603e-06, 3.31226947e-05, 4.27345622e-05,\n",
              "        4.01518373e-05, 3.83693150e-05, 4.84619341e-05, 3.55961092e-05,\n",
              "        3.94282142e-05, 3.29490686e-05, 2.81403172e-05, 2.56012627e-05,\n",
              "        2.50375651e-05, 2.85649330e-05, 2.59106528e-05, 2.95895679e-05,\n",
              "        4.60950650e-05, 3.31740339e-05, 4.03134109e-05, 2.32875518e-05,\n",
              "        3.92161128e-05, 3.69398294e-05, 2.04939843e-05, 2.56621788e-05,\n",
              "        3.45193621e-05, 3.54591248e-05, 2.07322391e-05, 3.13574528e-05,\n",
              "        4.08915512e-05, 1.91080326e-05, 3.27476046e-05, 2.29124125e-05,\n",
              "        1.73930694e-05, 2.01176899e-05, 9.97373081e-06, 2.48187080e-05,\n",
              "        1.02540253e-05, 2.02457577e-05, 1.28546362e-05, 1.67632716e-05,\n",
              "        3.40053593e-05, 2.91296856e-05, 1.49158632e-05, 2.26450429e-05,\n",
              "        3.88983899e-05, 4.37200360e-05, 9.02673492e-06, 3.02594181e-05,\n",
              "        1.07512524e-05, 1.42095696e-05, 8.33257291e-05, 3.27607886e-05,\n",
              "        1.67403305e-05, 1.85998615e-05, 1.78502814e-05, 4.21086734e-05,\n",
              "        1.23758427e-05, 1.81538417e-05, 1.49620801e-05, 3.35632540e-05,\n",
              "        1.34763231e-05, 1.22818283e-05, 2.36999113e-05, 3.76753378e-05,\n",
              "        1.13724373e-05, 2.35863627e-05, 2.65954968e-05, 1.23899190e-05,\n",
              "        2.26211941e-05, 1.15172952e-05, 2.27415239e-05, 2.77422714e-05,\n",
              "        3.61163111e-05, 5.62831810e-05, 1.01549567e-05, 1.70462154e-05,\n",
              "        3.88527878e-05, 3.47970017e-05, 2.22102481e-05, 1.67456310e-05,\n",
              "        2.48054093e-05, 1.48986173e-05, 3.91066824e-05, 1.18827120e-05,\n",
              "        9.33221745e-05, 2.48435026e-05, 5.04435011e-05, 3.01642212e-05,\n",
              "        5.26502008e-05, 4.75397319e-05, 1.66195950e-05, 1.61300632e-05,\n",
              "        4.52857930e-05, 2.45703450e-05, 1.68874667e-05, 2.00230788e-05,\n",
              "        2.52891296e-05, 2.74293161e-05, 1.86806756e-05, 5.20828326e-05,\n",
              "        2.79654578e-05, 2.54283314e-05, 9.40082373e-06, 4.51973865e-05,\n",
              "        1.96216661e-05, 2.14558313e-05, 2.21126684e-05, 2.67803025e-05,\n",
              "        1.65401889e-05, 3.38153332e-05, 3.61111415e-05, 2.90673597e-05,\n",
              "        1.73656044e-05, 2.58086038e-05, 1.47130977e-05, 1.23561595e-05,\n",
              "        4.71654130e-05, 5.00157294e-05, 2.17052675e-05, 1.63656787e-05,\n",
              "        9.66917651e-06, 1.16130414e-05, 1.53672991e-05, 1.92592579e-05,\n",
              "        4.15107897e-05, 2.29811285e-05, 1.70963594e-05, 1.90567316e-05,\n",
              "        2.05294309e-05, 2.14628089e-05, 1.08996246e-05, 2.28191911e-05,\n",
              "        1.36143617e-05, 6.13577504e-05, 3.86902429e-05, 2.97923361e-05,\n",
              "        7.55056608e-05, 3.37548554e-05, 2.24896776e-05, 1.34254360e-05,\n",
              "        2.86455979e-05, 2.10447706e-05, 2.27938090e-05, 2.25679905e-05,\n",
              "        1.48634226e-05, 3.43600368e-05, 3.35750665e-05, 7.92749488e-05,\n",
              "        1.59127339e-05, 1.52421726e-05, 2.49360746e-05, 1.17121508e-05,\n",
              "        3.17855665e-05, 2.61490368e-05, 1.66365480e-05, 1.45037648e-05,\n",
              "        3.95503448e-05, 1.17870250e-05, 2.62432441e-05, 1.22730244e-05,\n",
              "        1.38519217e-05, 2.72406596e-05, 1.44625474e-05, 9.47795343e-06,\n",
              "        1.91549589e-05, 1.51699105e-05, 1.73995559e-05, 2.05465476e-05,\n",
              "        1.23218342e-05, 9.89291584e-06, 1.16794927e-05, 1.83339343e-05,\n",
              "        2.78555526e-05, 1.75574569e-05, 2.53019625e-05, 1.28475394e-05,\n",
              "        1.54267400e-05, 2.54498264e-05, 2.32483872e-05, 5.67702409e-05,\n",
              "        8.06281969e-06, 2.01467974e-05, 2.37266431e-05, 6.09795607e-05,\n",
              "        1.12755251e-05, 1.78938990e-05, 2.74920912e-05, 2.54317019e-05,\n",
              "        7.10620407e-06, 1.04829369e-05, 1.45819031e-05, 9.68823679e-06,\n",
              "        2.70264791e-05, 2.51436613e-05, 3.63577710e-05, 2.29379057e-05,\n",
              "        2.41399175e-05, 9.97005918e-06, 3.08781637e-05, 1.61511034e-05,\n",
              "        1.99903388e-05, 5.08958910e-05, 2.48021206e-05, 2.11982406e-05,\n",
              "        3.84652340e-05, 3.46888883e-05, 1.12585576e-05, 1.53957881e-05,\n",
              "        3.32968884e-05, 5.44136583e-06, 9.85083261e-06, 1.22445217e-05,\n",
              "        4.92889103e-06, 9.73929855e-06, 1.22473712e-05, 2.51038655e-05,\n",
              "        1.75509940e-05, 1.77149341e-05, 2.86018967e-05, 2.82286146e-05,\n",
              "        1.42535173e-05, 1.60720956e-05, 1.05121799e-05, 2.39606034e-05,\n",
              "        2.15630935e-05, 2.40149584e-05, 2.11502593e-05, 3.26188165e-05,\n",
              "        1.41028222e-05, 2.14876945e-05, 8.54350583e-06, 1.60753007e-05,\n",
              "        3.03630495e-05, 1.57365885e-05, 3.64774824e-05, 1.92761090e-05,\n",
              "        2.15217988e-05, 1.53427864e-05, 1.34430902e-05, 1.20791301e-05,\n",
              "        8.25592178e-06, 2.58317741e-05, 5.96843074e-06, 1.67069484e-05,\n",
              "        9.31025625e-06, 1.95107878e-05, 2.58934360e-05, 4.17035517e-05,\n",
              "        2.73370006e-05, 2.92725745e-05, 4.63592733e-05, 2.39570163e-05,\n",
              "        1.15801167e-05, 3.86799511e-05, 1.65597594e-05, 3.13965029e-05,\n",
              "        2.35524203e-05, 5.36815678e-05, 1.68971001e-05, 2.45415868e-05,\n",
              "        1.36808185e-05, 6.86548856e-06, 1.64047124e-05, 1.24817843e-05,\n",
              "        1.46810717e-05, 7.66428184e-06, 1.78386945e-05, 1.44423693e-05,\n",
              "        4.71328131e-05, 4.20869546e-05, 3.04672703e-05, 2.30050300e-05,\n",
              "        1.30815333e-05, 3.39341532e-05, 4.12202062e-05, 7.05971470e-05,\n",
              "        1.95090215e-05, 2.18421501e-05, 1.61956650e-05, 1.82982822e-05,\n",
              "        1.70054445e-05, 2.06555287e-05, 2.44561706e-05, 1.85859772e-05,\n",
              "        2.38670309e-05, 2.43652394e-05, 2.69953871e-05, 3.65121159e-05,\n",
              "        3.30921939e-05, 2.34597246e-05, 8.14179657e-06, 1.22132888e-05,\n",
              "        3.23778477e-05, 2.40309273e-05, 3.52439965e-05, 2.38887787e-05,\n",
              "        1.57485829e-05, 1.11268182e-05, 1.58100847e-05, 2.06644527e-05,\n",
              "        2.09561094e-05, 2.50181347e-05, 1.78540449e-05, 2.12154519e-05,\n",
              "        1.37044281e-05, 1.60506825e-05, 1.74564484e-05, 3.68302208e-05,\n",
              "        4.36373557e-05, 2.62333360e-05, 5.15467364e-05, 5.00990827e-05,\n",
              "        3.60728664e-05, 4.42970741e-05, 2.44643579e-05, 1.97586669e-05,\n",
              "        1.00209627e-05, 1.38382029e-05, 2.99712683e-05, 2.03964155e-05,\n",
              "        1.72605942e-05, 2.90246735e-05, 3.96358701e-05, 5.71937517e-06,\n",
              "        1.44084579e-05, 2.37661825e-05, 3.36869052e-05, 2.25355161e-05,\n",
              "        2.76941610e-05, 2.11301995e-05, 1.14394979e-05, 8.68845564e-06,\n",
              "        2.87434577e-05, 1.24706949e-05, 1.64679132e-05, 1.18177077e-05,\n",
              "        1.56041951e-05, 3.47760033e-05, 2.31968497e-05, 9.06383684e-06,\n",
              "        9.07594676e-06, 1.53241563e-05, 1.60341278e-05, 2.60153392e-05,\n",
              "        3.06570983e-05, 2.68090243e-05, 7.55500296e-05, 1.66765931e-05,\n",
              "        3.81103164e-05, 1.56774786e-05, 2.27905693e-05, 1.60920808e-05,\n",
              "        3.31029551e-05, 2.25083459e-05, 3.17433369e-05, 1.38587793e-05,\n",
              "        2.47339285e-05, 1.93637006e-05, 1.72020427e-05, 1.82558215e-05,\n",
              "        1.93041251e-05, 2.06384575e-05, 4.15336362e-05, 2.46887521e-05,\n",
              "        2.29200632e-05, 1.94784207e-05, 2.17504621e-05, 4.35726470e-05,\n",
              "        7.32581466e-05, 2.87370149e-05, 3.16889236e-05, 1.42818044e-05,\n",
              "        1.92972966e-05, 2.09734226e-05, 4.70211999e-05, 1.98231228e-05,\n",
              "        4.86664103e-05, 2.64608043e-05, 1.37650341e-05, 9.43182822e-05,\n",
              "        2.24583218e-05, 1.64840021e-05, 1.64481680e-05, 3.09538445e-05,\n",
              "        1.16165193e-05, 1.11769741e-05, 1.63545683e-05, 2.06124714e-05,\n",
              "        8.17409182e-06, 6.90071611e-05, 1.53789260e-05, 8.97952123e-06,\n",
              "        1.49457082e-05, 1.28401789e-05, 1.54216068e-05, 4.71709900e-05,\n",
              "        2.63203437e-05, 2.46358322e-05, 1.16549354e-05, 4.70789746e-06,\n",
              "        9.39116399e-06, 4.75567140e-06, 7.67107576e-06, 3.75687050e-05,\n",
              "        2.25623953e-05, 4.98250592e-05, 2.62228314e-05, 1.68618135e-05,\n",
              "        1.09955618e-05, 1.95100074e-05, 3.92293186e-05, 7.93931667e-06,\n",
              "        1.51051645e-05, 4.25286380e-05, 5.77269129e-05, 1.33863905e-05,\n",
              "        3.57206081e-05, 3.97714612e-05, 1.59716492e-05, 1.10755145e-05,\n",
              "        4.58846944e-06, 2.07124176e-05, 1.09503862e-05, 1.02567546e-05,\n",
              "        1.37791658e-05, 2.91347424e-05, 2.64431845e-04, 2.56370822e-05,\n",
              "        1.96606998e-05, 1.97240079e-05, 2.21606970e-05, 9.95827577e-06,\n",
              "        5.31673095e-06, 2.53123162e-05, 1.83275188e-05, 1.66253958e-05,\n",
              "        1.02527938e-05, 3.21641846e-06, 7.90434206e-05, 2.58847194e-05,\n",
              "        1.49646621e-05, 3.91817002e-06, 1.56505303e-05, 2.90142793e-06,\n",
              "        8.57705800e-06, 1.04524297e-05, 1.37318884e-05, 3.91891190e-05,\n",
              "        1.59120518e-05, 5.15538386e-06, 3.00249394e-05, 5.37177948e-06,\n",
              "        3.96848118e-05, 1.33146968e-05, 1.25797887e-05, 2.19299800e-05,\n",
              "        2.56771855e-05, 9.51103812e-06, 1.85042863e-05, 1.77424081e-05,\n",
              "        2.94060119e-05, 1.16456367e-05, 9.44870408e-06, 1.52740395e-05,\n",
              "        3.85352869e-05, 2.90410626e-05, 1.92801526e-05, 3.64133230e-05,\n",
              "        1.15781959e-05, 8.22544462e-06, 4.76849618e-06, 1.02972026e-05,\n",
              "        1.33197000e-05, 2.05176875e-05, 8.49774096e-06, 1.22260144e-05,\n",
              "        4.24921245e-06, 4.01103498e-05, 2.08041747e-05, 1.31041215e-05,\n",
              "        2.63758484e-05, 1.02966824e-05, 6.87103011e-06, 7.80782866e-05,\n",
              "        1.09204448e-05, 7.43357896e-06, 1.29847595e-05, 1.58797466e-05,\n",
              "        3.60813465e-06, 2.29589587e-05, 3.16182559e-05, 3.84813029e-05,\n",
              "        2.20345682e-05, 1.60453255e-05, 1.80944353e-05, 1.97655463e-05,\n",
              "        6.15834142e-06, 2.86294580e-05, 3.35193795e-06, 4.51502965e-05,\n",
              "        3.07108530e-05, 7.44243835e-06, 3.07799928e-05, 3.96364567e-06,\n",
              "        1.26705236e-05, 1.43375100e-05, 2.70848450e-05, 6.43135281e-05,\n",
              "        1.68773549e-05, 4.29716147e-06, 5.14667699e-05, 8.35912851e-06,\n",
              "        2.07668090e-05, 2.66360330e-05, 1.43375510e-05, 1.28977126e-05,\n",
              "        2.41576272e-05, 4.34826070e-05, 3.77139804e-05, 1.17633081e-05,\n",
              "        4.47171551e-05, 1.46210887e-05, 9.39705842e-06, 9.88504053e-06,\n",
              "        7.69661983e-06, 8.98126837e-06, 1.34130723e-05, 1.49987100e-05,\n",
              "        4.61784475e-05, 5.74193837e-05, 2.13196618e-05, 1.39328465e-03,\n",
              "        4.42235432e-05, 2.07426219e-05, 9.69875691e-06, 3.25430010e-05,\n",
              "        1.64839163e-04, 1.92867719e-05, 9.90372337e-06, 2.22389663e-05,\n",
              "        9.48250999e-06, 3.32137934e-05, 2.01207786e-05, 6.52305680e-05,\n",
              "        1.22271576e-05, 4.03334452e-05, 1.92922362e-05, 1.15451840e-05,\n",
              "        3.28553106e-05, 2.41828438e-05, 1.18584185e-05, 2.67085034e-05,\n",
              "        2.05604065e-05, 1.82437616e-05, 2.72764810e-05, 8.81870801e-06,\n",
              "        2.04425887e-05, 1.08108034e-05, 1.80344996e-05, 1.95508164e-05,\n",
              "        2.18577152e-05, 2.96795533e-05, 9.57566226e-05, 8.15055955e-06,\n",
              "        1.14247796e-05, 6.50293543e-04, 2.47982425e-05, 9.08544644e-06,\n",
              "        3.85092389e-05, 2.87082257e-05, 2.06318837e-05, 2.24694195e-05,\n",
              "        3.05790782e-05, 6.55505755e-06, 2.33075698e-05, 3.33119715e-05,\n",
              "        4.09741688e-06, 6.03240687e-06, 5.53453137e-05, 1.74143297e-05,\n",
              "        9.11156530e-06, 2.12497926e-05, 1.92654661e-05, 2.58106211e-05,\n",
              "        1.00740854e-05, 1.01912854e-04, 5.19506057e-06, 2.85540373e-05,\n",
              "        1.80780644e-05, 2.31152972e-05, 2.07812518e-05, 6.53123971e-06,\n",
              "        1.75375426e-05, 1.23676782e-05, 3.03190664e-05, 4.17939509e-06,\n",
              "        1.52138527e-05, 3.26372683e-05, 6.91354398e-06, 3.90131863e-05,\n",
              "        7.05253069e-06, 1.44490650e-05, 1.18139333e-05, 6.20297305e-06,\n",
              "        1.98453308e-05, 2.78705938e-05, 5.61678971e-05, 1.44518626e-05,\n",
              "        3.51308408e-05, 1.34679861e-03, 1.74782690e-05, 2.08215937e-02,\n",
              "        5.25242722e-05, 1.38443938e-05, 1.92426232e-05, 1.55238358e-05,\n",
              "        4.12954796e-05, 3.69664376e-05, 4.69572988e-05, 2.92212535e-05,\n",
              "        2.39028614e-05, 2.84068915e-06, 9.15074270e-06, 9.86623218e-06,\n",
              "        1.22291058e-05, 2.16145854e-05, 2.77863310e-05, 1.94966324e-05,\n",
              "        1.15049726e-04, 3.70948801e-05, 8.72158762e-06, 2.33453447e-05,\n",
              "        1.15834200e-05, 7.21172501e-06, 1.48348881e-05, 2.22175568e-05,\n",
              "        1.09871871e-05, 1.16260617e-05, 6.41021779e-06, 1.05678764e-05,\n",
              "        1.00000461e-05, 7.95326414e-05, 1.02883532e-04, 2.08572746e-05,\n",
              "        5.27302509e-05, 9.90981789e-06, 1.36000872e-05, 2.20663660e-05,\n",
              "        1.99395581e-05, 3.77070792e-05, 2.57479805e-05, 1.00965253e-05,\n",
              "        3.38585414e-05, 2.52290265e-05, 2.93391458e-05, 1.21625071e-05,\n",
              "        7.45046373e-06, 3.92815991e-06, 1.03774109e-05, 3.16192491e-05,\n",
              "        5.08843641e-06, 1.16611391e-05, 1.21057810e-05, 1.89818566e-05,\n",
              "        3.32676973e-06, 1.91028757e-05, 1.47636138e-05, 1.40887214e-05,\n",
              "        1.88836693e-05, 1.45516597e-05, 2.76859228e-05, 3.16766564e-05,\n",
              "        4.98265363e-05, 3.33986536e-05, 2.13395560e-05, 9.07586946e-06,\n",
              "        2.21456321e-05, 2.96606504e-05, 2.39932106e-05, 1.59398005e-05,\n",
              "        3.01786367e-05, 1.47033907e-05, 1.12222078e-05, 1.13879132e-05,\n",
              "        1.43444577e-05, 1.07445276e-05, 2.07825196e-05, 2.14053507e-05,\n",
              "        1.50013129e-05, 1.19081005e-05, 1.93181768e-05, 9.49712276e-01,\n",
              "        3.41340601e-05, 7.63971821e-06, 8.00135695e-06, 2.13133608e-05,\n",
              "        2.29750804e-05, 2.62826434e-05, 3.24553839e-05, 2.95399732e-05,\n",
              "        1.55591697e-05, 2.85976676e-05, 9.48878824e-06, 1.27649928e-05,\n",
              "        3.20880681e-05, 1.60494274e-05, 3.67980078e-06, 1.60528398e-05,\n",
              "        1.35589962e-05, 1.05251611e-05, 1.96246783e-05, 1.81287724e-05,\n",
              "        2.98416144e-05, 2.19883241e-05, 1.19902743e-05, 6.61924350e-05,\n",
              "        7.45994794e-06, 1.32812038e-05, 8.59069678e-06, 9.46294313e-06,\n",
              "        6.16618081e-06, 5.07187433e-05, 9.75837702e-06, 2.60893048e-05,\n",
              "        9.69125813e-06, 1.69687501e-05, 2.70952823e-05, 1.66866157e-05,\n",
              "        2.60936595e-05, 4.15075847e-05, 4.34232279e-05, 1.02912336e-05,\n",
              "        2.39824349e-05, 1.35912969e-05, 1.98128138e-04, 2.95628561e-05,\n",
              "        1.68515417e-05, 2.86953345e-05, 6.59626448e-06, 1.99936730e-05,\n",
              "        5.68624055e-05, 3.05419744e-05, 1.24509088e-05, 6.98061058e-06,\n",
              "        1.26913119e-05, 4.90624916e-06, 1.67419912e-05, 3.51148788e-06,\n",
              "        4.87891848e-05, 6.74388002e-06, 4.12325744e-06, 1.38732794e-04,\n",
              "        8.27069744e-06, 4.62559728e-05, 8.36880463e-06, 3.32373056e-05,\n",
              "        1.59704141e-05, 4.01631132e-06, 5.16928731e-06, 1.65854581e-05,\n",
              "        3.48055655e-05, 2.65771414e-05, 6.11749856e-05, 4.86584986e-06,\n",
              "        3.56429337e-06, 1.34888724e-05, 1.10850988e-05, 5.92341603e-05,\n",
              "        1.98327489e-05, 2.34357085e-05, 2.54336428e-05, 1.85695171e-05,\n",
              "        1.38114920e-05, 2.45207902e-05, 1.35029277e-05, 1.42656336e-05,\n",
              "        1.11180889e-05, 2.16238423e-05, 9.84224062e-06, 1.17238296e-05,\n",
              "        1.27028516e-05, 2.52190912e-05, 2.41995931e-05, 2.32866423e-05,\n",
              "        5.66712231e-04, 2.62619978e-05, 1.28004549e-05, 4.57295464e-05,\n",
              "        3.12383600e-05, 8.34698858e-06, 9.14607517e-06, 2.57569682e-05,\n",
              "        7.86397686e-06, 6.78613105e-06, 1.65241854e-05, 2.08875517e-05,\n",
              "        1.00745856e-05, 9.45663669e-06, 1.13929973e-05, 1.92475618e-05,\n",
              "        1.09377732e-04, 1.55339058e-05, 1.22838546e-05, 1.97545796e-05,\n",
              "        1.07314509e-05, 3.45543413e-05, 2.74389204e-05, 1.07322747e-04,\n",
              "        7.47525246e-06, 2.62378653e-05, 1.20837503e-05, 6.66269943e-06,\n",
              "        2.51023084e-05, 5.99189043e-05, 7.92013088e-06, 1.15524090e-05,\n",
              "        2.02417814e-05, 5.21093643e-05, 1.42158871e-03, 7.65102377e-05,\n",
              "        2.27114633e-05, 3.33842909e-05, 1.41253413e-05, 1.04340443e-05,\n",
              "        2.49428049e-05, 2.80538206e-05, 2.68545191e-05, 1.61454063e-05,\n",
              "        1.72686614e-05, 6.95208337e-06, 5.23442541e-05, 2.24851738e-05,\n",
              "        2.94665097e-05, 9.60128000e-06, 1.55516336e-05, 5.25777205e-06,\n",
              "        3.54831755e-05, 2.16565113e-05, 1.70008061e-05, 7.48439061e-06,\n",
              "        2.17178567e-05, 1.06378793e-05, 3.30184921e-05, 6.97664427e-06,\n",
              "        3.86323554e-05, 9.71737609e-06, 4.97183573e-05, 2.03369600e-05,\n",
              "        7.66148660e-05, 1.24463859e-05, 1.29420951e-05, 1.48166628e-05,\n",
              "        4.51384585e-05, 9.57538305e-06, 1.07403284e-05, 2.46235941e-05,\n",
              "        1.16580268e-05, 1.60058353e-05, 3.90267860e-06, 3.29236245e-05,\n",
              "        9.99834811e-06, 2.41067664e-05, 1.00995103e-05, 8.65750117e-05,\n",
              "        8.28787870e-06, 4.55377995e-05, 1.98295511e-05, 3.18473467e-05,\n",
              "        2.95633090e-05, 1.41458731e-05, 4.38735806e-05, 3.64684934e-06,\n",
              "        2.83929839e-05, 2.34071867e-05, 5.09946658e-05, 9.69613939e-06,\n",
              "        1.29511327e-05, 5.17012541e-06, 4.03267513e-05, 2.23888637e-05,\n",
              "        3.92570073e-05, 1.04114464e-04, 8.48846685e-06, 4.02347505e-05,\n",
              "        1.75012374e-05, 1.32926207e-05, 5.63743151e-06, 6.10115530e-05,\n",
              "        1.62991073e-05, 2.29474463e-05, 1.45595723e-05, 1.02923714e-05,\n",
              "        3.97000294e-05, 6.06200083e-05, 1.07240949e-05, 2.96977578e-05,\n",
              "        8.09111589e-05, 9.77728723e-06, 3.73828766e-06, 2.14832689e-05,\n",
              "        4.39396536e-05, 1.21355057e-04, 3.57360404e-05, 2.21128375e-05,\n",
              "        2.17742872e-05, 1.35051550e-05, 3.06973852e-05, 1.80772895e-05,\n",
              "        1.14704790e-05, 3.99395185e-06, 7.14914358e-06, 9.49274363e-06,\n",
              "        1.28268384e-05, 3.56973833e-05, 1.22372830e-05, 1.90022329e-05,\n",
              "        2.72926918e-05, 2.01041876e-05, 2.41511316e-05, 1.41683659e-05,\n",
              "        1.16964575e-05, 3.27001726e-05, 5.46756701e-06, 1.18782818e-05,\n",
              "        3.52317984e-05, 7.09068809e-06, 5.35564905e-05, 1.38361056e-05,\n",
              "        1.95998946e-05, 1.70059957e-05, 1.64910471e-05, 1.66378650e-05,\n",
              "        2.05720971e-05, 2.88150095e-05, 7.10157019e-06, 2.42694605e-05,\n",
              "        1.40039274e-05, 3.17982704e-05, 2.39761921e-05, 1.95367811e-05,\n",
              "        3.44473083e-05, 1.20723244e-05, 2.19563062e-05, 1.52686953e-05,\n",
              "        1.58111270e-05, 1.26478872e-05, 1.25441657e-04, 1.46106477e-05,\n",
              "        5.58661986e-06, 5.63463118e-06, 3.00824067e-05, 2.76441060e-05,\n",
              "        4.22341109e-05, 2.21718783e-05, 2.40039899e-05, 2.21201553e-05,\n",
              "        2.34719464e-05, 3.72742797e-05, 2.23275201e-05, 3.49412876e-05,\n",
              "        2.96005201e-05, 1.98340713e-05, 6.37016728e-06, 4.08695232e-05,\n",
              "        3.02110620e-05, 2.25677340e-05, 3.77288015e-05, 2.80566292e-05,\n",
              "        1.76444901e-05, 1.85026802e-05, 1.65808397e-05, 2.01524472e-05,\n",
              "        2.15443270e-05, 2.38577686e-05, 1.44417227e-05, 1.19388715e-05,\n",
              "        1.36363742e-05, 4.47069615e-05, 1.79943327e-05, 5.57275780e-06]],\n",
              "      dtype=float32)"
            ]
          },
          "metadata": {},
          "execution_count": 12
        }
      ]
    },
    {
      "cell_type": "code",
      "source": [
        "sampleans=np.argmax(sampleprediction)"
      ],
      "metadata": {
        "id": "z0p4JpgNNkr8"
      },
      "execution_count": null,
      "outputs": []
    },
    {
      "cell_type": "code",
      "source": [
        "sampleans"
      ],
      "metadata": {
        "colab": {
          "base_uri": "https://localhost:8080/"
        },
        "id": "ibWt4MQGNkou",
        "outputId": "d1ed3d14-dec5-44f8-e1c2-16e50dc6ec6b"
      },
      "execution_count": null,
      "outputs": [
        {
          "output_type": "execute_result",
          "data": {
            "text/plain": [
              "711"
            ]
          },
          "metadata": {},
          "execution_count": 14
        }
      ]
    },
    {
      "cell_type": "code",
      "source": [
        "decode_predictions(sampleprediction,top=3)"
      ],
      "metadata": {
        "colab": {
          "base_uri": "https://localhost:8080/"
        },
        "id": "hwEuOyUHNkln",
        "outputId": "73a61ae5-d4e0-4c0b-c13d-197536d3556b"
      },
      "execution_count": null,
      "outputs": [
        {
          "output_type": "stream",
          "name": "stdout",
          "text": [
            "Downloading data from https://storage.googleapis.com/download.tensorflow.org/data/imagenet_class_index.json\n",
            "40960/35363 [==================================] - 0s 0us/step\n",
            "49152/35363 [=========================================] - 0s 0us/step\n"
          ]
        },
        {
          "output_type": "execute_result",
          "data": {
            "text/plain": [
              "[[('n03916031', 'perfume', 0.9497123),\n",
              "  ('n03690938', 'lotion', 0.020821594),\n",
              "  ('n04357314', 'sunscreen', 0.0014215887)]]"
            ]
          },
          "metadata": {},
          "execution_count": 15
        }
      ]
    },
    {
      "cell_type": "code",
      "source": [
        "print(\"Accuracy of prediciton\",round(decode_predictions(sampleprediction,top=1)[0][0][2]*100,2),\"%\")"
      ],
      "metadata": {
        "colab": {
          "base_uri": "https://localhost:8080/"
        },
        "id": "qr5ZplUNNkia",
        "outputId": "122cb7da-227c-4543-a855-301d1fe2b4ad"
      },
      "execution_count": null,
      "outputs": [
        {
          "output_type": "stream",
          "name": "stdout",
          "text": [
            "Accuracy of prediciton 94.97 %\n"
          ]
        }
      ]
    },
    {
      "cell_type": "code",
      "source": [
        "#Actual Image\n",
        "plt.axis('off')\n",
        "plt.imshow(image)"
      ],
      "metadata": {
        "colab": {
          "base_uri": "https://localhost:8080/",
          "height": 265
        },
        "id": "TKz8gf5ZNkfa",
        "outputId": "e75d33a5-e026-41aa-9f6d-52578d27ab94"
      },
      "execution_count": null,
      "outputs": [
        {
          "output_type": "execute_result",
          "data": {
            "text/plain": [
              "<matplotlib.image.AxesImage at 0x7efcfb46e990>"
            ]
          },
          "metadata": {},
          "execution_count": 17
        },
        {
          "output_type": "display_data",
          "data": {
            "text/plain": [
              "<Figure size 432x288 with 1 Axes>"
            ],
            "image/png": "[encoded data removed]"
          },
          "metadata": {
            "needs_background": "light"
          }
        }
      ]
    },
    {
      "cell_type": "markdown",
      "source": [
        "## Comparison between EfficientNetB0 and EfficientNetB3"
      ],
      "metadata": {
        "id": "w7Cy9TRtOCYq"
      }
    },
    {
      "cell_type": "code",
      "source": [
        "img1=Image.open(r'/content/B0-SAMPLE.jpg')"
      ],
      "metadata": {
        "id": "ss1-LaHAN_ZN"
      },
      "execution_count": null,
      "outputs": []
    },
    {
      "cell_type": "code",
      "source": [
        "img1=cv2.resize(np.float32(img1),(300,300))"
      ],
      "metadata": {
        "id": "MjMvaI5YOP_4"
      },
      "execution_count": null,
      "outputs": []
    },
    {
      "cell_type": "code",
      "source": [
        "img1.shape"
      ],
      "metadata": {
        "colab": {
          "base_uri": "https://localhost:8080/"
        },
        "id": "OswToSKROYWg",
        "outputId": "352ea24b-8d6e-42cc-bd34-a72c7a807816"
      },
      "execution_count": null,
      "outputs": [
        {
          "output_type": "execute_result",
          "data": {
            "text/plain": [
              "(300, 300, 3)"
            ]
          },
          "metadata": {},
          "execution_count": 21
        }
      ]
    },
    {
      "cell_type": "code",
      "source": [
        "img1=img1[np.newaxis,...]"
      ],
      "metadata": {
        "id": "jEIxHT-NOYTX"
      },
      "execution_count": null,
      "outputs": []
    },
    {
      "cell_type": "code",
      "source": [
        "img1.shape"
      ],
      "metadata": {
        "colab": {
          "base_uri": "https://localhost:8080/"
        },
        "id": "hFmjBUvOOYQH",
        "outputId": "9b83e5db-c159-49b0-9a67-c3f9a01180f0"
      },
      "execution_count": null,
      "outputs": [
        {
          "output_type": "execute_result",
          "data": {
            "text/plain": [
              "(1, 300, 300, 3)"
            ]
          },
          "metadata": {},
          "execution_count": 23
        }
      ]
    },
    {
      "cell_type": "code",
      "source": [
        "sampleprediction1=model.predict(img1)"
      ],
      "metadata": {
        "id": "QcewkA_aOYNM"
      },
      "execution_count": null,
      "outputs": []
    },
    {
      "cell_type": "code",
      "source": [
        "sampleans1=np.argmax(sampleprediction1)"
      ],
      "metadata": {
        "id": "uEd19809Oi5a"
      },
      "execution_count": null,
      "outputs": []
    },
    {
      "cell_type": "code",
      "source": [
        "sampleans1"
      ],
      "metadata": {
        "colab": {
          "base_uri": "https://localhost:8080/"
        },
        "id": "0tDNnEakOi1S",
        "outputId": "9919f924-365a-4baf-b606-cc5a758a1278"
      },
      "execution_count": null,
      "outputs": [
        {
          "output_type": "execute_result",
          "data": {
            "text/plain": [
              "1"
            ]
          },
          "metadata": {},
          "execution_count": 28
        }
      ]
    },
    {
      "cell_type": "code",
      "source": [
        "decode_predictions(sampleprediction1,top=3)"
      ],
      "metadata": {
        "colab": {
          "base_uri": "https://localhost:8080/"
        },
        "id": "Xzj89J2rOipb",
        "outputId": "39346112-52bf-4247-c3b3-e2fffe1ab09f"
      },
      "execution_count": null,
      "outputs": [
        {
          "output_type": "execute_result",
          "data": {
            "text/plain": [
              "[[('n01443537', 'goldfish', 0.866079),\n",
              "  ('n02606052', 'rock_beauty', 0.0018914035),\n",
              "  ('n01440764', 'tench', 0.0012238453)]]"
            ]
          },
          "metadata": {},
          "execution_count": 29
        }
      ]
    },
    {
      "cell_type": "code",
      "source": [
        "print(\"Accuracy of prediction: \",round(decode_predictions(sampleprediction1,top=1)[0][0][2]*100,2),\"%\")"
      ],
      "metadata": {
        "colab": {
          "base_uri": "https://localhost:8080/"
        },
        "id": "3e4LezcOO1us",
        "outputId": "9da34fe1-bb5e-4ee6-9672-10e2492c1a75"
      },
      "execution_count": null,
      "outputs": [
        {
          "output_type": "stream",
          "name": "stdout",
          "text": [
            "Accuracy of prediction:  86.61 %\n"
          ]
        }
      ]
    },
    {
      "cell_type": "markdown",
      "source": [
        "![image.png](data:image/png;base64,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)"
      ],
      "metadata": {
        "id": "-dkm_MDXO3Qu"
      }
    }
  ]
}