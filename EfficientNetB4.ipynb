{
  "nbformat": 4,
  "nbformat_minor": 0,
  "metadata": {
    "colab": {
      "name": "EfficientNetB4.ipynb",
      "provenance": [],
      "collapsed_sections": [],
      "authorship_tag": "ABX9TyOjnaCWtdzzP/D79qHZHkZE",
      "include_colab_link": true
    },
    "kernelspec": {
      "name": "python3",
      "display_name": "Python 3"
    },
    "language_info": {
      "name": "python"
    }
  },
  "cells": [
    {
      "cell_type": "markdown",
      "metadata": {
        "id": "view-in-github",
        "colab_type": "text"
      },
      "source": [
        "<a href=\"https://colab.research.google.com/github/AditiRastogi250701/EfficientNets/blob/main/EfficientNetB4.ipynb\" target=\"_parent\"><img src=\"https://colab.research.google.com/assets/colab-badge.svg\" alt=\"Open In Colab\"/></a>"
      ]
    },
    {
      "cell_type": "markdown",
      "source": [
        "# EfficientNetB4"
      ],
      "metadata": {
        "id": "WeKUpqDlR7_x"
      }
    },
    {
      "cell_type": "code",
      "execution_count": 1,
      "metadata": {
        "id": "r-PYWYcuJZj5"
      },
      "outputs": [],
      "source": [
        "import sys\n",
        "import os\n",
        "import numpy as np\n",
        "import pandas as pd\n",
        "import matplotlib.pyplot as plt\n",
        "import seaborn as sns\n",
        "import cv2\n",
        "import tensorflow as tf\n",
        "import PIL.Image as Image\n",
        "from tensorflow import keras\n",
        "from tensorflow.keras.applications.imagenet_utils import decode_predictions"
      ]
    },
    {
      "cell_type": "code",
      "source": [
        "model=tf.keras.applications.efficientnet.EfficientNetB4(\n",
        "    include_top=True, \n",
        "    weights='imagenet', \n",
        "    input_tensor=None, \n",
        "    input_shape=None, \n",
        "    pooling=None, \n",
        "    classes=1000, \n",
        "    classifier_activation='softmax')"
      ],
      "metadata": {
        "colab": {
          "base_uri": "https://localhost:8080/"
        },
        "id": "OwjwCUlLMjiF",
        "outputId": "dfd0bc32-4382-40c4-d342-24aaaeda9bf2"
      },
      "execution_count": 2,
      "outputs": [
        {
          "output_type": "stream",
          "name": "stdout",
          "text": [
            "Downloading data from https://storage.googleapis.com/keras-applications/efficientnetb4.h5\n",
            "78872576/78864416 [==============================] - 1s 0us/step\n",
            "78880768/78864416 [==============================] - 1s 0us/step\n"
          ]
        }
      ]
    },
    {
      "cell_type": "code",
      "source": [
        "img=Image.open(r'/content/B4-SAMPLE.jpg')\n",
        "image=Image.open(r'/content/B4-SAMPLE.jpg')"
      ],
      "metadata": {
        "id": "yr32A-7wMjfS"
      },
      "execution_count": 3,
      "outputs": []
    },
    {
      "cell_type": "code",
      "source": [
        "img=cv2.resize(np.float32(img),(380,380))"
      ],
      "metadata": {
        "id": "A00sqlx5Mjci"
      },
      "execution_count": 4,
      "outputs": []
    },
    {
      "cell_type": "code",
      "source": [
        "img.shape"
      ],
      "metadata": {
        "colab": {
          "base_uri": "https://localhost:8080/"
        },
        "id": "QWjQSJa1MjZ0",
        "outputId": "4b38ee65-a138-4e52-aaec-f1b7aecec9e0"
      },
      "execution_count": 5,
      "outputs": [
        {
          "output_type": "execute_result",
          "data": {
            "text/plain": [
              "(380, 380, 3)"
            ]
          },
          "metadata": {},
          "execution_count": 5
        }
      ]
    },
    {
      "cell_type": "code",
      "source": [
        "img"
      ],
      "metadata": {
        "colab": {
          "base_uri": "https://localhost:8080/"
        },
        "id": "lB6WbGrTMjWs",
        "outputId": "9de594e5-97d1-4d64-846a-dde8d56cbe7b"
      },
      "execution_count": 6,
      "outputs": [
        {
          "output_type": "execute_result",
          "data": {
            "text/plain": [
              "array([[[  9.      ,  13.      ,  16.      ],\n",
              "        [  9.      ,  13.      ,  16.      ],\n",
              "        [  9.815789,  13.81579 ,  16.815788],\n",
              "        ...,\n",
              "        [ 12.      ,  16.      ,  19.      ],\n",
              "        [  9.18421 ,  14.184211,  17.24604 ],\n",
              "        [  9.      ,  14.      ,  18.      ]],\n",
              "\n",
              "       [[  8.841656,  12.841655,  15.841656],\n",
              "        [  8.580297,  12.580297,  15.580297],\n",
              "        [  9.655643,  13.655644,  16.655643],\n",
              "        ...,\n",
              "        [ 10.127263,  15.254526,  17.872738],\n",
              "        [  8.965832,  13.965832,  17.02766 ],\n",
              "        [  9.      ,  12.      ,  17.      ]],\n",
              "\n",
              "       [[  9.051004,  13.051004,  16.051004],\n",
              "        [  8.061842,  12.061842,  15.061842],\n",
              "        [  9.      ,  13.      ,  16.      ],\n",
              "        ...,\n",
              "        [  9.      ,  12.      ,  17.      ],\n",
              "        [  8.921053,  13.921053,  17.859224],\n",
              "        [  9.      ,  14.      ,  17.      ]],\n",
              "\n",
              "       ...,\n",
              "\n",
              "       [[120.      , 133.      , 141.      ],\n",
              "        [121.      , 134.      , 142.      ],\n",
              "        [121.      , 134.      , 142.      ],\n",
              "        ...,\n",
              "        [140.      , 153.      , 159.      ],\n",
              "        [139.07892 , 152.07892 , 158.07892 ],\n",
              "        [139.07892 , 152.07892 , 159.92108 ]],\n",
              "\n",
              "       [[118.      , 133.      , 140.      ],\n",
              "        [118.44739 , 133.44739 , 140.44739 ],\n",
              "        [118.57464 , 133.57465 , 140.57463 ],\n",
              "        ...,\n",
              "        [139.      , 152.      , 160.      ],\n",
              "        [139.      , 152.      , 160.      ],\n",
              "        [139.      , 152.      , 160.      ]],\n",
              "\n",
              "       [[117.      , 132.      , 139.      ],\n",
              "        [117.      , 132.      , 139.      ],\n",
              "        [117.18785 , 132.18785 , 139.18784 ],\n",
              "        ...,\n",
              "        [139.23029 , 152.23029 , 159.86188 ],\n",
              "        [139.      , 152.      , 160.      ],\n",
              "        [139.      , 152.      , 160.      ]]], dtype=float32)"
            ]
          },
          "metadata": {},
          "execution_count": 6
        }
      ]
    },
    {
      "cell_type": "code",
      "source": [
        "img=img[np.newaxis,...]"
      ],
      "metadata": {
        "id": "Hh_zY6KsMjUF"
      },
      "execution_count": 7,
      "outputs": []
    },
    {
      "cell_type": "code",
      "source": [
        "img.shape"
      ],
      "metadata": {
        "colab": {
          "base_uri": "https://localhost:8080/"
        },
        "id": "VSYS3nCTMjQ6",
        "outputId": "24fc343b-745a-4bbc-ade7-8d55100420bd"
      },
      "execution_count": 8,
      "outputs": [
        {
          "output_type": "execute_result",
          "data": {
            "text/plain": [
              "(1, 380, 380, 3)"
            ]
          },
          "metadata": {},
          "execution_count": 8
        }
      ]
    },
    {
      "cell_type": "code",
      "source": [
        "sampleprediction=model.predict(img)"
      ],
      "metadata": {
        "id": "1oJbhxl5MjKv"
      },
      "execution_count": 9,
      "outputs": []
    },
    {
      "cell_type": "code",
      "source": [
        "sampleprediction"
      ],
      "metadata": {
        "colab": {
          "base_uri": "https://localhost:8080/"
        },
        "id": "du1h5NkzNkui",
        "outputId": "d47dcf64-be59-4e58-e8ed-5e52da1c937b"
      },
      "execution_count": 10,
      "outputs": [
        {
          "output_type": "execute_result",
          "data": {
            "text/plain": [
              "array([[4.53800749e-05, 4.28401618e-05, 2.84998678e-05, 1.08991509e-04,\n",
              "        8.72583405e-05, 5.33850398e-05, 2.71303379e-05, 5.85776179e-05,\n",
              "        5.27010270e-05, 7.87620593e-05, 3.77452816e-05, 9.57521333e-05,\n",
              "        6.15237368e-05, 7.21034594e-05, 8.25794050e-05, 2.14956435e-05,\n",
              "        5.50593904e-05, 4.54662368e-05, 5.41385125e-05, 5.68811629e-05,\n",
              "        5.30102261e-05, 2.32022230e-05, 8.41600413e-05, 2.62167014e-05,\n",
              "        4.95018066e-05, 4.02029073e-05, 3.62732899e-05, 6.97867654e-05,\n",
              "        5.73826401e-05, 1.09457236e-04, 5.12010301e-05, 9.92142377e-05,\n",
              "        7.26736835e-05, 4.64595978e-05, 4.80160088e-05, 1.23824691e-04,\n",
              "        6.88950386e-05, 1.03596540e-04, 4.18992458e-05, 5.96569589e-05,\n",
              "        6.46664776e-05, 5.65958944e-05, 3.69285881e-05, 7.06536448e-05,\n",
              "        7.91978673e-05, 3.64654079e-05, 5.69583535e-05, 7.86205928e-05,\n",
              "        1.42762263e-04, 2.63600778e-05, 3.83183360e-05, 7.50288091e-05,\n",
              "        8.01903661e-05, 7.86974852e-05, 1.22633763e-04, 4.67299033e-05,\n",
              "        8.64055764e-05, 6.48375935e-05, 6.38202109e-05, 3.91831709e-05,\n",
              "        2.83702175e-05, 3.25431829e-05, 7.06206338e-05, 3.29418981e-05,\n",
              "        9.00012601e-05, 3.95234165e-05, 8.22816219e-05, 3.40287770e-05,\n",
              "        1.01479032e-04, 5.22294577e-05, 8.29940545e-05, 4.72815555e-05,\n",
              "        5.90717937e-05, 9.75166258e-05, 5.12511033e-05, 2.16813278e-05,\n",
              "        6.42934610e-05, 2.79717497e-05, 8.68144343e-05, 3.32872936e-04,\n",
              "        1.34925955e-04, 3.82654944e-05, 5.06888537e-05, 4.67407372e-05,\n",
              "        3.06547554e-05, 3.32523596e-05, 3.27027228e-05, 1.53718865e-05,\n",
              "        6.80173544e-05, 2.63580678e-05, 2.75785333e-05, 3.26230111e-05,\n",
              "        4.64267359e-05, 7.22458717e-05, 1.05180705e-04, 6.29692731e-05,\n",
              "        1.19674653e-04, 9.68799068e-05, 5.64380243e-05, 6.34997123e-05,\n",
              "        1.73927096e-04, 2.85696424e-05, 4.21367040e-05, 4.18431810e-05,\n",
              "        3.25329420e-05, 2.01274561e-05, 6.39764548e-05, 5.48310381e-05,\n",
              "        2.58562592e-04, 3.30655166e-04, 6.24781678e-05, 5.83187575e-05,\n",
              "        5.47095951e-05, 2.58641867e-05, 2.59201388e-05, 6.92234753e-05,\n",
              "        6.15325334e-05, 1.18450844e-04, 5.05212920e-05, 8.31093785e-05,\n",
              "        1.05325147e-04, 7.47732338e-05, 6.94104237e-05, 5.59581968e-05,\n",
              "        4.95181412e-05, 8.57311170e-05, 1.38746938e-04, 6.44025131e-05,\n",
              "        6.55383410e-05, 4.65423509e-05, 5.15485481e-05, 6.92430913e-05,\n",
              "        3.43701577e-05, 2.72573652e-05, 3.23596614e-05, 6.70266090e-05,\n",
              "        5.79916486e-05, 9.00621380e-05, 4.90566599e-05, 3.89065463e-05,\n",
              "        4.27097439e-05, 7.58933893e-05, 3.10666946e-05, 1.35720547e-04,\n",
              "        5.59738328e-05, 5.75958074e-05, 7.85573357e-05, 5.71081473e-05,\n",
              "        3.24595858e-05, 1.22612473e-04, 9.50169560e-05, 5.48908865e-05,\n",
              "        7.10316453e-05, 5.46998854e-05, 6.47707857e-05, 1.20774530e-04,\n",
              "        9.66008229e-05, 4.30118525e-05, 6.18862250e-05, 2.18617482e-04,\n",
              "        2.90004573e-05, 1.08156324e-04, 9.51608672e-05, 1.27474908e-04,\n",
              "        5.69118747e-05, 6.21817890e-05, 9.33057017e-05, 3.88816188e-05,\n",
              "        1.97250687e-04, 1.57785049e-04, 1.09297325e-04, 1.56259877e-04,\n",
              "        1.31020148e-04, 8.93881152e-05, 5.92786819e-05, 7.82735369e-05,\n",
              "        9.34093332e-05, 1.16563962e-04, 1.43233032e-04, 5.71683086e-05,\n",
              "        3.61856000e-05, 8.89010698e-05, 6.71322923e-05, 4.93725274e-05,\n",
              "        3.72868613e-04, 1.51416447e-04, 1.88367500e-04, 3.10221367e-04,\n",
              "        5.01543836e-05, 1.30366039e-04, 7.85929369e-05, 1.58461233e-04,\n",
              "        1.57218019e-04, 6.97626165e-05, 1.90691731e-04, 1.75927620e-04,\n",
              "        1.58578536e-04, 9.59062163e-05, 7.46254082e-05, 5.70519151e-05,\n",
              "        5.37753767e-05, 1.08465698e-04, 8.53384336e-05, 1.97019064e-04,\n",
              "        1.12606125e-04, 6.05230089e-05, 5.01446775e-05, 8.21444191e-05,\n",
              "        2.14303378e-04, 3.29245318e-04, 1.84507240e-04, 1.54946742e-04,\n",
              "        6.60816659e-05, 1.35206239e-04, 1.02737627e-04, 2.01048097e-04,\n",
              "        2.17055451e-04, 1.25394043e-04, 8.42205045e-05, 1.09312532e-04,\n",
              "        2.70964520e-04, 7.38040544e-05, 1.01327685e-04, 1.21996156e-04,\n",
              "        4.81885872e-05, 1.12824775e-04, 8.65046823e-05, 1.06994274e-04,\n",
              "        5.62105452e-05, 3.94049421e-05, 3.90032474e-05, 5.87789073e-05,\n",
              "        6.21583677e-05, 6.79684599e-05, 6.51705559e-05, 2.11466366e-04,\n",
              "        1.29986394e-04, 5.99368977e-05, 5.98523075e-05, 7.34356654e-05,\n",
              "        6.36413970e-05, 8.40268331e-05, 2.80282635e-04, 1.16422641e-04,\n",
              "        4.83277581e-05, 2.89896328e-04, 2.20418064e-04, 7.55163783e-05,\n",
              "        3.94064235e-04, 1.57455856e-04, 8.61957888e-05, 3.61630409e-05,\n",
              "        8.11194550e-05, 1.02895196e-04, 1.48884676e-04, 5.23992858e-05,\n",
              "        7.82619682e-05, 8.60114378e-05, 6.22332227e-05, 6.11525174e-05,\n",
              "        8.63085588e-05, 4.89352169e-05, 1.19393422e-04, 1.56094087e-04,\n",
              "        6.17737824e-05, 3.62935680e-05, 7.02927355e-05, 5.28178098e-05,\n",
              "        7.11616303e-05, 1.49446307e-04, 1.17280717e-04, 1.62970609e-04,\n",
              "        2.12484432e-04, 3.24933470e-04, 8.49836797e-05, 9.66812877e-05,\n",
              "        9.88356405e-05, 1.21517864e-04, 1.00357807e-04, 7.03600745e-05,\n",
              "        9.29806774e-05, 1.79420749e-04, 9.43801715e-05, 9.98960240e-05,\n",
              "        9.00059822e-05, 5.65640919e-04, 1.36357150e-04, 7.99975678e-05,\n",
              "        7.69040125e-05, 9.68067616e-05, 1.79425537e-04, 1.21788304e-04,\n",
              "        1.12442052e-04, 2.29574565e-04, 6.25300891e-05, 8.50151264e-05,\n",
              "        1.37988711e-04, 8.83598623e-05, 5.71558739e-05, 4.61059171e-05,\n",
              "        5.99045525e-05, 1.28686850e-04, 3.59794103e-05, 5.56716113e-05,\n",
              "        3.51762610e-05, 5.29555036e-05, 2.37820059e-05, 3.67234534e-05,\n",
              "        7.30859829e-05, 5.83647161e-05, 4.80727322e-05, 1.31333392e-04,\n",
              "        4.95860477e-05, 2.80484401e-05, 2.45404153e-05, 4.71598760e-05,\n",
              "        3.64718471e-05, 1.04065606e-04, 6.69810470e-05, 2.67445903e-05,\n",
              "        9.36668657e-05, 9.22430190e-05, 3.78247023e-05, 1.07395936e-04,\n",
              "        1.27303618e-04, 7.78679823e-05, 3.73234361e-05, 1.99679471e-05,\n",
              "        4.77104113e-05, 5.96694772e-05, 6.24822787e-05, 9.60571560e-05,\n",
              "        6.43382373e-05, 2.81536541e-05, 3.05428439e-05, 1.93868414e-04,\n",
              "        6.84139377e-05, 6.53819661e-05, 6.39831633e-05, 2.93985486e-05,\n",
              "        1.57509465e-04, 1.06741121e-04, 1.08041277e-04, 7.12723995e-05,\n",
              "        5.03723932e-05, 4.06853032e-05, 2.70949149e-05, 9.03270702e-05,\n",
              "        3.64108892e-05, 1.51456159e-04, 6.42068844e-05, 4.07466941e-05,\n",
              "        6.64965701e-05, 1.23246005e-04, 6.60037622e-05, 4.61345953e-05,\n",
              "        4.65186531e-05, 9.73455681e-05, 4.33195637e-05, 3.75544769e-05,\n",
              "        7.58902097e-05, 6.84848274e-05, 7.04433915e-05, 2.74845879e-05,\n",
              "        6.16524776e-05, 4.54422625e-05, 7.91980128e-05, 1.01606274e-04,\n",
              "        3.63503095e-05, 2.84764483e-05, 1.20201716e-04, 1.08387721e-04,\n",
              "        1.10681060e-04, 2.48383207e-04, 9.23119223e-05, 5.19067908e-05,\n",
              "        6.65614134e-05, 1.00406054e-04, 4.53882567e-05, 2.55432915e-05,\n",
              "        5.13944688e-05, 2.54248844e-05, 4.76240857e-05, 1.31158653e-04,\n",
              "        6.81088786e-05, 5.34293031e-05, 2.61429723e-05, 7.73992579e-05,\n",
              "        1.83905286e-05, 7.42906050e-05, 1.15801435e-04, 2.58409618e-05,\n",
              "        6.23525193e-05, 8.63948662e-05, 4.59219191e-05, 5.51760859e-05,\n",
              "        1.86147037e-04, 8.44182432e-05, 9.92584319e-05, 5.08205594e-05,\n",
              "        2.37193544e-05, 6.88849832e-05, 1.34965725e-04, 1.13425798e-04,\n",
              "        4.93323350e-05, 1.88126578e-04, 1.14483089e-04, 1.24497019e-04,\n",
              "        2.22616378e-04, 1.04690531e-04, 3.66381682e-05, 3.75343916e-05,\n",
              "        1.73861248e-04, 6.22297230e-05, 5.25782380e-05, 5.94312914e-05,\n",
              "        3.34490294e-04, 1.33526191e-04, 3.02381832e-05, 5.81635140e-05,\n",
              "        2.52513011e-04, 2.17584762e-04, 1.91438259e-04, 7.85719487e-04,\n",
              "        1.14984992e-04, 1.65491714e-04, 1.03402985e-04, 1.29593041e-04,\n",
              "        6.07763504e-05, 8.93433753e-05, 1.05634470e-04, 2.85413735e-05,\n",
              "        1.06929401e-04, 3.37826459e-05, 1.03268852e-04, 2.21580631e-04,\n",
              "        3.24278109e-04, 1.03008992e-04, 9.36825891e-05, 5.06983080e-04,\n",
              "        8.38779961e-05, 7.99476911e-05, 5.64071379e-05, 4.54593865e-05,\n",
              "        7.03854457e-05, 4.09193999e-05, 8.98356739e-05, 2.79189007e-05,\n",
              "        2.11892639e-05, 2.14460888e-05, 2.70019500e-05, 1.00533493e-04,\n",
              "        5.29300560e-05, 1.19481760e-03, 3.40554951e-04, 1.09574619e-04,\n",
              "        4.93819898e-05, 1.52723413e-04, 1.02808488e-04, 2.15595119e-05,\n",
              "        7.13793997e-05, 3.21252919e-05, 1.59980424e-04, 4.09539498e-05,\n",
              "        3.25688132e-04, 1.57784889e-04, 4.45620572e-05, 8.36377294e-05,\n",
              "        5.13031846e-05, 1.43299709e-04, 3.04160989e-04, 1.00189791e-04,\n",
              "        3.23192908e-05, 1.15199466e-04, 8.21193462e-05, 1.08234031e-04,\n",
              "        6.47075649e-05, 2.70003002e-05, 1.18696466e-04, 8.13699444e-05,\n",
              "        8.24086819e-05, 8.44254901e-05, 7.92353385e-05, 8.30627832e-05,\n",
              "        4.65571356e-05, 8.38328197e-05, 1.63209668e-04, 8.72675810e-05,\n",
              "        1.41447308e-04, 6.53263705e-05, 7.15051719e-05, 1.81081377e-05,\n",
              "        8.62394867e-04, 3.97957774e-04, 1.23712152e-05, 3.10447504e-04,\n",
              "        7.87947356e-05, 7.94019797e-05, 3.39247007e-03, 1.10797970e-04,\n",
              "        4.67174723e-05, 3.52330680e-05, 4.80454146e-05, 2.67947562e-05,\n",
              "        6.80235826e-05, 9.81388148e-05, 4.51934538e-05, 1.65741039e-05,\n",
              "        8.75582700e-05, 5.10883619e-05, 1.03021179e-04, 7.74742162e-04,\n",
              "        2.35806674e-05, 5.14196654e-05, 1.76859568e-04, 1.21739649e-04,\n",
              "        1.38552961e-04, 3.30553157e-05, 3.71542119e-05, 3.09484574e-04,\n",
              "        9.32782932e-05, 4.93667831e-05, 4.18666896e-05, 1.24370519e-04,\n",
              "        8.97620266e-05, 2.93051944e-05, 6.03624503e-04, 8.44091410e-05,\n",
              "        1.31309731e-04, 3.72445320e-05, 2.60702102e-04, 6.43591702e-05,\n",
              "        1.61678391e-03, 1.45899481e-04, 4.76297610e-05, 4.87778234e-05,\n",
              "        2.45054744e-05, 1.04300692e-04, 1.33337104e-04, 1.30893386e-04,\n",
              "        3.50970477e-05, 6.80289668e-05, 5.45135590e-05, 1.58618015e-04,\n",
              "        6.29587666e-05, 5.18855595e-05, 4.49167455e-05, 9.46521177e-05,\n",
              "        6.61710335e-04, 3.08126764e-05, 1.20116012e-04, 5.51284866e-05,\n",
              "        6.83999751e-05, 8.33591039e-05, 1.78300252e-04, 4.86917052e-05,\n",
              "        4.32944798e-04, 5.63255962e-05, 7.68014725e-05, 1.19171360e-04,\n",
              "        1.29277905e-04, 1.25798048e-04, 1.61240852e-04, 7.87107710e-05,\n",
              "        5.20778820e-04, 1.06191314e-04, 5.78790459e-05, 1.41953671e-04,\n",
              "        9.52919145e-05, 1.25159873e-04, 6.15772078e-05, 5.05831449e-05,\n",
              "        5.19871464e-05, 8.16096144e-05, 2.53648959e-05, 7.29822059e-05,\n",
              "        6.83322942e-05, 4.96074281e-05, 2.06319310e-04, 2.44255731e-04,\n",
              "        3.31122974e-05, 1.01976817e-04, 3.74815936e-05, 7.90394843e-05,\n",
              "        1.16079624e-04, 7.91866114e-05, 8.98432991e-05, 1.58933490e-05,\n",
              "        4.57291462e-05, 1.63385721e-05, 7.81639610e-05, 6.99502853e-05,\n",
              "        2.02922256e-05, 3.28777794e-04, 1.29701104e-04, 6.05523965e-05,\n",
              "        2.77813469e-05, 2.50147914e-05, 2.47651413e-02, 6.14864839e-05,\n",
              "        6.01491665e-05, 1.13877228e-04, 1.57362927e-04, 8.36084655e-05,\n",
              "        1.33939800e-04, 3.07707414e-05, 2.18587538e-05, 7.28974774e-05,\n",
              "        5.95617348e-05, 2.04864293e-04, 1.51307677e-05, 1.48350489e-04,\n",
              "        1.46910068e-04, 6.44450265e-05, 3.06217080e-05, 9.45925567e-05,\n",
              "        1.84616714e-04, 2.81728298e-05, 6.63752362e-05, 1.44182309e-03,\n",
              "        3.94054485e-04, 4.68433718e-05, 4.77677277e-05, 7.37864611e-05,\n",
              "        3.30007955e-04, 6.03283479e-05, 8.57933628e-05, 5.86003298e-04,\n",
              "        6.89747758e-05, 7.24536949e-05, 4.55637710e-05, 3.53255600e-05,\n",
              "        1.51378612e-04, 4.13870584e-05, 2.19163867e-05, 6.71616799e-05,\n",
              "        8.47213305e-05, 2.15764303e-04, 1.50967287e-04, 2.37267523e-05,\n",
              "        3.67570210e-05, 3.61746970e-05, 1.99517672e-05, 8.31586149e-05,\n",
              "        2.63010425e-05, 2.86534614e-05, 9.25320928e-05, 1.03584192e-04,\n",
              "        1.04727085e-04, 1.52889523e-04, 4.52291133e-05, 2.65823328e-05,\n",
              "        7.42464763e-05, 2.24621210e-04, 2.26396325e-04, 8.42779555e-05,\n",
              "        2.13812411e-04, 3.69760928e-05, 4.88940241e-05, 4.56670423e-05,\n",
              "        8.59979045e-05, 2.47839816e-05, 9.82252386e-05, 6.14083692e-05,\n",
              "        2.38626671e-04, 9.17946745e-05, 2.63845868e-04, 3.32941490e-05,\n",
              "        3.25260262e-05, 2.18575777e-04, 9.28336813e-05, 6.78535725e-05,\n",
              "        1.88372978e-05, 5.21313232e-05, 7.35879366e-05, 1.04271050e-04,\n",
              "        7.70268816e-05, 5.15669890e-05, 2.93377874e-04, 1.06545638e-04,\n",
              "        8.76572740e-05, 3.17810598e-04, 2.31147540e-04, 5.30869729e-05,\n",
              "        3.07056653e-05, 1.38785181e-04, 5.38736240e-05, 7.54589273e-05,\n",
              "        6.40131329e-05, 5.68885953e-05, 5.80339183e-05, 2.36433352e-05,\n",
              "        2.71557346e-05, 1.45027379e-05, 8.76484119e-05, 2.67495398e-05,\n",
              "        1.77367219e-05, 3.82232218e-04, 2.36536551e-04, 4.86526660e-05,\n",
              "        7.86192468e-05, 7.96347886e-05, 4.55560803e-05, 5.53009391e-04,\n",
              "        3.86244319e-05, 6.04307861e-04, 7.88471298e-05, 4.90458988e-05,\n",
              "        4.84670559e-03, 3.97328622e-05, 6.47982815e-05, 3.53565010e-05,\n",
              "        5.62090936e-05, 1.27155217e-04, 1.25503320e-05, 7.89469777e-05,\n",
              "        4.26250263e-05, 1.52929337e-04, 9.74027716e-05, 3.54568547e-05,\n",
              "        5.54030812e-05, 5.87675022e-04, 2.15047676e-05, 2.55258783e-05,\n",
              "        5.28168566e-05, 1.13925889e-04, 4.99125126e-05, 5.28504432e-04,\n",
              "        1.59740212e-05, 1.75299923e-04, 1.13407514e-04, 5.08741905e-05,\n",
              "        5.37304695e-05, 2.39192086e-05, 9.56825752e-05, 6.36604600e-05,\n",
              "        7.91830593e-04, 4.18380732e-05, 3.21795058e-04, 4.75067791e-05,\n",
              "        1.31443467e-05, 1.04031875e-04, 2.91220131e-05, 8.97869395e-05,\n",
              "        6.83261678e-05, 3.04578687e-04, 1.13299189e-04, 9.55220239e-05,\n",
              "        2.30798862e-04, 7.38230592e-05, 4.87852492e-04, 4.65811172e-05,\n",
              "        4.19354619e-05, 6.13554846e-04, 7.97262765e-05, 1.05059844e-05,\n",
              "        6.81012170e-05, 2.02416151e-04, 1.48402487e-05, 1.86712150e-05,\n",
              "        9.80778132e-05, 1.14658680e-04, 1.42919060e-04, 2.42661936e-05,\n",
              "        1.05943283e-04, 1.71369640e-03, 7.01088939e-05, 2.79382912e-05,\n",
              "        4.62803255e-05, 2.63320890e-05, 5.14646490e-05, 1.85060577e-04,\n",
              "        1.56567075e-05, 5.33447346e-05, 4.48113205e-05, 4.97209585e-05,\n",
              "        2.81652538e-05, 1.45601327e-04, 2.26844659e-05, 8.65224210e-05,\n",
              "        6.98225194e-05, 1.72609958e-04, 2.20991424e-04, 3.88973058e-05,\n",
              "        1.99010283e-05, 9.26966895e-04, 2.67199885e-05, 5.11938524e-05,\n",
              "        2.15911903e-04, 6.27953967e-04, 3.26250047e-05, 2.92858058e-05,\n",
              "        1.68522783e-05, 1.23341131e-04, 3.27697984e-04, 6.98442309e-05,\n",
              "        1.30157830e-04, 7.69373146e-05, 9.70048059e-05, 1.27887586e-04,\n",
              "        2.15939479e-04, 2.17630113e-05, 7.17000585e-05, 8.25955503e-05,\n",
              "        5.05867647e-05, 3.20220606e-05, 8.61927401e-05, 3.86314314e-05,\n",
              "        2.81929606e-05, 3.61742532e-05, 3.49364884e-04, 6.52190502e-05,\n",
              "        1.12764101e-04, 3.66596287e-05, 7.00810924e-05, 4.72561296e-05,\n",
              "        2.21178743e-05, 1.20397213e-04, 3.97205702e-04, 1.96600522e-04,\n",
              "        8.47111514e-05, 2.01470248e-05, 1.77014881e-05, 2.47339249e-05,\n",
              "        4.12843656e-05, 1.03539460e-04, 3.25954570e-05, 1.12809008e-03,\n",
              "        4.95396816e-05, 6.00090207e-05, 1.13810776e-04, 8.41749847e-01,\n",
              "        9.77909876e-05, 2.54553452e-04, 4.93933912e-05, 7.11491448e-05,\n",
              "        6.57421697e-05, 2.55090272e-04, 4.17820083e-05, 3.11157382e-05,\n",
              "        1.05095671e-04, 3.07000118e-05, 3.25269866e-05, 6.10585776e-05,\n",
              "        2.56387284e-04, 5.41151785e-05, 9.27533256e-04, 1.55388741e-04,\n",
              "        4.43465215e-05, 6.96254283e-05, 5.05473654e-05, 1.85599201e-03,\n",
              "        7.66728917e-05, 1.15258263e-04, 1.62090990e-03, 3.83334664e-05,\n",
              "        1.05770850e-04, 2.61251675e-03, 1.91887535e-04, 7.19015079e-05,\n",
              "        2.20773189e-04, 1.55498012e-04, 4.54983347e-05, 8.72337987e-05,\n",
              "        5.99168416e-05, 2.67119140e-05, 6.03695589e-05, 7.11612156e-05,\n",
              "        4.30387910e-04, 2.33235096e-05, 7.10673557e-05, 3.82013568e-05,\n",
              "        4.12463123e-05, 5.08656994e-05, 1.60040698e-04, 9.59390600e-05,\n",
              "        2.00883849e-04, 8.42229565e-06, 5.60162334e-05, 4.04743878e-05,\n",
              "        7.48617094e-05, 5.51666948e-04, 7.65260629e-05, 3.06656788e-04,\n",
              "        1.57105911e-04, 9.45549924e-03, 8.02042050e-05, 2.46093641e-05,\n",
              "        7.51483967e-05, 1.37266557e-04, 1.73610068e-04, 4.12263726e-05,\n",
              "        3.49901547e-03, 1.92003776e-04, 2.76913459e-04, 7.82377174e-05,\n",
              "        4.01919060e-05, 1.93447959e-05, 2.95190148e-05, 2.60942270e-05,\n",
              "        6.32187439e-05, 6.67507120e-05, 4.49852923e-05, 1.23833321e-04,\n",
              "        9.91684574e-05, 1.79869274e-03, 3.75713134e-05, 2.14969132e-05,\n",
              "        4.02753976e-05, 5.64409347e-05, 8.52150552e-05, 3.39906022e-04,\n",
              "        2.38696448e-05, 4.78353795e-05, 2.75785333e-05, 4.58026916e-05,\n",
              "        6.68505454e-05, 4.96136745e-05, 7.45868456e-05, 2.52908612e-05,\n",
              "        6.11983778e-05, 9.32458279e-05, 2.33302508e-05, 2.16603294e-05,\n",
              "        6.18417471e-05, 2.63846250e-05, 4.63856668e-05, 2.44388430e-05,\n",
              "        1.81710893e-05, 1.70390224e-04, 4.54774672e-05, 5.00325659e-05,\n",
              "        5.05577773e-05, 1.49280779e-04, 8.03315852e-05, 4.57369570e-05,\n",
              "        8.79719082e-05, 4.22183984e-05, 4.21621080e-05, 1.23305494e-04,\n",
              "        3.12170341e-05, 2.19017602e-05, 4.90297170e-05, 5.35341678e-05,\n",
              "        5.92392935e-05, 8.91887757e-05, 7.20065000e-05, 4.16576731e-05,\n",
              "        8.89946314e-05, 5.31273399e-05, 4.74044937e-05, 4.71948333e-05,\n",
              "        3.07618830e-05, 4.11015353e-05, 6.91178648e-05, 5.32980048e-05,\n",
              "        2.09580649e-05, 2.64671380e-05, 9.24989290e-05, 6.69601577e-05,\n",
              "        3.68600486e-05, 2.84207763e-05, 8.21928406e-05, 9.30502665e-06,\n",
              "        8.76938138e-05, 7.59860923e-05, 4.78516704e-05, 4.09843851e-05,\n",
              "        5.60955159e-05, 1.31024019e-04, 5.55938313e-05, 6.76840500e-05,\n",
              "        1.24045138e-04, 1.54011388e-04, 3.39449252e-05, 3.60579361e-05,\n",
              "        2.08367746e-05, 8.52574085e-05, 3.13938945e-05, 1.00303605e-05,\n",
              "        2.79841552e-05, 1.80321149e-04, 4.89533304e-05, 1.25365579e-04,\n",
              "        7.35901776e-05, 2.41228729e-04, 5.54479084e-05, 5.00652604e-05,\n",
              "        2.22486578e-05, 4.06166073e-05, 3.63531508e-05, 1.41363562e-04,\n",
              "        3.62985884e-05, 5.56690647e-05, 2.71253721e-05, 2.55758805e-05,\n",
              "        1.66771249e-04, 1.43963980e-05, 2.43479990e-05, 6.99650918e-05]],\n",
              "      dtype=float32)"
            ]
          },
          "metadata": {},
          "execution_count": 10
        }
      ]
    },
    {
      "cell_type": "code",
      "source": [
        "sampleans=np.argmax(sampleprediction)"
      ],
      "metadata": {
        "id": "z0p4JpgNNkr8"
      },
      "execution_count": 11,
      "outputs": []
    },
    {
      "cell_type": "code",
      "source": [
        "sampleans"
      ],
      "metadata": {
        "colab": {
          "base_uri": "https://localhost:8080/"
        },
        "id": "ibWt4MQGNkou",
        "outputId": "17e92e71-f5c8-4bbb-bf7f-b7a044ef5dbb"
      },
      "execution_count": 12,
      "outputs": [
        {
          "output_type": "execute_result",
          "data": {
            "text/plain": [
              "831"
            ]
          },
          "metadata": {},
          "execution_count": 12
        }
      ]
    },
    {
      "cell_type": "code",
      "source": [
        "decode_predictions(sampleprediction,top=3)"
      ],
      "metadata": {
        "colab": {
          "base_uri": "https://localhost:8080/"
        },
        "id": "hwEuOyUHNkln",
        "outputId": "19f25f9a-ad10-49bd-a0d1-3cc5df947704"
      },
      "execution_count": 13,
      "outputs": [
        {
          "output_type": "stream",
          "name": "stdout",
          "text": [
            "Downloading data from https://storage.googleapis.com/download.tensorflow.org/data/imagenet_class_index.json\n",
            "40960/35363 [==================================] - 0s 0us/step\n",
            "49152/35363 [=========================================] - 0s 0us/step\n"
          ]
        },
        {
          "output_type": "execute_result",
          "data": {
            "text/plain": [
              "[[('n04344873', 'studio_couch', 0.84174985),\n",
              "  ('n03529860', 'home_theater', 0.024765141),\n",
              "  ('n04525038', 'velvet', 0.009455499)]]"
            ]
          },
          "metadata": {},
          "execution_count": 13
        }
      ]
    },
    {
      "cell_type": "code",
      "source": [
        "print(\"Accuracy of prediciton\",round(decode_predictions(sampleprediction,top=1)[0][0][2]*100,2),\"%\")"
      ],
      "metadata": {
        "colab": {
          "base_uri": "https://localhost:8080/"
        },
        "id": "qr5ZplUNNkia",
        "outputId": "12e6e285-c6a3-4a38-9247-01d802384dab"
      },
      "execution_count": 14,
      "outputs": [
        {
          "output_type": "stream",
          "name": "stdout",
          "text": [
            "Accuracy of prediciton 84.17 %\n"
          ]
        }
      ]
    },
    {
      "cell_type": "code",
      "source": [
        "#Actual Image\n",
        "plt.axis('off')\n",
        "plt.imshow(image)"
      ],
      "metadata": {
        "colab": {
          "base_uri": "https://localhost:8080/",
          "height": 265
        },
        "id": "TKz8gf5ZNkfa",
        "outputId": "c4efdab4-54ef-4b09-fa15-c40ef660c3ad"
      },
      "execution_count": 15,
      "outputs": [
        {
          "output_type": "execute_result",
          "data": {
            "text/plain": [
              "<matplotlib.image.AxesImage at 0x7f76ab5c8b90>"
            ]
          },
          "metadata": {},
          "execution_count": 15
        },
        {
          "output_type": "display_data",
          "data": {
            "text/plain": [
              "<Figure size 432x288 with 1 Axes>"
            ],
            "image/png": "[encoded data removed]"
          },
          "metadata": {
            "needs_background": "light"
          }
        }
      ]
    },
    {
      "cell_type": "markdown",
      "source": [
        "## Comparison between EfficientNetB0 and EfficientNetB4"
      ],
      "metadata": {
        "id": "w7Cy9TRtOCYq"
      }
    },
    {
      "cell_type": "code",
      "source": [
        "img1=Image.open(r'/content/B0-SAMPLE.jpg')"
      ],
      "metadata": {
        "id": "ss1-LaHAN_ZN"
      },
      "execution_count": 22,
      "outputs": []
    },
    {
      "cell_type": "code",
      "source": [
        "img1=cv2.resize(np.float32(img1),(380,380))"
      ],
      "metadata": {
        "id": "MjMvaI5YOP_4"
      },
      "execution_count": 23,
      "outputs": []
    },
    {
      "cell_type": "code",
      "source": [
        "img1.shape"
      ],
      "metadata": {
        "colab": {
          "base_uri": "https://localhost:8080/"
        },
        "id": "OswToSKROYWg",
        "outputId": "5630d3b1-eaac-4340-d108-28b00339eb26"
      },
      "execution_count": 24,
      "outputs": [
        {
          "output_type": "execute_result",
          "data": {
            "text/plain": [
              "(380, 380, 3)"
            ]
          },
          "metadata": {},
          "execution_count": 24
        }
      ]
    },
    {
      "cell_type": "code",
      "source": [
        "img1=img1[np.newaxis,...]"
      ],
      "metadata": {
        "id": "jEIxHT-NOYTX"
      },
      "execution_count": 25,
      "outputs": []
    },
    {
      "cell_type": "code",
      "source": [
        "img1.shape"
      ],
      "metadata": {
        "colab": {
          "base_uri": "https://localhost:8080/"
        },
        "id": "hFmjBUvOOYQH",
        "outputId": "81ec7e50-b3f3-4c22-896d-2b18729ef101"
      },
      "execution_count": 26,
      "outputs": [
        {
          "output_type": "execute_result",
          "data": {
            "text/plain": [
              "(1, 380, 380, 3)"
            ]
          },
          "metadata": {},
          "execution_count": 26
        }
      ]
    },
    {
      "cell_type": "code",
      "source": [
        "sampleprediction1=model.predict(img1)"
      ],
      "metadata": {
        "id": "QcewkA_aOYNM"
      },
      "execution_count": 27,
      "outputs": []
    },
    {
      "cell_type": "code",
      "source": [
        "sampleans1=np.argmax(sampleprediction1)"
      ],
      "metadata": {
        "id": "uEd19809Oi5a"
      },
      "execution_count": 28,
      "outputs": []
    },
    {
      "cell_type": "code",
      "source": [
        "sampleans1"
      ],
      "metadata": {
        "colab": {
          "base_uri": "https://localhost:8080/"
        },
        "id": "0tDNnEakOi1S",
        "outputId": "5dab246e-013e-4cd0-b7cd-047136729fcd"
      },
      "execution_count": 29,
      "outputs": [
        {
          "output_type": "execute_result",
          "data": {
            "text/plain": [
              "1"
            ]
          },
          "metadata": {},
          "execution_count": 29
        }
      ]
    },
    {
      "cell_type": "code",
      "source": [
        "decode_predictions(sampleprediction1,top=3)"
      ],
      "metadata": {
        "colab": {
          "base_uri": "https://localhost:8080/"
        },
        "id": "Xzj89J2rOipb",
        "outputId": "86d24150-3457-45c8-975d-2e1875729a95"
      },
      "execution_count": 30,
      "outputs": [
        {
          "output_type": "execute_result",
          "data": {
            "text/plain": [
              "[[('n01443537', 'goldfish', 0.6381492),\n",
              "  ('n02606052', 'rock_beauty', 0.0025576663),\n",
              "  ('n04152593', 'screen', 0.0017691465)]]"
            ]
          },
          "metadata": {},
          "execution_count": 30
        }
      ]
    },
    {
      "cell_type": "code",
      "source": [
        "print(\"Accuracy of prediction: \",round(decode_predictions(sampleprediction1,top=1)[0][0][2]*100,2),\"%\")"
      ],
      "metadata": {
        "colab": {
          "base_uri": "https://localhost:8080/"
        },
        "id": "3e4LezcOO1us",
        "outputId": "f12dd1f2-dcd1-4c6e-9bbf-a4c0d3a0b8c4"
      },
      "execution_count": 31,
      "outputs": [
        {
          "output_type": "stream",
          "name": "stdout",
          "text": [
            "Accuracy of prediction:  63.81 %\n"
          ]
        }
      ]
    },
    {
      "cell_type": "markdown",
      "source": [
        "![image.png](data:image/png;base64,iVBORw0KGgoAAAANSUhEUgAAA4IAAAGfCAYAAAAK3mwNAAAAAXNSR0IArs4c6QAAAARnQU1BAACxjwv8YQUAAAAJcEhZcwAADsMAAA7DAcdvqGQAAGzWSURBVHhe7d3/q1T13v//2Z/f+2bnpxCJVLjieFGY2kEzUDBN4+BFX8yTvBGKUoug61yX1Ta5iPLL9vIqiLRtKMRFnl0nD4Wc3TdBwV0Hv6TsOEmBGhHRT1Z69QfszzxmnqtZ85rX+jprzZ7tut/gVa+1nbVmzVoz67Wer29rYKKuBgBABQ0MDNQoBgEAVfT/2f8BAAAAABVBIAgAAAAAFUMgCAAAAAAVQyAIAAAAABVDIAgAAAAAFUMgCAAAAAAVQyAIAAAAABVDIAgAAAAAFUMgCAAAAAAVQyAIAAAAABVDIAgAAAAAFUMgCAAAAAAVQyAIAAAAABVDIAgAAAAAFUMgCAAAAAAVQyAIAAAAABUzMFFneQCOzz77rPaPf/yjdvTo0dpPP/1U++KLL+xfWpYvX167/vrra0uWLKn94Q9/qN122232LwD63cDAQI1iEN369ttva0eOHKkdO3asdvHixY6yYt68ebWZM2c2yolly5bVbrnlFvuX7nz55Ze1Tz75pFFGXbhwofHeYSqf9F533313431vvPFG+xdcbXSPou/g8ePHG99HfS/C9P2bNWtWbenSpY3vBfcqaFAgCGQ1Pj4+US/YdPcUmeoXmomRkRFboxhjY2MTa9as8b5fkLRf2r+86gXpxNDQ0MQNN9zg3X5Sql9sG+tfunTJtpjN4OCgd7txSfuq462k9x4dHc39/mE6jvo8vvfMk/TZoujcav/ddfQ3/RtQBn3HMDXpGhdXHui6qH8v4loYRWWc77qVlLq5runzDA8P57o2b9y4sVHGRdE13/d5VK52U57rs/ruGfReSeW1Pm+eY6yk9fQd0PGK+9zd0HGJOxfdHrskOrY6r773jkvaZ99+Rf2mol6fJO5+UecHk4sSELlkKYB0gSqCLia+7fuS9i+PbgJAN2k7Csiy0AXdt628SRf0boKovIVvVFJhECXuvSgsUBZ9vzA16XrtXit8qYyb8KiAKWvKWj6qTMlS/kalqGMSd0y7uQ7HBex6zzhpz3OapM/QTZnoUpCa5p4h7z1JHL13ngDQTSqXw5UlSd+vrAF13O9Exw6TixIQmemC4ftBx6UiLrxZC93whS2JXhtVY9VtylLQq9bSt41uk45dUq2rT1FBcThFiTu/+jegDPp+YWpKGxDFVUDloSCqyGujrvtp5OktEpd8ZUJZgWDc9T0pEIwLIvOmoiqo9V3wbd+XslYMx9G5K6JCIEg6xoGkz5Tl2CVVbiede5SPyWKQ2ddff2259F5//XXL5ROMg8gi7X6qX/2KFSu84/+K8MYbb9Q2bdpkS/GuXLliuWLp2N1+++21ffv22V/S+eWXXywHAP1DZYI7Hi6Kru0aM1WEd955p7Z27dpCr43vv/++5aKpDNm+fbstFSNrmTpZLl++bLniZCmX43zwwQeWS/b3v//dct3Rd19jTdN+/9N49913LVerPfzww43xhFH0G9B9Uxp/+ctfLNfphhtuqD366KO2hMlCIIie0EUm7YXDJ2sAk1bZQWBAhU5ZnyGLDRs2FFL45TVv3jzLAUB+f/3rXy2XjibR6JYmD1MQ2Gu7du1qlCEolo6pjm1eun8IB1BJFEB1S++pILDsStqXX37Zcp303gcOHLClaKp8ifvePvfcc0xe1AcIBNEz3RTERVxAfV555ZXEIFC1Vhs3bqyNjo7WLl26pH5kjaT82NhYbXBwsPGaJM8//3xhtdLd6Lbw68Y999xjOQDIL2tg9N///d+Wy0c34H/84x9tKZrKgqGhodr4+PhvZYWSlkdGRhqzNWah4PPZZ5+1pWhqwdH21UoUfl+VUcPDw7EtPFW2c+fOxrnN49ChQ5ZLRwFUt/cyjzzySKogUPcsOvfh74K+G7qP0b8lSWoVTHPcdu/ebblOtAb2kfqXA8gkrs93XJ/1vOM04vqrx72f9jNO3OcIksY1pBkYrTGG6jfv20Y4JfWtzzM+Q++tz6JxJnHjMNyUdHzEt16Q0qyfRdy+R312oFv6fmFq0Vgr9xoRpLgyIc846UDa67uux0l07Qxf7+Kub3GfJ0hpxxiqLA1vzzc+K08ZlEbc9T1pnFiedXWudVzSHD8dlzyi5hWIe8/wWLys4u6FgqR9SnPPote432lX0vvFHTf9DurBnnc9paRzjt6hBERmcQGULthxA7vTXKBcUYWA3ieugEgKVOLWVUoK2nziCtEgxR2DIgphfe6oAiqc0gTmvvWCRCCIq4G+X5haooIylQlxE6rEPb4mjq7Zvu2FU57yQoGKbpajJhFJc+OfNYjRDbqOg97XVxYVUQb5xF3fk4KCbtaVqO9LkPKcu7jvRNw9klKaygKfpKBWZXrWbWtftd2o30bce+rfosR9j/Tdy3sMUDy6hqJwq1evtlynNP3Kw3wPRQ3EvU+SpMln6he42ksvvWRL6W3evDmx608RY1Xi3HXXXbXTp08ndv9Ql9iyutwCQBnUHS3quqUy4aGHHrKlTlnGc4XFdXETXfP37t1rS+k98cQTtZ9//rm2cuVK+0u7F154wXJ+9ZvtRhe+LDQma9u2bY33Leqh9v1OZbm6IkbJM2Qjqluo7h1UBq9Zs8b+0inPPYC+8/Xg05Y66fN9/PHHmcfcaV8vXLjQ+E74xI0V1P74fov6jarraBTGBvYXAkEUbtmyZZbrlLUgjrrY6qKXtQAM+2vCRANvvfVW7gtVUuGdZoa4IujGJK4wEn1OAJgqdBMdNUZKZc9tt90WObZJN64ffvihLaWXVGGWJwhMkjQrqj6jKh6RTGX5ggULbKkYb775puXaBWVuXEX1//zP/1guvaTZSfUdLCO40n1WXOW2734n7jfK97b/EAiicLoYRbVGqWDT4Pe0oi623QSBEheQzps3r1FLlpfW1Tai9HLK7j179sTWhGpf+mECGwBII+qGWDfgwY1wXAVY1in8FTjGTc6hsq6MlrWkysq4lhqUKy5ID1qk4yrEsz7ORC1scfcsCq66vSeKE1e57buni3s939v+QyCIUtx3332W6xT3XJkwFcBRF9s//elPlstOF+C4mtYHH3zQcvklbSNLMNwN3RipG0acU6dOWQ4A+lfcDXG4BSaue2jW7vCff/655fziyrpufPrpp5bziws0kM31119vuXSignQFZGqRFpW9RXUPPXnypOX8knr+dEuV23GtguHgTvc2UfdXZQesyIdAEKXQmIeoligVxEnTDktUza0uJt202CUFPgsXLrRcfknb+OGHHyxXvgceeMByfsePH7ccAPSvuJvncGAU1z1UrXtZuocmBWRR4/u6ofIx7rFGuikvoxvg1SpurgHRc/myiKqMcAOyuO6h+/fvt1yypMqIe++913LliWvlC/csiqvopzWwPxEIojRRNT8qiJNqw1QQRj0n6vHHH7dcPt9//73l/LoJMgM33XST5fyS9qFI6rYU11WVrqEApoKosVXhbqGBuFaS//3f/7VcsqSArAxff/215fyWLl1qOSTRvURSi1mW1tW4nkpuS3RS91B1MU3jzJkzlvMr4p4lSVKroCYCjLtvozWwfxEIojSaES1K0sDnuAe1JrVwJTl79qzlOsWNp8ui32Zji6odl7xdQxcvXlwbGBhIlbZs2WJrAUB2qrCKCsp8LS9Js4em6ZWSVElW1nU+qcfIjBkzLIco6qKocmf27NmxwXzWMZ5xPZWCbqGBpO6hf00YBxrQrJ5R4sr2osW1CioAjLtvozWwfxEIojRx3XNUEMcVslHdJlQj1W3he/nyZct1KnpmsShHjx61XG/MnTvXcp3iJkIoSlQtIQCkkbZbaCCu/JE0Y7R+/PFHy/ndfPPNlitWUo+R6dOnWw7PPvust/JRFZXbt2+PLd9U8Zv1MVFRY0yjAr647qFxE8CExc1pMGvWLMuVL65VUMd5w4YNttROv0NaA/sXgSBKFVcbFlUQq7tEVA3e+vXrLYeppBfBJoCr13//939brp3KmKjxcnHlD4/OqTYFJ8eOHcs01lJBYFRZFtUCHdc9VAFeryaOK0pcq2AUWgP7G4EgSvXoo49arlNUwR7XXSJLX34AwNQXN11/XItLXPdQHp1TXeoOqpk43a6cSaKGtCiojNpWUvfQtLOo94uksYIuWgP7H4EgShU3UYkKdt9g6ahuhLp4Z6m9Q/8oauwlgOrJWzlYRPdQXD0UkOm+I8/D1zWmNO1soa64yoqsjzPpB1laBWkN7H8EgijdY489ZrlO+/bts1xTXNeLsp7XNBnuuOMOy02+XgRpCuIBII+4G/CkG/q4m/QsU/hj6tOQk6Rxn1HiKg3iWp4lrrJC9ztZHmfSD9QqmBT8iloOaQ3sfwSCKF3cRdCtDYvrelHG85pcvXq4+nXXXWe53oibKTXvBDljY2O1iYmJVGnbtm22FgCkF/eA6riWlkDcTXqWKfx9rly5Yrne+r//+z/LIQt9jzSJTJ5WuKgxpXHdQgNJ3UOzPM7ElWb22zJoIp4kecYTovcIBFE6dQ+Nm2kqqA3TeI28XS+yiJt1tKhJTZJuLno9/Xfc9NnXX3+95QCgv8SNoVq7dq13xshwuv322+3VfnHdTpOeB5v0fLe8ksqHr776ynIYGhpqq3RUBWXS/cKmTZsyVQDo3iTqgfQKLn3fOzfFzRCqf4sL6OK6N8eV7WXSfVRcTx8NCerF8w3RPQJB9ETcbJ9BbVjcM2iSul5kkTTldzc1xIGkBwL3cvpvFWJRNeoS92gJAJhMZY+hirtBT3pUUVk9SJLKh7geHlWn4EPfmeHhYftLJ1X46rETafViLGnceyQ9IqKIe5Y84u6lmM9h6iAQRE/EdQ8NasPefPNN+0s71Sxlnd0rzpw5cyznlxTEpXH8+HHL+fWypiwuwJaFCxdaDgD6h3qLFNVLI4oqyeKm8I+a7Ey0b2XchN96662W8/v0008t11uT1Q0xjyeeeCJ2dku18KV9dEMvxpLGPc4kaU6BEydOWA7IjkAQPZHUR/7JJ5+MbLWKm2wmj3/5l3+xnF/UOMUs4mqxs0y93C0V3Dt37rSlTpoohu4bAPpRN2Onsojrfjp//nzL+cV1Lc1L5WVcd8DwkIqixVWUdtMNMS6ILGuohGYHjZNmRksF+r3ofhn3OJN//dd/tZwfkx6hGwSC6Jn/9//+n+U6xXXPeeCBByxXDHX3iStktS/dPF9KQWBcLfa//du/Wa58CrDj9oUZvQD0IwUOceVCkeIq7pJmq9bjjspoKUsa5/baa69ZrljXXnut5fzyBKAqT+OCqbKGSiSNY0vTKlhGoB8lqnto0vOTdWyn2oPp0T8IBNEzmvUz66MKVBiW0df8nnvusZzf7t27LZeNbgg0ED1O0YFtFO1H0o2Uus8AQL/p5TP+4lrYksotrfvKK6/YUnGSxsUriCmjVTCph0ieADRpeEKZvVKSyrikB7r3qjJColr2knpUyTPPPGM5IBsCQfRU1haoNNOD5/GnP/3Jcn6q5c06SYGCwBUrVsS2wPXiofiqfdV+RD2YP6CCpcixlwBQlLgu+uPj420zRaZNcQHd3//+d8t1Siq3NJV+1vJC1IqjiUB8lYdJD8OXdevW5RqjqOf3Tps2LXKf48ZFKgDN8lm1f3ETsyQFON3ScYz7PCono3oAad+jhqxov33fsaQUN4mNWvai9iXpXkjrJlVC+wT3C0kT0uDqRSCInkoKwMJUaJfVdVE1kElj9TQ1ufvA+yjBxTRpLMF//Md/WK44CkB1Q6F91fHSzYMK6zg6tmmeAwQAvabraVRLjK5veSuw4sqTuC6eaa7bKi927dplS/H0+XTTrmfaKdCIuvlPGsOmSsclS5akbhlUOaFyasOGDY11v//+e/uXdknj8vVZ0wSDej/tX5yyKnvD/vznP1vOL6rFMq78z7vfSd08Dxw4YLl2QdkeR99hvS5NV2W9Rt9XBcm6X4ibWRxXuQkgo7GxsQl9dXypHlzZq6LVL2bedd20ceNGWyOa3s+3rpL2M07c5wgn7e/w8HDH9uoXzonR0dHGfvrWc9PQ0JCtGU2v8a1bdNJ+p+Fbt5u0Zs0a23KnuHOZNel8AWno+4L+ot+v+5sO0uDgoL0qO133fNsM0sjIiL2yk97Xt46b4soLbV/XQHeduHKzfqPe8Xpf0ja0/fHxcVuzScvaH992osqkS5cuTdxwww0dr3dT8J76bAGtm7Zc1LFKI65sSFOuStzn0b9pv11x6/hen1bcOY07Jknf3yBpv/V91XcwvJ/hc+P7bFnF3a/EfafRXygBkVlcAJXmx5+2QHULNJ+4AsItiH3S7ku3Ke1FsReBYNzNjsu3frcpSty5zJoohJCWvi/oL3E3ymkrsaLE3dzHVVTpJjptUJY1xV2vVA7G7XM3KS6IigvGi0ppz2Vc2ZA2EEwqW91yMS7o0vegG0nHNu7eJ23Fc56UFYHg1YGuoei5NA+Hn9lF958stm3bFjt+oAja/sGDB21p8tRvJmr1wq207rYA0C11k4zqYq9rmCZv6Ubc9S9uxmiN7dZkHtqHXlI5mPQYhDIkPYevW4ODg12fyyySJml74YUXLNcUN2a020daJXUPjeuS+tJLL5V+z4JqIRBEzyUN3pbHH3/ccuX7+OOPSxuwru1q+2kniLnuuussV6yNGzfWzp8/n7ng7eVNz/XXX285AFUVN8NkEZVYSY+DiJutVGXXsWPHEsdqZaXHHMTR5x4ZGSn8epz0/D5VYJYRdKg8UiVsL+kYx5XzGiMXfgRD3GRrSYFcEu1L3HGNG3+pewndUxQdpBf9ncbUQSCISZFUo9arRyyILqy68A4NDRVW0Go7w8PDje1mmSX097//veW6p31QgasCTjXKWfYjsGDBAsuVb+7cuZYDUFVHjx61XKekIC6NpMdBKNCLo2Dw5MmThVUe6oZerTxJFAxq34oKzNQilxRYq8w4ffp047VF0HFXQDsZLZzy1FNPWc7vH//4R+P/4YDQpeOfFLinEXcPpIl84maDDYJB3bMUQUHg3/72N1tC5VgXUSAT32Dj+gUy9fgzjbfwbUPLafv8i95P7+tuQ9vOQ4Pe9f7ufqVNGuit9bsZSJ5n3KKOgfrk63Nr/EGa8ZVpaDv6TL73zJOSxuDoM/jWy5p0DIA09H1B/9D10/09d3NN94m6xmctfzQOXdc0dztpktZLM47dx1fupUnBcQxP7pJWN581OK55y0W9t+/zqrzIegxVvvrOvcq5YMyijo+v3NM+5D1nLr1H1DnU39OeI73Ody+VJul90t6z+ehY+MrsbreL3hrQf+onDoBDtYKqITx79mzt8uXL3kcy1C94jdo0tWapZrcX4xoBFGdgYECRoC0B2WkqfnUpPX78eGOM4alTp9qeJ1u/SW/0rlBL0t13393oWpinh4ZL76X3VUuhr4xS2aTnw91xxx21RYsWFTImL/is//znP2tnzpzp+KyiclGfb+nSpbU5c+b0dCxglekxIp9//nnjvFy4cKHjkRC6R9EQDD3SQ9/BIlo2MfURCAIAKotAEABQVYwRBAAAAICKIRAEAAAAgIohEAQAAACAiiEQBAAAAICKIRAEAAAAgIohEAQAAACAiiEQBAAAAICKIRAEAAAAgIohEAQAAACAiiEQBAAAAICKIRAEAAAAgIohEAQAAACAiiEQBAAAAICKGainiWYWAAAAAFAFAxN1lgcAoFIGBgZqFIMAgCqiaygAAAAAVAyBIAAAAABUDIEgAAAAAFQMgSAAAAAAVAyBIAAAAABUDIEgAAAAAFQMgSAAAAAAVAyBIAAAAABUDIEgAAAAAFQMgSAAAAAAVAyBIAAAAABUDIEgAAAAAFQMgSAAAAAAVAyBIAAAAABUDIEgAAAAAFQMgSAAAAAAVAyBIDBFfPnll7Vdu3bVVqxYUZs2bVptYGDgtzR//vzaww8/XHvnnXdqP/30k60BAJgsuhbrmqxrs67R4Wu2ruG6luua/u2339oa1fXhhx/WtmzZ4i3fZs2a9duxUjmYl47zvn37GudD2/S9h/69m/Px2Wef1TZt2tS2/eBc67vQLX2ntK1g23ovoCsTACINDQ1N6GeSNs2cOXNi+fLljfXGx8dtK925ePFiY5u+9/OlG264ofH+AJLpNwMU6dKlS41rsK7F7vU5Km3cuLGxXlZZyoaoNG/ePNta7+k4qdz07VdU0mfOQsd1cHDQu62olOd8pHkPHetu7g3WrFnTtj3KenSLEhCIEb7g5kkqsMbGxmxr2Y2Ojma6mQgnvXeeGwugSvRbAYqim3zd7LvX4zRJ1/osQYJe69tOnlRUxWVa3RwnpbT72837KEBN+z4KHH3b8CWd5zxl8/DwcNt2JjOAx9VjQP+pf6EAeKjrRRGGhoZqmzdvtqV01FVm1apVttSuXkA1up7IhQsXahcvXmzkXfVgsPbxxx/bEgCXfuMUgyiCui0uWbKk9ssvv9hf2ul6LOre98UXXzTyrnqQUDt//nztxhtvtL9EUzfExYsX21J36gFP7bbbbrOlciUdp3D5JqdOnep47djYWO2uu+6yJT918awHS9730XFesGBBI9/t+XDPg9Z5++23aytXrmwsqyz/r//6r7b3qAeOtb1799pSMvez6D20vVtuuaWxDOSmQBCAn34i4RR0/fSlpO4tIyMjttVk6g5av9B3bEPdQnw1lHq922UkSHQdAaLpNwIUwdfypOu479qvFqGo7qMqT9JQbxN33Typly1LKr98n1nlp45TVEuZyjj9u46N1k/TouY7H/qbetq4gvPhvl4p6Xzo38Ov9/UC0vbdz53mMwTcz6LWQaAIlIBAjPCFVykpqNKFXYWVr6BLW3iJW7AoqetJErfriFKW9wWqRr8RoFu+IEI370nX3qjAKM2QAl8g2M90LHwVpnnHR8bp5ny46ylFnQ8FqOHX6T2iuN1H01YOu59Flb5AUZg1FCiQuo9oRrJjx441um6EqUvHoUOHbCmaupl88sknttRUDwxTdSN54oknfut+FND7HjhwwJYAAEXbuXOn5Vr279+f2MVT3TF37NhhSy2vv/665a4eKofcYQxBF8k0XWHTUldP93yoPNYwiTTnox542VLLyy+/bLl233zzjeWaHnzwQct1uu+++yzX9P3331sumu4Hnn32WVtqfo49e/bYEtA9AkGgBCpMfIHb+++/b7lof/nLXyzXkmUsga8Qe/PNNy0HACiSxoC549AU4KQdc6cKPI2LC3v33XcbAc3Vwhecpa3gzOrIkSMd5yNLsKnx/G5FripnfY+V+OqrryzXNGPGDMt1uvbaay3XdPbsWcv56ZitX7/elpoOHz5caNAMEAgCJVHLoMtt6fNxnzU0b968TAPCdfOhdcJUC9vNs5EAAH6ff/655VoU3GWxZs0ay7UooLlaqDXQF5yV4YMPPrBcy7JlyyyXjgJ5lyatSTJ9+nTLJbt8+bLl/LZu3drWgjo4OJg4QQ6QFYEgUCI3IEuibiBuYfnYY49ZLj1f95Q0hRgAIJszZ85YriVta2Dg3nvvtVzL8ePHLTf1ub1SFGiVNeOlWlPDFGRnbUWb7POhVuY33njDlpr3Etu2bbMloDgEgkCJshY+//jHPyzX8oc//MFy6S1cuNByLf/85z8tBwAoim9Md1a+lp6rpReHHhfhjg10x8sVRZWpLj2qIivf+Th9+rTlop07d85yyaICYZ33devW2VKTxpsCZSAQBEqkZ/yFueMOXEePHrVcS9aaZbn11lst1+KrtQYA9Ae3B0maoQRTwYkTJyzXEjxjr2i+ytTf//73lsvGPR++Zw26YwKvXLliuWQ333yz5dpt2rSprWfQ8PBwrvsAIA0CQaAkqtVza0Hvuecey/m5gWPWrqUBX0uku20AQP+4WicB0SzaYXlaTNP67rvvLNfiqxhNw3c+3FZad9vvvfee5Tp99NFHlmvy9dzZt29fWwWAjlXW8aZAFgSCQEl8j4pYvXq15fzcwLGbGwM3iHS3DQAoXt7ZPn1dBX1dHacatyWtrLGB4utOm7ccveOOOyzX8uOPP1quSS114Rlf9VnVFdal70R4zJ96B7ndT7Xehg0bbKn5moMHD9oSUA4CQaAEGugdfvaPKDDzzSQaKHqq8Ku1dhkA+kmaLoRpRHUVnOrcSsjw51TgplYwlY3z58+vDQwM/JamTZtWW7FiRW3Lli3e4MqnyHL0uuuus1y8xx9/3HJN999/f+MeIKB91+cId/d87rnnLNek/XYnhnv77bcpx1E6AkGgQLqY79q1q7Zq1Sr7S5Nq9pIGe3/99deWa1m6dKnliuGrLQUA5Oc+A1DCgUAvaXyZgg436e8qm7RfRVc6xokqc9TSqf3SsVMrmGb6dANoBU7qJrl9+/ba7bff3nh9UhnmbqPobqg//PCD5VoeffTRtsoABb66BwgCWu17eL/0Wj2rMOyVV15pe41mVS1rHCUQRiAIZKApsMOFazipNvN3v/udtyVQYyT6YbC3260FANAd36yUr732muV6S90PFTy5SX9X2aQAReWUWuB60e3UV+aoHF28eHFjv7LQ61Wepm0dLMP3339vuRa12n388ccdLcM+epSFXhum86BgN6Dg+KWXXrIloFwEgkAGqukLF67h5OsOpAv6iy++yIxfAHCV8j2sXGWCujympdfu3LnTlsqnFjgFY+p22csWQokar65ASi14Sr5WVlEroQLvXu9zEgWDerzEyMhII9gLzxCuz6K/jY2N1d5555227p76HH/84x9tqelvf/sbXULRMwSCQImCLiKzZs2atK5CAIDyaPITdeVzqcujWt6iujOqZUvdNVU+6LXhMWRp5J0NM0wtUerRMhmBlYKlwcHBRoA0MTHRCKTUWqakWa5VfvqOq47T1q1bbam/6Hwr2Pv5558bn0lJn0V/8z2b8Mknn2w770NDQx0Vx2ox1Hb1PQmPnwzeC+gGgSDQA0FAqNpXAMDVRV35wq1AAbW8qUVIN/HhoQTB2DF114xqIUuiVqPx8fFGIKWkfBB8BOnSpUuNf9Oz6KK6Lqo3iwKSXlLAc/78+dq2bdu8AZIowN67d2+jlc2lrq5Tfcy7WoH1/Qjo/ITHDio4V7Cnllu9Lvw9UfCov61du3bSAnlcHQgEgQxUeLkFbTjpQj06OtqoxfTdFKj2VTXAAICrh4IyjQX3XfdFZUN4KEFa11xzjeX81HqkQErJNwRB+6V/07Po1OKmoNDX7VJBRa8eVaFyVAFP2u6PCoZ8k74cOXLEclOPgtjnn3/elpqto+GgUB555JGOv/no+0QwiLwIBIECqQZTM32pFlO1rL4aWNUAp63JvHLliuWKEVXzCgDojgIxtXJpPFgWCszU6qUAyVX0+HKVASdPnvQGg6+//rrl+s/TTz9tuZY0k8YUHRz5HgKfh74j4S6humcIP19RXT7DFQa6l1Alc1DprHy40kH3GwcOHLAlID0CQaAkuqhHzSS2e/duy8U7c+aM5QAA/U6tXLqJVwugAju1ZLmthFrW3/Xv6s6pMWRq9eoV7aNvVtM0rU+T5c4777RcS5oKVd8kbpNNvYLC+6Wg0D3/L7zwguVarYXhx0korxbosF5ONoSrB4EgUCIVuK+++qottfgGeJfdWufejAAAyqGKQHV/VGVgeOIQJS3r7/r3cIvfd999Z7kmX3fIoiiQ8JUJveoempWvG+mpU6cs11LmMZOkrrpJdHzDj5jSOdizZ48tNamlMzweUEFiuLUwoO9OuPVZLYz9ev7QvwgEgZIpwHO74eiCXXa3FreQXLBggeUAAP1GY/jC7rjjDsuVoxdlwk033WS5FjfgTcsN8sJdK+PkLUfPnj1ruZZuuupqP9avX29LTYcPH+4Ick+cOGG5prvvvttynebOnWu5pnPnzlkOSIdAEOgBzRjn+vXXXy3X4nYjzdutRQWOW0j6ahQBAJNP12z3er9o0SLLTV2+cqeo2T59LZq+4Pnrr7+2XDbhVjnxjavMQo+8CG9Tj87w9QRy5waYPn265Tq5YxaLnlcAVz8CQaCP+AqaNC2HLl/BV/SkAwCAYvhmwPSNi5uK3HLN16UzDXe2VV+L5owZMyzXkreVzA3MfeP909JzhPXIi4C2pUdn+Bw9etRyQPkIBIE+4nbzkDy1mR999JHlWv7whz9YDgDQT9566y3LNWnsl29c3FTk9ohRb5WsrYK+7p3XX3+95Vp+//vfW64lT2WqAjfXkiVLLJeNPuu6detsqdmSuX//flsCJheBIFAyFWC+50b5uoT4pqb+4IMPLJeeO/ubCh5aBAGg/2iCD7eMWL16teXKkaVc6tbSpUst15K1VdDXYuoLzHz775ucLcnf//53y7XkrUzdtGlT21CNHTt2xJbHZY8NBcIIBIGS+Z7tE/WcKRVi7rgHBXVZak91U+GObdAD7gEA/UUB2TPPPGNLTepKWfbjJHyBVVS51C3fTJ5uC2gS3+uXLVtmuXbu51AQliUY1DlxX6+unHkqU/ft29cWcOtY6OH+ca677jrLNf3www+W6+R2e/V1jQXiEAgCJVJhEp4qOvDUU09ZrpPvBiDtcwfFvamQRx991HIAgH6hCUTcsWgvv/yy5cqhikW1UrniyqXAli1batOmTasNDAw0km87LgVQ7jhBBUdpH3Wgbppu66UCqqgJ0HytqeHn8iV55ZVXOiZb+/Of/2y59NQldcOGDbbU7Jlz8OBBW4o2Z84cyzUdP37ccp3cbq/MDo7MJgBE0k8knIaGhuxf4o2Pj0+sWbOmY30l/T3OxYsXveuNjIzYK6Jt3LixYz39DYCffiNAr126dGmiHsx0XK/1tzT0OqWxsTH7Szoqm+bNm5frfbWuu55SmrJJZae7Xj04bByHOHrPegDVsW7S59a23XXSlIX6LO562lZW+lzucR4dHbV/jad1w+vp8/uOk3uvoPcDsqIEBGKEL7JKKhCCAjgq+QqtIOlCnVTwyeDgoHd9/V0Xf5cKRb23+/qoAgRAk34nQLdUNijpGh0XpOj6raDIV06kLR/EXW94eNhbNgQUUPkqCpW0L3HrBvS5fOunqSDV5/IFZ/qbL5DU633Bo5KOcRIFXb51VU7qWLj0+aOOT9ZgW9wyPM0+h7n7onMcDiS1T/pb+DVpA00gbED/qX+BAHio60tRNG5hz549qWeCmz9/fuRzBOuF528zsWnQvduNReqFe+3YsWNMEgPE0G+cYhDd8pUV4eu0RF2rpX5T35hJMu31Oq5sqgc7lmvyTQoTyFJOqCvn4sWLbamlHrDVNm/ebEvRotYPBPutMXpRZZ+Ok/vg/Sjqxrp9+3ZbaqfPHXSjvHDhQse4+kA9SM08XlNdWVetWmVLze/ByZMnM80Cq2Mwe/bsyO+Lqx441vbu3WtLQAYKBAH46SfSbVKNZ56aOtWIujV+aZNqeH21ngDa6fcCdMu9BmdJGi6QteeGrwdI1qTyJUs5odf6tpOma2jA1/UybVIrWdbjFNXKlyZl+VwB7Z/K3/B28pbFWk/3D+Ft+ZI+I5AXJSAQI6prSlzShVuFtNYtIhjTdtyCJS7lKSyBqtJvBuiWuma61+KkpEAsb3c+XeNVNqQJFNykdfIEOaIujkF5pP/nCUJULmap5MxbmRrQulmOU1T30TTcuQF0jrqh86xzpX0K3wfo8+jY5+m2CoTRNRSYAtRN5NChQ40uPOoyE+7GUi8cGl1c/u3f/q0xnXbUTGoAOtE1FEXRdVqPZdAsj5qZ0+2SWb95b3QV1XP11A2yqG77mjlS73X27NlG2eB2qyzrfbulrqIfffRR7cyZM95ZQfU8vUWLFtVWrlxpf+2OZvHWuVHXUvcYBe/30EMPdXV8dJyD8rkeNNe2bdvWyAP9ikAQAFBZBIIAgKriOYIAAAAAUDEEggAAAABQMQSCAAAAAFAxBIIAAAAAUDEEggAAAABQMQSCAAAAAFAxBIIAAAAAUDEEggAAAABQMQSCAAAAAFAxBIIAAAAAUDEEggAAAABQMQSCAAAAAFAxBIIAAAAAUDEEggAAAABQMQP1NNHMAgAAAACqYGCizvIAAFTKwMBAjWIQAFBFdA0FAAAAgIohEAQAAACAiiEQBAAAAICKIRAEAAAAgIohEAQAAACAiiEQBAAAAICKIRAEAAAAgIohEAQAAACAiiEQBAAAAICKIRAEAAAAgIohEAQAAACAiiEQBAAAAICKIRAEAAAAgIohEAQAAACAiiEQBAAAAICKIRAEAAAAgIohEAQAACjYTz/9VHvnnXdqDz/8cG3+/Pm1gYGB39K0adNqK1asqO3atav27bff2hooy5dfftk41jrms2bNajsXWtY52rdvX9fn4rPPPqtt2rSp7T2Cc63vQrf0ndK2gm3rvYCuTACINDQ0NKGfSdo0c+bMieXLlzfWGx8ft60U79KlSxMbN25se2+9J4Bs9NsBiqTrs67HN9xwQ9s1Oi7peq71ijY6Otool4L3Uf7ixYv2r/2jrDJtZGSk7fOnSYODg7nOhdbzbS+c5s2b19W9wZo1a9q2R7mPblECAjHCF9w8SUHh2NiYba0YKth8Nxh6LwDZ6LcDFEU3+brZd6/PaZKu60VVICrYc4OGIBVdJnWrjDKtm/OgpHWzBINuEBuX9FnzBJrDw8Nt29E+At2iayhQok8++aS2ePHiRpeUbqnLirqErF27tvbLL7/YXwEA/UDdD5csWVL74osv7C/t6oFNI9Vv4O0v7XRd1/rq/tcNdXHUe7z77rv2l/5UZpmW5jwoRdG62rc01B30jTfesKVarR7o1UZHR1XD1EjKh8+5PuvWrVttKR0dq+eff96Wmu/R7+cXU0QjHATgpZ9IOAVdP30pqfuJaj3zUk2gr8Y0nLQPALLRbwcoglpo3Ouyrtu+a79ahKK6j+a9lqsVUOu623NTP7QIllmm6fP5tqVusj5RLZJKacpt95j7jq/Ot/seWVoF3e+Wjh9QBEpAIEb4wquU1B9fF/aoQkV/y9odJG3BrpS30ASqTL8doFsqG9xrsm7ek6756sLoKy+yBmtpAqsgTWYg2IsyLRwI6hyk+bzaL9/x0/pxtF7a17vdR9NWDrvfLXX5BYpC11CgQDfeeGNj9rFjx441um6EqTvIoUOHbClZ0L1H3Utd9YLBcgCAybZz507Ltezfv79RJsS57bbbajt27LClltdff91y8YLulRs2bOjoXqnyox402NLk61WZduuttzbKX23z9OnTtbvuusv+Jdott9xS27t3ry21qIto3Eyi33zzjeWaHnzwQct1uu+++yzX9P3331sumrqdPvvss7bU7BK6Z88eWwK6RyAIlECFu69Qef/99y0XT9NM+wr25cuX1y5evFjbvHmz/QUAMJk+/PDDjmv1xo0bG+VAGk888URt5syZttSk8V9pxgrec889HYGVgoXh4eFGEDR37lz76+TqZZmm4Pvnn3/OvE1V4roVuPLjjz9artNXX31luaYZM2ZYrtO1115ruaazZ89azk/nf/369bbUdPjw4cTKBSALAkGgJCpUXL6aUB+3plA3CRpw/vHHHzdqLgEA/eHzzz+3XIuCuyx8LXdHjhyxXDQFUWEKQM+fP5/5/cs2Vcq0BQsWWC6f6dOnWy7Z5cuXLeenCWXC53dwcDBV6yaQBYEgUCJ1g+lG0L3lwoULtZUrV9pfAQD94syZM5ZrSdsaGLj33nst13L8+HHLJVPL2vj4eKMnSj+3GFGmpaNW5vBMpLqX2LZtmy0BxSEQBEqUt0B+4IEHGoWlxifQDRQA+pfb00NBWVa+lp64sWmBkZGRRlLLWtbgs5eqUqadO3fOcsmiWkJ13tetW2dLTRpvCpSBQBAokWo9w3zjD3xUQKiwpBsoAFSD24MkzVACDUHwDUPoN1OlTDt16pTlWjT5TBR3TOCVK1csl+zmm2+2XLtNmza1jaXUeM9+DvIxtREIAiVRrZ47fkMD+wEAcDEJyOTShDa+mVfjzosbJL733nuW6/TRRx9ZrmnhwoWWa9HMquEKALUu99t4T1xdCASBkvgeFbF69WrLAQCuRmlm+/TxtZbp8QEon87ZCy+8YEstf/7zny3np5a68Iyv6vr65Zdf2lKLth8e86feQW53YK2nmVUDes3BgwdtCSgHgSBQAg30Dj/7R1SzOBW68AAA0nO7dCoYyCOqqyDKpSBNz2J0e/CoNS5Nmf34449brun+++9v3AMEFOBp++HWxueee85yTdqHxx57zJaa3n77bVqJUToCQaBAupjv2rWrtmrVKvtLk2r2GOwNAFcf9xmAEg4E0J80fEPl9ezZszuCdwX3aVvjHn300bbKAAWUugcYGBhopNtvv71t+3qtO2HOK6+80vYaPQaEWVXRCwSCQAZvvvlmo2bPl+bPn1/73e9+520JPHbsGIO9AeAqtGTJEsu1vPbaa5bDZApa49w0bdq0RgCv8todF6jn9WkW1rStcXqdXu+2DPvoeZF6bZi6/27fvt2WmhULL730ki0BJZsAEEk/kW5S/YI+MTo6alsrlvtey5cvt38BkJZ+O0A3Ll682HE9VhoeHrZXJNNrb7jhho5tjI2N2SvyGRoaKnybZXH3s4gyzff5fUnHfuPGjY1z2Y2RkZGJerDXdi51H6C/+Y77pUuXOs77+Pi4/StQPloEgRIFXURmzZpFVyEAuAppkhd15XNp4g+NMYt6HqBaq9Q1UeWDXuu2TKF3dOw1mYta9fT4hjTPcPTR+dbsoz///LNqmBpJj5HS33zPinzyySfbzruetej2HlKLobar70nQ3VQtmsF7Ad0gEAR6IAgIt2zZYn8BAFwt1JVPY8Fd7777bqOrn27iw10Tg7Fj6pqo8gHl8D2iIU4QEOqcKUgvkx4Voe9HwB07qDkHFOwtXry48brw90T7qb+tXbu28X3Sa4E8CASBDFRbF9Ty+ZIu1KOjo43aYd9NgcYBlF24AAB6S+PENBbcd90XlQ16PlyQ0rrmmmsshzzUCucrq5XGxsYaD2uPGtunIF2tg2VQi+Pzzz9vS80J5cJBoTzyyCMdf/PR94lgEHkRCAIFUhchzfS1d+/exgxgvgJGhUvebicAgP6kLn3nz59vTAiShVqfRkZGGhWNLiYZK4+CRD2s/fTp042g0Fdeq3WwjMpbfUfCXUJ1zxB+jqS6fIYrDLRvqmQOgljlw5UOut84cOCALQHpEQgCJdFFPWomsd27d1sOAHC1UMugbuLVAqjATs+ic1sJtay/69/Hx8cbY8jUBRCTR0FhVHlddOWtAsvwoyIUFLrnP/xw+6C1MPw4CeXVAh22c+dOywHpEQgCJdJNwauvvmpLLQzwBoCrlyoCNd5LwUV44hAlLevv+vdwi993331nuSYFi+gdlddRXTGLam3TxC8KLAMK8vbs2WNLTZpEKDweUEFiuLUwoO9OuPVZLYzaPpAFgSBQMtU0qutPmC7YutgDACDqohh2xx13WA69ooDLNwPsp59+arn8NIZv/fr1ttR0+PDhRgAaduLECcs13X333ZbrNHfuXMs1nTt3znJAOgSCQA9oxjjXr7/+ajkAQJUpSAh3F5RFixZZDr3kC7zcc5PH1q1b21r69OB63yMlrly5Yrmm6dOnW66TOyuquy6QhEAQAABgEh05csRyLXfeeafl0EtxgVdeeo6wJp4JaCzitm3bbKnd0aNHLQeUj0AQAABgEr311luWa9LYL7fLIKYmTTSzbt06W2qOC9y/f78tAZOLQBAombr8+J4b5esSAgCoFk3w4ZYRq1evthx6zTfOrpuJe/QswvCjInbs2BH7WBDGhqKXCASBkvlmG8v6nCkAwNVHFYXPPPOMLTVpcjEeJzF5fK11eYOzffv2tQX5Cij17MI41113neWafvjhB8t1coPWGTNmWA5Ih0AQKJEeExGeKjrw1FNPWQ4AUFWaQMSdiOTll1+2XP/ZsmVLbdq0abWBgYFGUmtXv9H+5X0IvMby+SaGeeihhyyXnmYG37Bhgy01u4QePHjQlqLNmTPHck3Hjx+3XCd39vEFCxZYDkiHQBAogS7OqtFdu3at/aVFrYF0CwWA6lJL4IoVK9omEBG1GPVra6DKte3bt7d1c9T+99NzcdXNVvunCljN1p1l37RueCxfQOckriunj87vY489ZktNb7/9dqpxn+4kQfoM2p5LYw/dCWh8zxsE4gxM6OmmALxU4xmmLju+R0GEnTp1qq2gDNOFWg8STioMdNF/8skna5cvX7a/dHLHlKi2Mao2UN1aomYoA6pMv3GKQXQrKBdU0XfvvfdGVvbp5v3QoUO1nTt3dpQTacuHMAUJ7kQzYRcuXGh7ZIHofaLeY2hoKDLoUaC0ePFiW2rROno4fpxelWm+fVS5/Z//+Z+1ZcuWeQMlBbjqwukG5aJ9OHbsWOZAUC2nCpoDelREljJYLa1ukPfiiy/WVq5c2VjW51SX4nDr5ejo6G//DqRFIAjEcAPBbugGYc+ePakK+agCtxv81IFOBIIogq+scCsOkyoJNTYta8ChVkXfZGR5xQV13QSCvSzT4sptN7iMOycyMjKSuYVW3UtXrVplS83vwcmTJzMF+AqcZ8+eHbtvYXoI/t69e20JSI+uoUDJVAiopk41t1kKAgDA1KWWOAVpQYq6qVcloVoCswaBvXbNNddYrl2/TVCi4C2KzkGac6KAcWxsLHMQqADO7V76t7/9LXPZr9erJVL3D0kIAtENAkEghmo6s9KFW2MKtO74+Hija07W7ho33XRToyAqimqbAQDlGB4etlx6ui53W0lY9KMG3IlKwhSoqotjUDbp/wpC0gRLvSzTtD8KwrVvWd9Tr1fZff78+Vxj+dX9NRxcalt5A3ytp5ZEBba6pwh/Ft1n6PMpWCUIRDfoGgoAqCy6hqIoag06cuRIY5ZHjQVUi1OYbt7VVXTp0qW5JiBBPuqq+dVXX9WOHj3a0RVUwZW6iiqgXrRoUWOilm567uj8BmMys44LBCYDgSAAoLIIBAEAVUXXUAAAAACoGAJBAAAAAKgYAkEAAAAAqBgCQQAAAACoGAJBAAAAAKgYAkEAAAAAqBgCQQAAAACoGAJBAAAAAKgYAkEAAAAAqBgCQQAAAACoGAJBAAAAAKgYAkEAAAAAqBgCQQAAAAComIF6mmhmAQAAAABVMDBRZ3kAACplYGCgRjEIAKgiuoYCAAAAQMUQCAIAAABAxRAIAgAAAEDFEAgCAAAAQMUQCAIAAABAxRAIAgAAAEDFEAgCAAAAQMUQCAIAAABAxRAIAgAAAEDFEAgCAAAAQMUQCAIAAABAxRAIAgAAAEDFEAgCAAAAQMUQCAIAAABAxRAIAgAAAEDFEAgCAAAAQMUQCAJTwGeffVbbsmVLbcWKFbVp06bVBgYGfkvz58+vbdq0qfbOO+/YqwEAk+2nn35qXJcffvjhxnU6fN3WdVzX8127dtW+/fZbWwNl+fLLLxvHWsd81qxZbedCyzpH+/bt6/pcqKxWeRx+j+BcF1FG6zulbQXb1nsBXZkAEGloaGhCP5O0aebMmRPLly9vrDc+Pm5byefSpUuN7WibvvfyJb12dHTUtgAgiX43QJGCa/cNN9zQcY2OShs3bmysVzSVB+EyRPmLFy/av/YflZvz5s1rOzZKKlfzlKkjIyOZylClwcHBXOdC6/m2F076bN3cG6xZs6Zte/qeAd2gBARihC+4eZIKr7GxMdtaeiq8s9xEuEk3FQCS6fcCFCUqkEmTdM3vtgIxoGDPDRqClKdM6gUFX3FBW5agp5vzoKR1swSDKnN92/Elnec8gebw8HDbdrSPQLfoGgqU6JNPPqktXry40SUlLXUtWbVqVe2XX36xv2T3xhtvNLqSAgB6Q90PlyxZUvviiy/sL+2WL1/eSPUbePtLO13ztb66/3VDXRz1Hu+++679ZWo4cOBArR7A2lJ30pwHpShaV10w01CZrTI3UA/0aqOjo6phaiTlw+dc53nr1q22lI66rD7//PO21HyPqXZ+0aca4SAAL/1Ewkm1lfXCw5uSup+oi0oaqvV011XNn9YP1xarRlF/07+5rw9Sv9b8Av1CvxOgCL5rsVp/fNd+Xb+juo+qPMlDrYBa192em/qxXNC++/Y1nNK2COrzuevquEQNm9D58Z0HpTTltnvMfcdX59t9jyytgu53S62DQBEoAYEY4QuvUlJBFARnvkJFf0tz4Q8Hgipg0hTaUd1S1DUIQDT9ToBuRVXgJV3zVbnnKy+yBmsKDKKCGTf1YyDoBlO+Mi1PIKhzkObzKhD1HT+tH8cNYONe736mNEGmuN8tynUUia6hQIFuvPHGxuxjx44da3TdCFN3kEOHDtlStIULFzbWrRfstY8//rh211132b9E27t3r7e7kbqOdNvNCAAQb+fOnZZr2b9/f6NMiHPbbbfVduzYYUstr7/+uuXiqcugujBu2LChYziByoR60GBL/evDDz9sDKMIqPx76aWXbCm7W2+9tbGNegBVO336dKoy9JZbbmmUoy51EY2bSfSbb76xXNODDz5ouU733Xef5Zq+//57y0VTt9Nnn33WlprHZs+ePbYEdI9AECiBCndfofL+++9bLpoKrZ9//rn2xBNP2F/SefHFFy3X7uuvv7YcAKBoCmTcIGzjxo2NciANXetnzpxpS01pK/HuueeetiBKgopEBUFz5861v/Ynfcann37alpoUGCcF0HG0rsrQzZs321/SUSWujp3rxx9/tFynr776ynJNM2bMsFyna6+91nJNZ8+etZyfjs369ettqenw4cNdHRvARSAIlESFisstsIu0cuVKy7X74YcfLAcAKNrnn39uuZasFXm+lrsjR45YLpo7uYoC0PPnz2d+/8niThCjVszJ3PcFCxZYLp/p06dbLtnly5ct56cJZcLHZnBwMFXrJpAFgSBQIl93zV5L0/0EAJDPmTNnLNeStjUwcO+991qu5fjx45ZLtnz58tr4+HijJ8pUaTFSl8twt0d59dVXLVdtamUOz0Sqe4lt27bZElAcAkGgRP1QIM+ZM8dyAICiuT09FJRl5WvpiRubFhgZGWkkjSfPGnxOtk2bNlmuSa2ZU73F69y5c5ZLpnGJPjrv69ats6UmjTcFykAgCJTowoULlmvyjT8omzsuAQDQf9weJGmGEmgIgm8YQr8reoKYopw6dcpyLZp8Joo7JvDKlSuWS3bzzTdbrp0C5PCYU433nGpBPqYOAkGgJKrVc8dvaGB/WaJqj2+66SbLAQD6VVUmASljgpgivPPOO96ZV+P2yw0S33vvPct1+uijjyzXpBnCXfv27WsLkNW6PFXGe2JqIhAESuJ7VMTq1astVzxfTaZmoovqfgIAKF7eR/b4rtV6fMDVpt8miBGdsxdeeMGWWv785z9bzk8tdeEZX/W4iS+//NKWWrT98Jg/tYC63WC1nh4DEtBrDh48aEtAOQgEgRKo24s7CF6FXZldeD744APLtUyFZ0gBwFTmdulUMJBHVFfBq0k/ThCjIE3PYnR78Kg1Lk2Z/fjjj1uu6f7772/cAwQU4Gn74dbG5557znJN2ofHHnvMlprefvvtyrQSY/IQCAIF0sV8165dtVWrVtlfmlSzV+ZgbxWueu6U69FHH7UcAKAM7jMAJRwIoKWfJohRuanyevbs2R3Bu4L7tK1xKmfDlQEKKHUPMDAw0Ei333572/b1WvcZh6+88krba3Rcoh4JBRSJQBDI4M0332zU7PnS/Pnza7/73e+8LYHHjh0rdbC3ni/kUm0m3UIBoFxLliyxXMtrr71mOQQmY4KYoDXOTdOmTWsE8Cqv3XGBKk81C2va1ji9Tq93W4Z91EtHrw1T99/t27fbUrNioR8mzkFFTACIpJ9IN6l+QZ8YHR21rZVjbGzM+94XL160VwCIot8K0A1da93rr9Lw8LC9IpleWw+MOrah63s3hoaGCt9mHpcuXWqUh+H9SDo+4dcq6bNk5fv8vqRjv3Hjxq7LzZGRkYl6sNd2LvW59Tffcddxcc/7+Pi4/StQPloEgRIFXURmzZpVSlchdUVdv369LbXUCz9aAwGgB3StVVc+lyb+0BizqBmd1VqlrokqH/Rat2XqatKPE8SE6dhrMhftl7qvRp2zJDrfmn30559/Vg1TI+kxUvqbrwvsk08+2XbeVXa7vYfUYqjt6nsSdDdVi2bwXkBXGuEgAC/9RIpMg4ODtuViqAbTfY96QWb/CiCJfjNAt3wtO+GkVqHly5f/lnyv8aWroUXQ12KaZh/cdfK0COp93O2kTXneLwu1iIbfzy279Z1SS2L4Nb6k75NeC+RBiyCQgWrr6r+byKQaz9HR0UbtcP2mwNZq0TgA1QAXQTWB4emoRe/pmzQGAFAejRPTWHDfdV9UNmh8XJDSuuaaayw3dU3mBDF6H19ZrVQPEhsPa48a26fxg+6+F0Utjs8//7wt+cvuRx55JFV5ru+Txj2qhxCQFYEgUCB1EdJMX3v37m3MAOYrYFS45O12ElBXkbVr19pSi6abpksoAPSeuvSdP38+82N7NDnIyMhIo6LRVeYkY70wGRPEpKUgUd1TT58+3QgKfeW1KluLqrwN03ck3CVU9wzhslsVveHjpn1TJXMQxCofrnTQ/Ya63wJZEQgCJdFFPWomsd27d1suO40r+eMf/2hLLarZZLppAJg8ahnUTbxaABXYafZmt5VQy/q7/n18fLwxhizN8+qmGrVQPf3007bUtGPHjr58Np6CwqjyuojK2zAFluFHRSgodM9/+OH2QWthuHxXXi3QYTt37rQckB6BIFAiFXi+h+XmHeCtIFBTlbuTCqirTT8NvAeAKlNFoJ4Vp+AiPHGIkpb1d/17uMXvu+++s1yTgsWprN8niHGpvI7qillUa5t684QfMaUgb8+ePbbUpHI+fNwUJPp6+ui7E2591n2Btg9kQSAIlEw1jer6E6YLti72Wah29f777/cGgepWAgCYutRFMeyOO+6w3NT03nvvWa5JZZf7PL+45PI9x7fIljpRwKUy1fXpp59aLj/fLN+HDx/uaCE9ceKE5Zruvvtuy3WaO3eu5ZrOnTtnOSAdAkGgBzTts+vXX3+1XDIVICr0wrWEQhAIAFOfrvHh7oKyaNEiy01N7udxJ8xJSi7f+ocOHbJ/LY4v8HI/Sx5bt25tK8P14HrfpDlXrlyxXNP06dMt12nhwoWWa3LXBZIQCAJ9LggC3YJI3Wz6ZdA9ACC/I0eOWK7lzjvvtBx6KS7wykuT5oRn+Vb5vW3bNltqd/ToUcsB5SMQBPpYXBCoMSb9OOgeAJDNW2+9Zbkmjf2a6td3tXiVzW0R60fqvrpu3Tpbao4L3L9/vy0Bk4tAECiZgjlfNxdflxDXk08+SRAIAFcxTfDhlhGrV6+23NSlFq/wJDlZk8v3HN805WhWvnF23Uzco2cRhsf2a+bUuMeCTPWxoZhaCASBkvlmG0vznCkVHu4MZgSBAHD1UEXhM888Y0tNmlzsanycxFTha63LG5zt27evLchXQJk0c+p1111nuaYffvjBcp3coHXGjBmWA9IhEARKpMdEhKeKDjz11FOW81MQGB5PILo5IAgEgKuHJhBxe328/PLLlus/W7ZsqU2bNq02MDDQSCqr+o32L+9D4DWWzzcxzEMPPWS59DQz+IYNG2yp2SX04MGDthRtzpw5lms6fvy45Tq5s48vWLDAckA6BIJACXRxVo3u2rVr7S8tag2M686iAswNAlWA/O1vfyMIBICrQDD+273Wq8WoX1sDVa5t3769rZuj9j/vc3HLoG622j9VwGq27iz7pnXDY/kCOidxXTl9dH4fe+wxW2p6++23U5Xh7iRB+gzanktjD90JaHzPGwTiDEyokzUAL9V4hqlVzvcoiLBTp051POsvkKZrp2ozo9bPSwWZ3hdAO/3GKQbRraBcUEXfvffeG1nZp5t3PfJg586dHdf5PF3/FSS4E82EXbhwoeOxQ3qfqPfQOLyooEeB0uLFi22pRevo4fhFc8vfNO/j20eV2//5n/9ZW7ZsmTdQUoCrLpxuUC6qhD127FjmQFAtpwqaA5o4J2qWUB+3V5DO2YsvvlhbuXJlY1mfU12Kw62Xo6Ojv/07kBaBIBDDLYi6oRuEPXv2JBbyRb5nGD91oBOBIIrgu267FYdJlYQam5Y14FCrom8ysrzigq2pEAhKXBmqwC7cfTLunMjIyEjmFlp1L121apUtNb8HJ0+ezBTgqwVw9uzZqSuFeaYw8qJrKFAyFQKqqVPNbZaCAAAwdbkPQI+6qVcloVoCswaBvXbNNddYrl2/TVCi4C2KzkGac6KAcWxsLHMQqADO7V6aZ1iHXq+WSN0/JCEIRDcIBIEYqoHMShdudcXUuuPj442uOVm6a2jdopWxTQBA0/DwsOXSUytgt5WERT9qwJ2oJEyBqro4KkgS/V9BSFljGnV8AnqvuH0L0/4oCNe+Bfuall6vsvv8+fO5Hk2hRz6Fg0ttK2+Ar/XUkqjAVmV4+LPoPkOfT8EqQSC6QddQAEBl0TUURVFr0JEjRxqzPGosoFqcwnTzrq6iS5cubdzY93sL4NVCXTW/+uqr2tGjRzu6giq4UldRBdSLFi1qTNTSTc8dnd9gTGbWcYHAZCAQBABUFoEgAKCq6BoKAAAAABVDIAgAAAAAFUMgCAAAAAAVQyAIAAAAABVDIAgAAAAAFUMgCAAAAAAVQyAIAAAAABVDIAgAAAAAFUMgCAAAAAAVQyAIAAAAABVDIAgAAAAAFUMgCAAAAAAVQyAIAAAAABUzUE8TzSwAAAAAoAoGJuosDwBApQwMDNQoBgEAVUTXUAAAAACoGAJBAAAAAKgYAkEAAAAAqBgCQQAAAACoGAJBAAAAAKgYAkEAAAAAqBgCQQAAAACoGAJBAAAAAKgYAkEAAAAAqBgCQQAAAACoGAJBAAAAAKgYAkEAAAAAqBgCQQAAAACoGAJBAAAAAKgYAkEAAAAAqBgCQQAAAACoGAJBYAr48MMPa1u2bKmtWLGiNm3atNrAwMBvaf78+bVNmzbV3nnnndpPP/1kawAAJpuuy7o+69odvm4rzZo1q/H3ffv21b799ltbozjaprb98MMPN8oJ9/313v1SdsSVccFx2rVrV+3LL7+0NfrTZ5991jim2udg//V5tP86zt3SedK2gm3rvYCuTACINDQ0NKGfSdo0c+bMieXLlzfWGx8ft63kc+nSpcZ2brjhBu97+ZJeOzw8bFsAkES/G6BoWa/dShs3bpy4ePGibSE/lT1r1qzxvkdU0r6Ojo7aFnpHx0nlpm+fopLK2CK456jb7Q4ODrbtpy/Nmzevq3sD97zqMwDdoAQEYoQvuHmSCpaxsTHbWnoqkLPeRISTbigAJNPvBSiKKvB0s+9ek9MmXfe7CRQUGPi2myYpyOgVfcZujlM3x0hlctR756Uy17c9X9I51vckK1XyhrejzwB0a0D/qX+hAHio60UR6oVzbfPmzbYUT11fbr/9dltqVy9AagsWLGjk1UXkiy++aOR9BgcHa9u2bbMlAD76jVMMoghBt72o63L9xr124403NvIXLlyoXbx4sZF36Tqvbdxyyy32l3TUTfCNN96wpU7Lly+3nL/80L9//PHHtlQelXFLliyp/fLLL/aXdjNnzmx0rQycOnWq47X1YK5211132VI6+syvvPJKbfv27faXTnmuBeoOunjxYltqnr+33367tnLlysayur3+13/9V9vxrgeOtb1799pSMnXz1fcnOA55vyNABwWCAPz0EwmnoOunLyV1bxkZGbGtxvPV6Kq20VcDGnQfdV8fpCK6GQFXM/1OgCL4ugaq9UfXfl8LkK7PUddvlSlZRLVIRZUdAbWOab+1n9qXsmlf9F7ufqr8jDpOomOlf9dx0fpZW9T0OdN0Qc1D+xTehq8XkPbX/dxZPoPbgskQEBSFEhCIEb7wKiUVlLqwq7DyFXRpC6/wjYG66qQJ5tSVNPxeQVIBDyCafidAt3Sddq+/uuan6cKo17jrKqWtyHO7DCrpvX0ByWRS+ecLxhSsZgmKstB204zdC1JW7nmP667pBut5K4d72YUXVz9mDQUKpG4/mqHt2LFjja4bYerScejQIVuKtnDhwsa69eCuMctYmq4f6oJSL2RsqeXdd9+1HACgLEeOHLFci7r+3XbbbbYUTa9RV36XukQmUXfH559/3paaVH6oDMradbJsBw4c6OgOq3JLxynoMlskddm88847vV1B68FUo6tlt7755hvLNT344IOW63TfffdZrun777+3XDR9hmeffdaWmud2z549tgR0j0AQKIEKdl////fff99y0VR4//zzz7+NL0jriSeesFyLW+gCAIqnwMu1bNkyyyW79957LdeSJlBQcOWOnzt8+HCqALSXFLDu3LnTlpqWL1+eaZxcFhpTp3F7bhk4c+bMxvhCVbIWEXx+9dVXlmuaMWOG5Tpde+21lms6e/as5fx0zNavX29LTTq3ZQTNqC4CQaAkahl0ffLJJ5YrXr8V/ABQFZcvX7ZcS5Yb9jytd77gSi1s/dYSKL6AtawgUH788UfLNaklbWhoqDFJT5nHZ/r06ZZL5vvOhG3durUtkFWrcT+eW0xtBIJAiYroegIAuLopqMtK3VHd4Oo//uM/LNdf3nzzTcs1KWDt1YyXeq/z58+nnrm7H2im0fAMsLqXYBZwlIFAECgRXTgA4Op3/fXXW65F3RPTOnnypOVa5syZYzm/Dz74wHJNChb68XECelyE20XTHS9XNLWcqQVQ3UDLGoPoc+7cOcslizpX+t6sW7fOlpr2799vOaBYBIJAidQNJcydQKZIKmxdtEgCQPn0XDzX7t27LZfstddes1yTyoqkceKffvqp5ZriJiqZTCdOnLBcS9Yx8HmoBbDsrpTumMArV65YLtnNN99suXZ6HmS4pXd4eJihHygNgSBQEtXqubWg99xzj+WKt2/fPsu1lPl+AICmBx54wHIt6tqnSUmS6DXu+PHnnnvOcn6q+HO7hWrG6X7kTqSjSWKuFrfeeqvlmt577z3Ldfroo48s1+Q7XyrHw98FHSvfRHBAUQgEgZL4HhWxevVqyxVLNwXh8QSBRx991HIAgLKo66G6IrrWrl3rraQLKAjUa8LUkyNpPNvXX39tuZabbrrJcv3liy++sFxTP3ZfzUstdZqJNKDP6uudozGg4TJaLb5ua6XW27Bhgy01X3Pw4EFbAspBIAiUQAO9w8/+ERXuvplEu6XCw9ctSTclV1OBCwD9TMGbrzu+bu5XrFjRMWZwy5YtHUGgbv4//vhjW4rme7RE+HqvMkjb1/tOmzatNjAw8FuaP39+oyxSEJpnkpqs3J4x4S6ROiYKlLU/2q/wfmq/tf/6HL7gql88/vjjlmu6//77G8c/oH3X5wi34LotvjoPjz32mC01vf3228wzgPLZg+UBeOgnEk714Mr+xe/SpUuN17jr1Qv3ifHxcXtVMbS9jRs3dryXkv4OIJl+L0BRVAbUg8GOa3KQVD6Mjo5OzJw5s+PftJ7WT8N37Q/KH5U37r9FJb12eHjYtlq8ehDY8Z7ax7GxsYnly5d3/Ftc0uu1vaL43j+PpHPuJr3WNTg42PYaynD0yoD+U//SAfBQrWSYuoDMmjXLltqpRs/tAiOqIdaMX3kGe6vG9q233rKllqjnEao2eceOHYwpAFLSb5xiEEVTK9b27dttKZmeEffv//7vqVuA1MIULgd07Rd33GBaesRCGc/1++yzzxoPdg9TOeq2Eqalz6kxh0VMnuIeQ8l7LVD5r+357gHC1qxZU9uzZ0/beXaPkY6PZpGlNRC9QCAIxHADwax0QddscHlnSPMVVD56H3VP0ZhACg8gPQJBlEU3+OvXr48NehTYqAtg1jIibdmg7S9YsMCWoisRZWhoqPBn7fkCwSiqNA3KL824HXXc9Jn0XMBuy7oiA8GAKm/1WA/N6BoE5Sqf9dmeeuqpjnGBCiBnz57dFsCPj48zSyh6R4EgAD/9RIpI9YKg0R0oq6xdZ/Q+6naTtnsRUHX63QBl0HU4qvt+ONUDm8zdM+PKBv3byMhIZDdK/ZvKCt+6RXa9FHUB9b2Pkj63ukTqNT7al6jjV0TXyaK6hnZjzZo1be+v8tul46PXhc+Zjp3+pnMJdIMSEIgRvkAXkVToZaFCwbedpKRCIk/gCVSNfi9A0RTY6TrsXpvjksaOpR1L7gtitH5UUOWKGtdW9Ni0qEAwS4Wlgh3fNroNWic7ENR3JPzeOh9hOj5uoOhL+hxU/iIvSkAghnvB9dXWhalgUgCmwjTqJiBpG2nooq8CVoFlVM2uErWFQDz9ToCi6NrsCzCUguBH1+W4IDHNdbuIIMYXpGm/iuR7jzxloO/zdjvJzWQGgrpXCH8HlHcD26jvkS8piCQYRB48PgIokKbv1lgPDbrXoPH6xdn+pUWPlXCnEc9KYyM01mDbtm2NsRT1G4ffJgsI09TkGqMBACiXHhOg8V7uuLP6DX1jvJvG3+narUclaIxbPSCyV7TTdVtjzcqmMsQtozRWrdvyqQxPP/205Vr6+ZESSTRpTHhcoO4Zwo//0PkPf490nkZHRxWpNpLy4TJf9xsHDhywJSA9AkGgJLqo63lQvmBw9+7dliuGbiw0k5ovGNRkBQCA8mjSDz3P1Z21c3h4uFEOuM90VUCowFATg/jKiF5V4t1zzz2Wa/nxxx8t1z/uvPNOy7X0Y8Caxq5du9pmF1VQ6D5j+IUXXrBcc3Kcd999t21CIeVV5oft3LnTckB6BIJAiVTYv/rqq7bUUkZtr2YZ803/rZro8MNtAQDFeuSRRzqCQPXUSHqUj67bURWGvajEu+666yzXcu7cOcv1D98MoadOnbLc1KHgXr2CAgry9DiJMLV0qtwOKEh0KxJE3x0FkQF9/+gBhKwIBIGSqfvNzJkzbalJF+wyurWowHDfSz7//HPLAQCKpJtvtzuor5UnioIcBYPutVvBQFSloS8wyNNCtnDhQsu1XLlyxXLdu+mmmyzX8t1331kuG3WxDXMD736nVmM3uD98+HBHkHvixAnLNd19992W6zR37lzLNfVjEI/+RiAI9IDvIfS//vqr5Yrl6+pz5swZywEAivSXv/zFci1ZHiYvCgZefvllW2rRM+l8br75Zsu1FNWl09dKmFdRAauPbyhEP9u6dWtbS9/g4GDHcwXFDcSnT59uuU5uIF9kEI9qIBAErjK+GwQAQDn08PAwdfP0BUBJli1bZrmWy5cvW67djBkzLNeSpzXoH//4h+Vafv/731uuGG5LZ94unW6ra/hB+f1OwzPeeOMNW2p+RzTZm8/Ro0ctB5SPQBAAACCncCuP+MazpZFlPV8rUZ7hBr4WpGuuucZyxXB7xKhLZ9ZWQXWrdF1//fWW62/6rOvWrbOlZkvm/v37bQmYXASCQMlUgLk1meLrElKEs2fPWq5l6dKllgMATHW+8sNtmUxDs1GGKUjRJCRF8pU/WVsFjxw5YrkWzdI6FWzatKltPOOOHTtij/Edd9xhOaB8BIJAyXzP9gnP9FUkBZ1uwS5z5syxHACgSO5YNVX8+Vqwkvha9OK6mLrliFoms8waqde6rZlpJ7jJwp3kRd566y3LpeN7va8rbb/Zt29fW0WwjkXSTLLuGM0ffvjBcp3c7sC+LsNAHAJBoESa8S08VXTgqaeeslw73QhMmzYt9+MeXnnlFcu16CYl/PwhAEBxfBN05Xm4t4IGV9yMkatXr7Zci2/CmSjPPPOM5Vr+9Kc/Wc5vy5YtjTJqYGCgkdTalUStX+44QQVHaYNWlYdurxoFVHnGYfaSyvMNGzbYUrMsPnjwoC1Fcytujx8/brlObuXBVBo3iT4xASCSfiLhNDQ0ZP8Sb3x8fGLNmjUd6yvp71G0/eB19YJuYmxszP4l2fDwcNv7BCntPgNVpN8I0I2RkZGO667S6OiovSKZbxv1wGHi0qVL9opO+je9xl1PZUGSjRs3dqynMieOyjV3HSXte5Jw2RakenAY+/lE7+n7jFnKxij6vO52i6LPNW/evLZtp/0+aN3welHfg4sXL7a9Tu8HZEUJCMQIX2SVVHCp8IhLvkIrSLpQxxV8vsJS21RBG7WeChe9xl1PKen9gKrT7wTolsoG9/qrpIBLwUyUuOt3moAuqgJQ76tAwaUAyg1QlFRu+V4fpnXd9ZTSVDaqHPIdI/3NF0jq9b7yUGlwcNBeFU+vC8plX/KV1b7XKakCN0tZqvcObzftPgfcQF3nLBxI+s5jlooHIDCg/9S/QAA81PWlKBrPsWfPntiZ4dRVZvHixbbUqV5ots3A5puEJlAv5GrHjh0rfOA/cDXRb5xiEN1SFz1NXhL3kPN6QGG5prjrdz0QqO3du9eW4q1YsSJyW+EyQxO0RO1fPYhIHEIQVT7VA7ba5s2bbSlaUvkWHB+Nr/ziiy8aeVc9+KmdPn3aluIVWX5LPfhKNcmburKuWrXKlprn4OTJk5lmhdUxmD17duqH5mf5vgBtFAgC8NNPpNukGs8sNXVuTWCepJrCpNpdALQIojhR3RizpqytR2qp8rXypUna37TdLLvpGhrwdYFNm1Q2ZmmV822jm5TmOGn/3O9AXItwHK2n+4fwtnxJxwXIixIQiBHVNSUu6cKtriRaN28BoAInaoxhXNJ7ZymUgarT7wYoigIBBXJ5AkKVG2mDMp+s5VXWwErCn03/zxOEqFzMErhmrUwN5A2OfUmfNU3lqltu65x0Q+dHZbq+G+HvlI6Jjn033xdA6BoK9DF1D9Hzk/75z3/Wzpw509H9p14YNLr96DlNCxcuLO3ZhMDViq6hKIN77fZ1y1RXSD0UXV1K9SiEImbB1PseOnSoMSxA3SvrwYv9S7O8UNfKIt+vG+oq+tFHH3nLNh0bPU9v0aJFU2rWa5XHwTGvB821bdu2NfJAvyIQBABUFoEgAKCqeI4gAAAAAFQMgSAAAAAAVAyBIAAAAABUDIEgAAAAAFQMgSAAAAAAVAyBIAAAAABUDIEgAAAAAFQMgSAAAAAAVAyBIAAAAABUDIEgAAAAAFQMgSAAAAAAVAyBIAAAAABUDIEgAAAAAFQMgSAAAAAAVMxAPU00swAAAACAKhiYqLM8AACVMjAwUKMYBABUEV1DAQAAAKBiCAQBAAAAoGIIBAEAAACgYggEAQAAAKBiCAQBAAAAoGIIBAEAAACgYggEAQAAAKBiCAQBAAAAoGIIBAEAAACgYggEAQAAAKBiCAQBAAAAoGIIBAEAAACgYggEAQAAAKBiCAQBAAAAoGIIBAEAAACgYggEAQAAAKBiCAQBAABK9uGHH9a2bNlSW7FiRW3atGm1gYGB39KsWbMaf9+1a1ftyy+/tDWy+fbbb2v79u2rPfzww7X58+e3bV/v1+32i/bOO+/UNm3a1Niv8L4qBcdDn0efa6r47LPPGp9J+x98luDY6/N266effmo7XnovoCsTACINDQ1N6GeSNs2cOXNi+fLljfXGx8dtK+XRe8ybN69jP7QPvXh/YKrT7wUok8oDlQ3udTou6Rqe1tjYWOP1vu1EJb3+4sWLtoXe0vG44YYbvPsVlTZu3Fj4/rr7keWY+wwODrbtsy+pvO6mbF6zZk3b9vQZgG5QAgIxwhfcPEkFiwrpMly6dCn25oICAkim3wpQhqiKurQpKWBQGeAGBlmSgqBeVhhqf7s5HkXtr8rkqP3IS4Gqb3u+pM+hY5HV8PBw23b0GYBu0TUUKNEnn3xSW7x4caM7TtEOHDhQu3jxoi0BAPqFul8uWbKk9sUXX9hf2s2cObO2fPny31I9OLB/afn1118t5/fkk0/W3n33XVtqVw8SYrctv/zyS2Mfe9H1MujSGHU8wvurY+PT7f5qH9Q1V2Vy1H7koe6gb7zxhi3VGsd7dHRUUWUjKa/PF9Dn2Lp1qy2lo8/8/PPP21LzPaLOPZBJIxwE4KWfSDgFXT99Kanrz8jIiG21e+oi43uPcKJFEEim3wpQJLVaqdXHvSarjFA5ENUapOu6/l3lidZPajXKsv24VjC1ZpXN121SnzFqf3UsVIa56yjp+GSlz59URivlof0Jb8PXC0if0f1OJJ3fMPfcqXUQKAIlIBAjfOFVSgqudGFXwea7CUhTsKflFjy+bikEgkAy/VaAouga7ws4dI0u6vofCLYdBFRJ9P5u2RGkovctzFdxqX1O081Tr3HXVdI209DnSjN2L0hZuZ9NAVsUt5xOc87EDYjVHRgoCl1DgQLdeOONjRnbjh071tEdR91BDh06ZEv5aeY5dTkN6H1eeuklWwIATBZfl/16AFDbu3dvo3woUj2oq9WDgtr58+cb5U4Svb/2w+fIkSOWK55v29qP2267zZai6TX1QM6WWk6dOmW5aOqyeeedd9a2b99uf2nRcQt318zrm2++sVzTgw8+aLlO9913n+Wavv/+e8tF02d49tlnbalZ3u/Zs8eWgO4RCAIlUOHlK3Dff/99y+WjMQ5PP/20LTXt2LGj8BsMAEA2uj7v3LnTlpoUrEUFX936+OOPG48kyHL9v+WWWxpBkCtNUJKXKkZdy5Yts1yye++913ItSfurMXUaC+gG5TNnzqyNjY1lPm5RvvrqK8s1zZgxw3Kdrr32Wss1nT171nJ++j6tX7/elpoOHz5MeY9CEQgCJfHV0IZb8vJwa5tVo/nEE0/YEgBgsuj6rJ4fYWUFgd2YO3eu5Xrj8uXLlmvJEszcddddlkvvxx9/tFyTWtKGhoZqFy5cyLW9tKZPn265ZL7jEqYJZcLlvVpGy9x3VBOBIFCiIrqeBFTDGe4iIq+++qrlAACT6c0337Rck7qEqgUO3VHLWDd0HtR9dvPmzfaX/qchIOGZSHUvsW3bNlsCikMgCJSoyC4cmzZtslyTCjdqBwFg8ulxEW43RHdMWFVdf/31lmvJ8giIkydPWq5lzpw5lvNT2agWQHUDVatsr7pTnjt3znLJoioJdGzWrVtnS0379++3HFAsAkGgROqGEuZOIJMWE8QAQP86ceKE5VpWrlxpuf7iG5uWFFh1Q8/+c+3evdtyyV577TXLNan8S3Ns1QJYdmWpOybwypUrlkt28803W66dKn3DXYyHh4dTTawD5EEgCJREtXpuDfE999xjufSYIAYA+ps7IYomielHKpd8DyLX7JpleeCBByzXom6PmrAliV7jjq1/7rnnLDf5br31Vss1vffee5br9NFHH1muaeHChZZr2bdvX9vn1feIeQBQJgJBoCS+R0WsXr3acukxQQwA9LcvvvjCck39OjbQ9ygGDTMos2JR21Y3TdfatWsbgU8UBYF6TZjKv34a66eWOs1EGtD3QN2EXarQDY/5U6um21qp9TZs2GBLzdccPHjQloByEAgCJVBXTndiFxVgaZ71FMYEMQDQ/9zeH+Fuf7qOK+DR9X/+/Pm1gYGB39K0adNqK1asqG3ZssUbQBRJXQ7d1sBeDTNQ8OabPE2Bjz6/jlGYjocbBGpf9ciMfvP4449brun+++9v3AMEdF71GcPdPd1WTQWKjz32mC01vf322/T8QfnswfIAPPQTCaehoSH7F79Lly41XuOuVy/AJsbHx+1V6S1fvrxtOxs3brR/6RR+nVLSvgJo/m6AbtSDQO/1d2xsrOManpT0em2vKCqTRkZGJmbOnNnxXnnLpby0L/VgsGM/gqRjNjo66t1Xraf1i+Q7N3kkfS436bWuwcHBttfElfVAkQb0n/qXDoCHamzD1AVk1qxZttRONXpu9yBRLahm/Mo62Fs1iqtWrbKlZm2opsCOqiF097VeqE6p6bKByaDfDcUguvHZZ581Hl4eprLCbSVMS9d6jTlMW2ao7HnyySc7nkunycqi9kFjzzSb5mR0YVVr3/bt220pmbqz/vu//3vhrWNqpXPHH+a9FugcaHu+e4AwPcx/z549bZ/F/f7ou6OZUmkNRC8QCAIx3OAqK13QNeNZ1tnjVKho8H64ENfMYXFjAwkEgewIBNEtXyAYRRWDwQ1+XKCWVPEXluX9FQCqbJjsWSi1z+vXr48NlnUM1D2yrNlXiwwEAxrX+MEHH9Q+/fTT37qC6j5A5/2pp57qGBeosn727Nlt3UbHx8eZJRQ9wxhBoEQq5NSqp1bE8JiBJEwQAwBTn4IZtWjpeXYKMk6fPt0Y56YUBIKarMWlwGDr1q22VBwFPrfffntjvKKCscmi2TaTZtHWMdDz9OImlOk3Oq4KBn/++efG+VbSedbffI+yUEtuOAj0Bek6T9qu7iNUcaWksaXBewFdqX9JAUTQT6TIpHEASeo3Bh3raaxJEncdjbcAEE+/FaAbuj67118lXYPTjmvTOD7fNlQeJNF71ANO7/pJac2aNYWPvUsyPDyceX81rq7o8YxFjRHMS8ch/N76jGE6Lzo/4df4kj5Hr88hrh60CAIZqLau/ruJTKrdHR0dbdTwqibYpXERu3btsiU/zewWpm2V/VBcAEBxVFaoa37acV5q3VG3TdeRI0csF03vEW6BCid1M6wHmY2xaT6aRVRdJNVFsWzBODrNFBpuBRMdr3ow09hXX9mpsXdqybxaWsA0S+rzzz9vS82WY3dG10ceecT7zEeXWnl7dQ5x9SEQBAqkgfcaz6BB+Cq41KXTpcdBuFNlB9R9NDxmQYVDL6b2BgBMrqefftpyLd0+UkLdDIMuhKqo9AWEKqsUdJRJn0Nj4dwxeQp+tV9B0Kx91dhIBYY+eqTE1RAM6jyEg2F34h59xvCx0r2EKpmDAF/5cMCsc6ghJUBWBIJASXRR1zgQXzC4e/duy7WoNs+9EdixY0fqGmUAwNSlCcJcUZWGeahMUoDhG5OooKOsAEtl25IlSzpaATUBmspId+ZSlXkKDNWa6Ss/FQxO5vjGbqlXUHh2UQWFCoDDXnjhBcu1WgvDk+Yor5llw3bu3Gk5ID0CQaBEKtB8D4D3FbhMEAMA1eWr9Dt16pTliqPWJ81k6fqf//kfyxVLrY1uEKguoEnlm1ozoypTNePoVKQAVr2CAgry9DiJMLWehu8FFCS6wbLo+IRbeHWMp3KAjMlBIAiUTOP73EJXF2y3y897771nuSa9Rv3+0ybXm2++2fGaImuXAQC12k033WS5lu+++85y2bjjBN0Aqigvv/yy5VrUSlX0ODMFJm53UF8LWBQFxwoG3TJUgdJU6yKqY+sGsIcPH+6oADhx4oTlmu6++27LdZo7d67lms6dO2c5IB0CQaAHfA+h//XXXy3XFO4qIiroVICmTS7f+ocOHbJ/BQAUwddaU1SlW3gcWJEWLFhguXZff/215Yrxl7/8xXItWR4mLwqUfIGrntc3lehxIOGWPj1WxDcR3JUrVyzXNH36dMt1WrhwoeWa3HWBJASCAAAAXXBbrPJ26XQr9aICtm75gtcy6MHqYermmee9ly1bZrmWy5cvW67/aSK4N954w5aax2Hbtm221O7o0aOWA8pHIAj0CdUOls2tPQQAdM/t9aEunVlbBX3dMq+//nrLTU3hFjDxjYNMI+96/UDfAz0YP6BW3v3799sSMLkIBIGSqXB3a3nF7RKi2sHw85+yJpfvmYc8jxAAird06VLLtWRtFfQ9M1CzbZYh6rEUlBHF07OBw2M9NRu4JnqJcscdd1gOKB+BIFAy37N9fM9yAgBMTb6Hwb/11luWS8f3el+XyCL89a9/tVyLb3bObrljHFUpmmdCGl/g2qvurd3Yt29fW0WwvidJs6Ved911lmv64YcfLNfJnRxmxowZlgPSIRAESqRZzcJTRQeeeuopywEApjq18LjjBBUApJ3OX2PI3J4jChqigh3NuqmUJ6hSV8XweLXAY489ZrloW7ZsqU2bNq02MDDQSGrtinPPPfdYriXPg88VULniZtPsBwpeN2zYYEvNoPjgwYO2FG3OnDmWazp+/LjlOrkBclljSnEVmwAQST+RcBoaGrJ/iTc+Pj6xZs2ajvWV9PcyuO+Tdl+BKtNvBSiCrrnudbgeHE5cunTJXuGn8qIeJHSsOzY2Zq/oFLxG6+l9k94jcPHixYl58+a1vU+wnTT76a6nNDIyYq/opH/zrTM6OmqvSObbRpr9TVIPtDu2WxTtm3uc035mrRteL+qz6lyGX6f3A7Ia0H/qXyAAHqrxDFONr+9REGEaFxL17Cd1vdEzkcoY+O7uq8YIbt682ZYA+Oh3QzGIIqh17s477+yYIEXlhh5/4D47T69X65iv14gmD4uaVVLc6309WKht3Lix9tBDD3nHn6kVUI8P2rlzp7d80gPek57tp9bNxYsX21JLUlmjMtM9JqL9VTfJqPFyaiV97bXXvGPsh4eHE7tYqvXyzJkzttTJV1b7uviKJu3Rg9/Tlt167/BjMpLOp0stre4soy+++GJt5cqVjWWdi2eeeabtsVP1QPO3fwfSIhAEYriFbTc0LjBLQZIVgSCQHYEgihQVLAWCQENBoPvs2IBu+k+fPm1LfitWrPAGSIFwQHPhwgVvIBZQQLZ3715bipY3EFT3RU16E1VBKm4AFvfZ0u5vkeW3jI2NpZpMRwHsqlWrbKlZEXDy5MlMZb++H7Nnz449ZmFpjwnQQYEgAD/9RLpN6hqUpRtMXu77qrsQgHj6rQBFiuoOmSbVb+hTdXmM6k6aNQ0PD9sWk+XpGhooan8HBwdti8l863eT4rrqBnTu3M+pz56H1tP9Q3hbvqTvDJAXk8UAMVTTmZVq/1S7qXXrF/JGbWwvumuoFjmgbkLugHMAQPnUxVLX/vA1OYnKDXXtU6tOmpYjdac8f/58o5zRulmpBUmthEndK8P0nuriqPJF9H9tJ6lLqQT7G14/C5WpapHL0r0yy/FPon2+6aabbCnak08+2daKp/MT1fU1idZTS6K67erzh4+bzrmOvY4JLYHoBl1DAQCVRddQlEndKT/66KPGWDXfrKB6ZtyiRYu6rixU90tt/+zZs40up25XUL2XZiDVTJuaWXIyH72gbo96ZuI///nPxnGJGquncXnqUqpHaEyFR0VIeDxk1nGBwGQgEAQAVBaBIACgqugaCgAAAAAVQyAIAAAAABVDIAgAAAAAFUMgCAAAAAAVQyAIAAAAABVDIAgAAAAAFUMgCAAAAAAVQyAIAAAAABVDIAgAAAAAFUMgCAAAAAAVQyAIAAAAABVDIAgAAAAAFUMgCAAAAACVUqv9/37Aba7J0iexAAAAAElFTkSuQmCC)"
      ],
      "metadata": {
        "id": "-dkm_MDXO3Qu"
      }
    }
  ]
}